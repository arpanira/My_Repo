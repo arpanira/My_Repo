{
 "cells": [
  {
   "cell_type": "code",
   "execution_count": 1,
   "metadata": {},
   "outputs": [
    {
     "name": "stdout",
     "output_type": "stream",
     "text": [
      "[8, 27, 64, 125, 216]\n"
     ]
    }
   ],
   "source": [
    "# Write a Python program to triple all numbers of a given list of integers. Use Python map\n",
    "\n",
    "a=[2,3,4,5,6]\n",
    "trpl=list(map(lambda n:n**3,a))\n",
    "print(trpl)"
   ]
  },
  {
   "cell_type": "code",
   "execution_count": 2,
   "metadata": {},
   "outputs": [
    {
     "ename": "AttributeError",
     "evalue": "'list' object has no attribute 'map'",
     "output_type": "error",
     "traceback": [
      "\u001b[1;31m---------------------------------------------------------------------------\u001b[0m",
      "\u001b[1;31mAttributeError\u001b[0m                            Traceback (most recent call last)",
      "\u001b[1;32m~\\AppData\\Local\\Temp\\ipykernel_17804\\1732871925.py\u001b[0m in \u001b[0;36m<module>\u001b[1;34m\u001b[0m\n\u001b[0;32m      1\u001b[0m \u001b[0ma\u001b[0m\u001b[1;33m=\u001b[0m\u001b[1;33m[\u001b[0m\u001b[1;36m2\u001b[0m\u001b[1;33m,\u001b[0m\u001b[1;36m3\u001b[0m\u001b[1;33m,\u001b[0m\u001b[1;36m4\u001b[0m\u001b[1;33m,\u001b[0m\u001b[1;36m5\u001b[0m\u001b[1;33m,\u001b[0m\u001b[1;36m6\u001b[0m\u001b[1;33m]\u001b[0m\u001b[1;33m\u001b[0m\u001b[1;33m\u001b[0m\u001b[0m\n\u001b[1;32m----> 2\u001b[1;33m \u001b[0mtrpl_1\u001b[0m\u001b[1;33m=\u001b[0m\u001b[0mlist\u001b[0m\u001b[1;33m(\u001b[0m\u001b[0ma\u001b[0m\u001b[1;33m.\u001b[0m\u001b[0mmap\u001b[0m\u001b[1;33m(\u001b[0m\u001b[1;32mlambda\u001b[0m \u001b[0mx\u001b[0m\u001b[1;33m:\u001b[0m\u001b[0mx\u001b[0m\u001b[1;33m**\u001b[0m\u001b[1;36m3\u001b[0m\u001b[1;33m)\u001b[0m\u001b[1;33m)\u001b[0m\u001b[1;33m\u001b[0m\u001b[1;33m\u001b[0m\u001b[0m\n\u001b[0m\u001b[0;32m      3\u001b[0m \u001b[0mprint\u001b[0m\u001b[1;33m(\u001b[0m\u001b[0mtrpl_1\u001b[0m\u001b[1;33m)\u001b[0m\u001b[1;33m\u001b[0m\u001b[1;33m\u001b[0m\u001b[0m\n",
      "\u001b[1;31mAttributeError\u001b[0m: 'list' object has no attribute 'map'"
     ]
    }
   ],
   "source": [
    "#Checking if \"array.map\" operation is supported as dataframe columns support,Have to pass as argument only.\n",
    "a=[2,3,4,5,6]\n",
    "trpl_1=list(a.map(lambda x:x**3))\n",
    "print(trpl_1)"
   ]
  },
  {
   "cell_type": "code",
   "execution_count": 4,
   "metadata": {},
   "outputs": [
    {
     "name": "stdout",
     "output_type": "stream",
     "text": [
      "[2 3 4 5 6]\n"
     ]
    },
    {
     "ename": "AttributeError",
     "evalue": "'numpy.ndarray' object has no attribute 'map'",
     "output_type": "error",
     "traceback": [
      "\u001b[1;31m---------------------------------------------------------------------------\u001b[0m",
      "\u001b[1;31mAttributeError\u001b[0m                            Traceback (most recent call last)",
      "\u001b[1;32m~\\AppData\\Local\\Temp\\ipykernel_17804\\2902747040.py\u001b[0m in \u001b[0;36m<module>\u001b[1;34m\u001b[0m\n\u001b[0;32m      2\u001b[0m \u001b[0ma\u001b[0m\u001b[1;33m=\u001b[0m\u001b[0mnp\u001b[0m\u001b[1;33m.\u001b[0m\u001b[0marray\u001b[0m\u001b[1;33m(\u001b[0m\u001b[1;33m[\u001b[0m\u001b[1;36m2\u001b[0m\u001b[1;33m,\u001b[0m\u001b[1;36m3\u001b[0m\u001b[1;33m,\u001b[0m\u001b[1;36m4\u001b[0m\u001b[1;33m,\u001b[0m\u001b[1;36m5\u001b[0m\u001b[1;33m,\u001b[0m\u001b[1;36m6\u001b[0m\u001b[1;33m]\u001b[0m\u001b[1;33m)\u001b[0m\u001b[1;33m\u001b[0m\u001b[1;33m\u001b[0m\u001b[0m\n\u001b[0;32m      3\u001b[0m \u001b[0mprint\u001b[0m\u001b[1;33m(\u001b[0m\u001b[0ma\u001b[0m\u001b[1;33m)\u001b[0m\u001b[1;33m\u001b[0m\u001b[1;33m\u001b[0m\u001b[0m\n\u001b[1;32m----> 4\u001b[1;33m \u001b[0mtrpl_1\u001b[0m\u001b[1;33m=\u001b[0m\u001b[0mlist\u001b[0m\u001b[1;33m(\u001b[0m\u001b[0ma\u001b[0m\u001b[1;33m.\u001b[0m\u001b[0mmap\u001b[0m\u001b[1;33m(\u001b[0m\u001b[1;32mlambda\u001b[0m \u001b[0mx\u001b[0m\u001b[1;33m:\u001b[0m\u001b[0mx\u001b[0m\u001b[1;33m**\u001b[0m\u001b[1;36m3\u001b[0m\u001b[1;33m)\u001b[0m\u001b[1;33m)\u001b[0m\u001b[1;33m\u001b[0m\u001b[1;33m\u001b[0m\u001b[0m\n\u001b[0m\u001b[0;32m      5\u001b[0m \u001b[1;31m#print(trpl_1)\u001b[0m\u001b[1;33m\u001b[0m\u001b[1;33m\u001b[0m\u001b[0m\n",
      "\u001b[1;31mAttributeError\u001b[0m: 'numpy.ndarray' object has no attribute 'map'"
     ]
    }
   ],
   "source": [
    "import numpy as np\n",
    "a=np.array([2,3,4,5,6])\n",
    "print(a)\n",
    "trpl_1=list(a.map(lambda x:x**3))\n",
    "#print(trpl_1)"
   ]
  },
  {
   "cell_type": "code",
   "execution_count": 12,
   "metadata": {},
   "outputs": [
    {
     "name": "stdout",
     "output_type": "stream",
     "text": [
      "[6, 8, 12]\n",
      "[6, 8, 12]\n",
      "[6, 8, 12]\n"
     ]
    }
   ],
   "source": [
    "# Write a Python program to add three given lists using Python map and lambda\n",
    "\n",
    "a=[1,2,3]\n",
    "b=[3,4,7]\n",
    "c=[2,2,2]\n",
    "\n",
    "\n",
    "#native technique\n",
    "new_list=[]\n",
    "for i in range(0,len(a)):\n",
    "  new_list.append(a[i]+b[i]+c[i])\n",
    "print(new_list)\n",
    "\n",
    "#list comprehension\n",
    "new_list=[a[i]+b[i]+c[i] for i in range(0,len(a))]\n",
    "print(new_list)\n",
    "\n",
    "#lambda and map\n",
    "d=list(map(lambda x,y,z:(x+y+z),a,b,c))\n",
    "print(d)"
   ]
  },
  {
   "cell_type": "code",
   "execution_count": 8,
   "metadata": {},
   "outputs": [
    {
     "name": "stdout",
     "output_type": "stream",
     "text": [
      "[1, 2, 3, 3, 4, 7, 2, 2, 2]\n",
      "[ 6  8 12]\n"
     ]
    }
   ],
   "source": [
    "#Adding plain arrays and numpy arrays\n",
    "a=[1,2,3]\n",
    "b=[3,4,7]\n",
    "c=[2,2,2]\n",
    "d=a+b+c\n",
    "print(d)\n",
    "\n",
    "####################################\n",
    "a=np.array([1,2,3])\n",
    "b=np.array([3,4,7])\n",
    "c=np.array([2,2,2])\n",
    "\n",
    "d=a+b+c\n",
    "print(d)"
   ]
  },
  {
   "cell_type": "code",
   "execution_count": 12,
   "metadata": {},
   "outputs": [
    {
     "name": "stdout",
     "output_type": "stream",
     "text": [
      "[6, 8, 12]\n"
     ]
    }
   ],
   "source": [
    "#Parcticing addition using map(works like for loop on all elements),lambda\n",
    "a=[1,2,3]\n",
    "b=[3,4,7]\n",
    "c=[2,2,2]\n",
    "\n",
    "\n",
    "new_list=[]\n",
    "new_list=list(map(lambda x,y,z:x+y+z,a,b,c))\n",
    "    \n",
    "print(new_list)\n"
   ]
  },
  {
   "cell_type": "code",
   "execution_count": 14,
   "metadata": {},
   "outputs": [
    {
     "name": "stdout",
     "output_type": "stream",
     "text": [
      "[[6, 6], [6, 4], [10, -4], [16, 2]]\n",
      "[(6, 6), (6, 4), (10, -4), (16, 2)]\n"
     ]
    }
   ],
   "source": [
    "# Write a Python program to add two given lists and find the difference between lists\n",
    "\n",
    "\"\"\"\n",
    "sample list\n",
    "nums1 = [6, 5, 3, 9]\n",
    "nums2 = [0, 1, 7, 7]\n",
    "\n",
    "\n",
    "output  - [(6, 6), (6, 4), (10, -4), (16, 2)]\n",
    "\n",
    "\"\"\"\n",
    "nums1 = [6, 5, 3, 9]\n",
    "nums2 = [0, 1, 7, 7]\n",
    "new_list=[]\n",
    "\n",
    "for i in range(0,len(nums1)):\n",
    "    k=nums1[i]+nums2[i]\n",
    "    l=nums1[i]-nums2[i]\n",
    "    new_list.append([k,l])\n",
    "print(new_list)\n",
    "\n",
    "\n",
    "\n",
    "\n",
    "#Solution\n",
    "new_list=[]\n",
    "n1 = [6, 5, 3, 9]\n",
    "n2 = [0, 1, 7, 7]\n",
    "\n",
    "for i in range(0,len(n1)):\n",
    "       new_list.append(((n1[i]+n2[i]),(n1[i]-n2[i])))\n",
    "print(new_list)"
   ]
  },
  {
   "cell_type": "code",
   "execution_count": 19,
   "metadata": {},
   "outputs": [
    {
     "name": "stdout",
     "output_type": "stream",
     "text": [
      "[['I'], ['LIKE', 'TOO'], ['PLAYY']]\n",
      "[['i'], ['like', 'too'], ['playy']]\n",
      "[['I'], ['like', 'to'], ['Play']]\n",
      "[[['I']], [['LIKE', 'TOO']], [['PLAYY']]]\n"
     ]
    }
   ],
   "source": [
    "# Write a Python program to convert all the characters in uppercase and lowercase and eliminate duplicate letters from a given sequence\n",
    "\n",
    "new_upper=[]\n",
    "new_lower=[]\n",
    "uniq_list=[]\n",
    "uniq_list_1=[]\n",
    "\n",
    "a=[[\"I\"],[\"like\",\"too\"],[\"Playy\"]]\n",
    "for i in range(0,len(a)):\n",
    "    upper=list(map(lambda x:x.upper(),a[i]))\n",
    "    lower=list(map(lambda x:x.lower(),a[i]))\n",
    "    new_upper.append(upper)\n",
    "    new_lower.append(lower)\n",
    "print(new_upper)\n",
    "print(new_lower)\n",
    "\n",
    "for i in a:\n",
    "    uniq_list=[]\n",
    "    for j in range(0,len(i)):\n",
    "             tmp=''.join(sorted(set(i[j]),key=i[j].index))\n",
    "             uniq_list.append(tmp)\n",
    "    uniq_list_1.append(uniq_list)\n",
    "print(uniq_list_1)\n",
    "\n",
    "\n",
    "\n",
    "a=[[\"I\"],[\"like\",\"too\"],[\"Playy\"]]\n",
    "new_list_2=[]\n",
    "for i in range(0,len(a)):\n",
    " new_list=[]\n",
    " k=list(map(lambda x:x.upper(),a[i]))\n",
    " new_list.append(k)\n",
    " new_list_2.append(new_list)\n",
    "print(new_list_2)\n"
   ]
  },
  {
   "cell_type": "code",
   "execution_count": 32,
   "metadata": {},
   "outputs": [
    {
     "name": "stdout",
     "output_type": "stream",
     "text": [
      "['Apple', 'Apricot', 'Anjeer']\n"
     ]
    }
   ],
   "source": [
    "# Filter out the fruits that start with A \n",
    "\n",
    "a=['Apple','Banana','pear','guava','Apricot','Anjeer','grapes']\n",
    "\n",
    "b=list(filter(lambda f:True if f[0]=='A' else False,a))\n",
    "print(b)"
   ]
  },
  {
   "cell_type": "code",
   "execution_count": 22,
   "metadata": {},
   "outputs": [
    {
     "name": "stdout",
     "output_type": "stream",
     "text": [
      "['Apple', 'Apricot', 'Anjeer']\n"
     ]
    }
   ],
   "source": [
    "#Parcticing using of filter\n",
    "a=['Apple','Banana','pear','guava','Apricot','Anjeer','grapes']\n",
    "k=list(filter(lambda x:True if x[0]=='A' else False,a))\n",
    "print(k)"
   ]
  },
  {
   "cell_type": "code",
   "execution_count": 34,
   "metadata": {},
   "outputs": [
    {
     "name": "stdout",
     "output_type": "stream",
     "text": [
      "[1, 60, 7, 5, 40000, 300]\n"
     ]
    }
   ],
   "source": [
    "# Filter out the positve number from a list\n",
    "\n",
    "a=[-100,1,0,-10,60,7,5,40000,300,-2,-5]\n",
    "b=list(filter(lambda n:True if n>0 else False,a))\n",
    "print(b)"
   ]
  },
  {
   "cell_type": "code",
   "execution_count": 36,
   "metadata": {},
   "outputs": [
    {
     "name": "stdout",
     "output_type": "stream",
     "text": [
      "[15, 30, 75]\n"
     ]
    }
   ],
   "source": [
    "# filter out the multiples of 3 and 5 from a list\n",
    "\n",
    "a=[3,5,15,30,4,21,25,40,11,2,75]\n",
    "b=list(filter(lambda n:True if n%15==0 else False,a))\n",
    "print(b)"
   ]
  },
  {
   "cell_type": "code",
   "execution_count": 53,
   "metadata": {},
   "outputs": [
    {
     "name": "stdout",
     "output_type": "stream",
     "text": [
      "4000\n",
      "lamborghini\n"
     ]
    }
   ],
   "source": [
    "# find the max string using reuduce function\n",
    "\n",
    "\n",
    "from functools import reduce\n",
    "a=[100,20,10,1,5,900,4000,200]\n",
    "b=reduce(lambda x,y:x if x>y else y,a)\n",
    "print(b)\n",
    "\n",
    "\n",
    "a=['kite','singer','bin','home','afterwards','lamborghini','apple']\n",
    "b=reduce(lambda x,y:x if len(x)>len(y) else y,a)\n",
    "print(b)"
   ]
  },
  {
   "cell_type": "code",
   "execution_count": 50,
   "metadata": {},
   "outputs": [
    {
     "name": "stdout",
     "output_type": "stream",
     "text": [
      "min: 2\n",
      "max: 11\n",
      "mean: 1.5170083045959473\n"
     ]
    }
   ],
   "source": [
    "# find the mean , max and min of a given list using reduce function\n",
    "\n",
    "a=[11,2,9,4,5,8,8,11]\n",
    "min=reduce((lambda x,y:x if x<y else y),a)\n",
    "print(\"min:\",min)\n",
    "\n",
    "max=reduce((lambda x,y:x if x>y else y),a)\n",
    "print(\"max:\",max)\n",
    "\n",
    "mean=reduce((lambda x,y:(x+y)/len(a)),a)\n",
    "print(\"mean:\",mean)"
   ]
  },
  {
   "cell_type": "code",
   "execution_count": 38,
   "metadata": {},
   "outputs": [
    {
     "name": "stdout",
     "output_type": "stream",
     "text": [
      "4000\n"
     ]
    }
   ],
   "source": [
    "from functools import reduce\n",
    "a=[100,20,10,1,5,900,4000,200]\n",
    "b=reduce(lambda x,y:x if x>y else y,a)\n",
    "print(b)"
   ]
  },
  {
   "cell_type": "code",
   "execution_count": null,
   "metadata": {},
   "outputs": [],
   "source": []
  }
 ],
 "metadata": {
  "kernelspec": {
   "display_name": "Python 3 (ipykernel)",
   "language": "python",
   "name": "python3"
  },
  "language_info": {
   "codemirror_mode": {
    "name": "ipython",
    "version": 3
   },
   "file_extension": ".py",
   "mimetype": "text/x-python",
   "name": "python",
   "nbconvert_exporter": "python",
   "pygments_lexer": "ipython3",
   "version": "3.9.13"
  }
 },
 "nbformat": 4,
 "nbformat_minor": 4
}
