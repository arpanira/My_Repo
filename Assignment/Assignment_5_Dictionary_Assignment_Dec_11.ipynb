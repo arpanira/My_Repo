{
 "cells": [
  {
   "cell_type": "code",
   "execution_count": 146,
   "metadata": {
    "id": "2k4ZB9yltJCa"
   },
   "outputs": [
    {
     "name": "stdout",
     "output_type": "stream",
     "text": [
      "{'email': 'tom_latham019@gmail.com', 'Phone': 1987654321, 'City': 'California'}\n",
      "{'email': 'kathy_abram897@gmail.com', 'Phone': 1887654321, 'City': 'New York'}\n"
     ]
    }
   ],
   "source": [
    "# Initialize a dictionary \"emp_info\" with below details\n",
    "# In - emp_info['Tom']\n",
    "# Out - {'email':'tom_latham019@gmail.com', 'Phone': +1987654321, 'City': 'California'}\n",
    "\n",
    "# In - emp_info['Kathy']\n",
    "# Out - {'email':'kathy_abram897@gmail.com', 'Phone': +1887654321, 'City': 'New York'}\n",
    "\n",
    "emp_info={'Tom':{'email':'tom_latham019@gmail.com', 'Phone': +1987654321, 'City': 'California'},'Kathy':{'email':'kathy_abram897@gmail.com', 'Phone': +1887654321, 'City': 'New York'}}\n",
    "print(emp_info['Tom'])\n",
    "print(emp_info['Kathy'])\n",
    "\n"
   ]
  },
  {
   "cell_type": "code",
   "execution_count": 145,
   "metadata": {
    "id": "BAUj-S0fqFWG"
   },
   "outputs": [
    {
     "name": "stdout",
     "output_type": "stream",
     "text": [
      "{'emp1': {'e_name': 'John', 'e_id': 'SG101', 'e_sal': '$10,000'}, 'emp2': {'e_name': 'Smith', 'e_id': 'SG102', 'e_sal': '$9,000'}, 'emp3': {'e_name': 'Peter', 'e_id': 'SG103', 'e_sal': '$9,500'}}\n"
     ]
    }
   ],
   "source": [
    "# Create a dictionary out of below inputs\n",
    "# lst1 = ['emp1', 'emp2', 'emp3']\n",
    "# emp_key = ['e_name', 'e_id', 'e_sal']\n",
    "# emp1_val = ['John', 'SG101', '$10,000']\n",
    "# emp2_val = ['Smith', 'SG102', '$9,000']\n",
    "# emp3_val = ['Peter', 'SG103', '$9,500']\n",
    "\n",
    "# Expected Output:- {'emp1':{'e_name':'John', 'e_id':'SG101', 'e_sal':$10,000}, \n",
    "#                    'emp2':{'e_name':'Smith', 'e_id':'SG102', 'e_sal':$9,000}, \n",
    "#                    'emp3':{'e_name':'Peter', 'e_id':'SG103', 'e_sal':$9,500}}\n",
    "lst1 = ['emp1', 'emp2', 'emp3']\n",
    "emp_key = ['e_name', 'e_id', 'e_sal']\n",
    "emp1_val = ['John', 'SG101', '$10,000']\n",
    "emp2_val = ['Smith', 'SG102', '$9,000']\n",
    "emp3_val = ['Peter', 'SG103', '$9,500']\n",
    "\n",
    "\n",
    "zipobj_1=(lambda a,b:list(zip(a,b)))(['e_name', 'e_id', 'e_sal'], ['John', 'SG101', '$10,000'])\n",
    "zipobj_2=(lambda a,b:list(zip(a,b)))(['e_name', 'e_id', 'e_sal'],['Smith', 'SG102', '$9,000'])\n",
    "zipobj_3=(lambda a,b:list(zip(a,b)))(['e_name', 'e_id', 'e_sal'],['Peter', 'SG103', '$9,500'])\n",
    "all_zipobj=[zipobj_1,zipobj_2,zipobj_3]\n",
    "zipobj=dict((lambda a,b:list(zip(a,b)))(['emp1', 'emp2', 'emp3'],all_zipobj))\n",
    "\n",
    "#updating each element which is list of values into dictionary form\n",
    "zipobj['emp1']=dict(zipobj['emp1'])\n",
    "zipobj['emp2']=dict(zipobj['emp2'])\n",
    "zipobj['emp3']=dict(zipobj['emp3'])\n",
    "print(zipobj)\n",
    "\n",
    "\n",
    "\n",
    "\n",
    "\n",
    "\n",
    "    \n",
    "\n",
    "\n"
   ]
  },
  {
   "cell_type": "code",
   "execution_count": 63,
   "metadata": {
    "id": "LxGZ3jbjrBkj"
   },
   "outputs": [
    {
     "name": "stdout",
     "output_type": "stream",
     "text": [
      "80\n",
      "80\n"
     ]
    }
   ],
   "source": [
    "# Acess the value of key 'history'\n",
    "\n",
    "sampleDict = { \n",
    "   \"class\":{ \n",
    "      \"student\":{ \n",
    "         \"name\":\"Mike\",\n",
    "         \"marks\":{ \n",
    "            \"physics\":70,\n",
    "            \"history\":80\n",
    "         }\n",
    "      }\n",
    "   }\n",
    "}\n",
    "\n",
    "b=sampleDict[\"class\"][\"student\"][\"marks\"][\"history\"]\n",
    "print(b)\n",
    "\n",
    "OR\n",
    "\n",
    "\n",
    "b1=sampleDict.get(\"class\").get(\"student\").get(\"marks\").get(\"history\",'not present')\n",
    "print(b1)\n",
    "\n",
    "\n"
   ]
  },
  {
   "cell_type": "code",
   "execution_count": 66,
   "metadata": {
    "id": "Vm8UZbyNrKID"
   },
   "outputs": [
    {
     "name": "stdout",
     "output_type": "stream",
     "text": [
      "{'Kelly': {'designation': 'Application Developer', 'salary': 8000}, 'Emma': {'designation': 'Application Developer', 'salary': 8000}, 'John': {'designation': 'Application Developer', 'salary': 8000}}\n"
     ]
    }
   ],
   "source": [
    "# Initialize dictionary with default values. Inputs are:-\n",
    "# employees = ['Kelly', 'Emma', 'John']\n",
    "# defaults = {\"designation\": 'Application Developer', \"salary\": 8000}\n",
    "\n",
    "#Expected output:- {'Kelly': {'designation': 'Application Developer', 'salary': 8000}, \n",
    "#                   'Emma': {'designation': 'Application Developer', 'salary': 8000}, \n",
    "#                   'John': {'designation': 'Application Developer', 'salary': 8000}}\n",
    "\n",
    "\n",
    "\n",
    "dict_a=dict.fromkeys(['Kelly', 'Emma', 'John'], {\"designation\": 'Application Developer', \"salary\": 8000})\n",
    "print(dict_a)"
   ]
  },
  {
   "cell_type": "code",
   "execution_count": 144,
   "metadata": {
    "id": "nmFdbaHBrThC"
   },
   "outputs": [
    {
     "name": "stdout",
     "output_type": "stream",
     "text": [
      "A U\n",
      "T A\n",
      "C G\n",
      "G C\n",
      "ACTCCACCTCA\n"
     ]
    }
   ],
   "source": [
    "# In gene expression, mRNA is transcribed from a DNA template. \n",
    "# The 4 nucleotide bases of A, T, C, G corresponds to the U, A, G, C bases of the mRNA. \n",
    "# Write a function that returns the mRNA transcript given the sequence of a DNA strand.\n",
    "\n",
    "# Use a dictionary to provide the mapping of DNA to RNA bases.\n",
    "\n",
    "trans={'A':'U', 'T':'A', 'C':'G', 'G':'C'}\n",
    "input=\"ACTGGACCTGA\"\n",
    "for i in trans:\n",
    "\n",
    " t=trans.get(i)\n",
    " print(i,t,sep=' ')\n",
    " input1=input.replace(i,trans.get(i))\n",
    "print(input1)"
   ]
  },
  {
   "cell_type": "code",
   "execution_count": 2,
   "metadata": {
    "id": "rop1A1pQw6Uk"
   },
   "outputs": [
    {
     "name": "stdout",
     "output_type": "stream",
     "text": [
      "['g', 'o', 'l', 'e', '.', 'c', 'm']\n",
      "[2, 3, 1, 1, 1, 1, 1]\n",
      "{'g': 2, 'o': 3, 'l': 1, 'e': 1, '.': 1, 'c': 1, 'm': 1}\n",
      "['g', 'o', 'o', 'g', 'l', 'e', '.', 'c', 'o', 'm']\n"
     ]
    }
   ],
   "source": [
    "# Write a function which takes a word as input and returns a \n",
    "  #dictionary with letters as key and no of time letters are repeated as value.\n",
    "# In - count_letter('google.com')\n",
    "# Out - {'g': 2, 'o': 3, 'l': 1, 'e': 1, '.': 1, 'c': 1, 'm': 1}\n",
    "letter_list=[]\n",
    "count_list=[]\n",
    "a='google.com'\n",
    "for i in range(0,len(a)):\n",
    "    if a[i] not in letter_list:\n",
    "     letter_list.append(a[i])\n",
    "     counter=a.count(a[i])\n",
    "     count_list.append(counter)\n",
    "print(letter_list)\n",
    "print(count_list)\n",
    "zipobj=dict(list(zip(letter_list,count_list)))\n",
    "print(zipobj)\n"
   ]
  },
  {
   "cell_type": "code",
   "execution_count": 131,
   "metadata": {
    "id": "vAwGIoxdw856"
   },
   "outputs": [
    {
     "name": "stdout",
     "output_type": "stream",
     "text": [
      "[1, 0, 1, 1]\n",
      "{'A': 1, 'C': 0, 'T': 1, 'G': 1}\n"
     ]
    }
   ],
   "source": [
    "# A DNA strand consisting of the 4 nucleotide bases is usually represented \n",
    "#with a string of letters: A,T, C, G. \n",
    "# Write a function that computes the base composition of a given DNA sequence.\n",
    "\n",
    "# In - baseComposition(\"CTATCGGCACCCTTTCAGCA\")\n",
    "# Out - {'A': 4, 'C': 8, 'T': 5,  'G': 3 }\n",
    "    \n",
    "# In - baseComposition(\"AGT\")\n",
    "# Out - {'A': 1, 'C': 0, 'T': 1,  'G': 1 }\n",
    "\n",
    "count_list=[]\n",
    "\n",
    "#baseComposition=\"CTATCGGCACCCTTTCAGCA\"\n",
    "baseComposition=\"AGT\"\n",
    "maincomposition=['A','C','T','G']\n",
    "\n",
    "for i in maincomposition:\n",
    "  count_list.append(baseComposition.count(i))\n",
    "print(count_list)\n",
    "                 \n",
    "                 \n",
    "#create dictionary:\n",
    "\n",
    "print(dict(list(zip(maincomposition,count_list))))\n",
    "\n",
    "\n"
   ]
  },
  {
   "cell_type": "code",
   "execution_count": 87,
   "metadata": {
    "id": "iVNnSsvaxMDo"
   },
   "outputs": [
    {
     "name": "stdout",
     "output_type": "stream",
     "text": [
      "{'Name': 'Tom'}\n",
      "{'Name': 'Tom'}\n",
      "{'Name': 'Tom'}\n",
      "{'Name': 'Tom'}\n"
     ]
    }
   ],
   "source": [
    "# [MCQ] Suppose \"d\" is an empty dictionary, \n",
    "#which statement does not assign \"d\" with {\"Name\":\"Tom\"}? \n",
    "# 1. d = {\"Name\": \"Tom\" }\n",
    "# 2. d[\"Name\"] = \"Tom\"\n",
    "# 3. d.update({\"Name\": \"Tom\" })\n",
    "# 4. d.setdefault(\"Name\", \"Tom\")\n",
    "# 5. None of the above.\n",
    "\n",
    "d={}\n",
    "d = {\"Name\": \"Tom\" }\n",
    "print(d)\n",
    "d={}\n",
    "d[\"Name\"] = \"Tom\"\n",
    "print(d)\n",
    "d={}\n",
    "d.update({\"Name\": \"Tom\" })\n",
    "print(d)\n",
    "d={}\n",
    "d.setdefault(\"Name\", \"Tom\")\n",
    "print(d)\n",
    "\n",
    "\n",
    "#Solution\n",
    "#All options can be used."
   ]
  },
  {
   "cell_type": "code",
   "execution_count": 88,
   "metadata": {
    "id": "tOgsXi2axnhF"
   },
   "outputs": [
    {
     "data": {
      "text/plain": [
       "dict_values([1, 2])"
      ]
     },
     "execution_count": 88,
     "metadata": {},
     "output_type": "execute_result"
    }
   ],
   "source": [
    "# [MCQ] d = {\"a\":1, \"b\":2}. Which of the statements returns [1,2]? \n",
    "# 1. d.keys()\n",
    "# 2. d.values()\n",
    "# 3. d.items()\n",
    "# 4. d.popitem()\n",
    "# 5. None of the above.\n",
    "\n",
    "\n",
    "#Option #2\n",
    "\n",
    "d = {\"a\":1, \"b\":2}\n",
    "d.values()"
   ]
  },
  {
   "cell_type": "code",
   "execution_count": 24,
   "metadata": {
    "id": "BeNNopkDzK0k"
   },
   "outputs": [],
   "source": [
    "# [MCQ] Which of the following declarations is not valid for 'dict' type?\n",
    "# 1. d = {\"Name\": \"Tom\" }\n",
    "# 2. d = { (1,3,4): 4.5 }\n",
    "# 3. d = { [\"First\", \"Last\"]: (1,3) }\n",
    "# 4. d = { 1: 0.4 }\n",
    "# 5. None of the above\n",
    "\n",
    "\n",
    "#option#3 (is invalid because key cannot be mutable)\n",
    "\n",
    "\n",
    "\n"
   ]
  },
  {
   "cell_type": "code",
   "execution_count": 32,
   "metadata": {
    "id": "7kPbKcfMzTHP"
   },
   "outputs": [
    {
     "name": "stdout",
     "output_type": "stream",
     "text": [
      "['a']\n",
      "['b', 'c']\n",
      "[]\n"
     ]
    }
   ],
   "source": [
    "# Write a function reverseLookup(dictionary, value) that takes in a dictionary \n",
    "# and a value as arguments and returns a sorted list of all keys that contains the value. \n",
    "# The function will return an empty list if no match is found.\n",
    "\n",
    "# In - reverseLookup({'a':1, 'b':2, 'c':2}, 1)\n",
    "# Out - ['a']\n",
    "# In - reverseLookup({'a':1, 'b':2, 'c':2}, 2)\n",
    "# Out - ['b', 'c']\n",
    "# In - reverseLookup({'a':1, 'b':2, 'c':2}, 3)\n",
    "# Out - []\n",
    "\n",
    "\n",
    "def reverselookup(dic,value):\n",
    "    t=dic.items()\n",
    "    new_list=[]\n",
    "    for i in t:\n",
    "        if i[1]==value:\n",
    "            new_list.append(i[0])\n",
    "    return new_list\n",
    "\n",
    "        \n",
    "r1=reverselookup({'a':1, 'b':2, 'c':2},1)\n",
    "r2=reverselookup({'a':1, 'b':2, 'c':2},2)\n",
    "r3=reverselookup({'a':1, 'b':2, 'c':2},3)\n",
    "print(r1)\n",
    "print(r2)\n",
    "print(r3)\n"
   ]
  },
  {
   "cell_type": "code",
   "execution_count": 26,
   "metadata": {
    "id": "s87Rvg2HDFYp"
   },
   "outputs": [
    {
     "name": "stdout",
     "output_type": "stream",
     "text": [
      "dict_keys(['a', 'b', 'c', 'd'])\n",
      "dict_values([1, 2, 3, 2])\n",
      "[(1, 'a'), (2, 'b'), (3, 'c'), (2, 'd')]\n",
      "{1: ['a'], 2: ['b', 'd'], 3: ['c']}\n"
     ]
    }
   ],
   "source": [
    "# Write a function invertDictionary(d) that takes in a dictionary as \n",
    "#argument and return a dictionary that inverts the keys \n",
    "#and the values of the original dictionary.\n",
    "# In - invertDictionary({'a':1, 'b':2, 'c':3, 'd':2})\n",
    "# Out - {1: ['a'], 2: ['b', 'd'], 3: ['c']}\n",
    "# In - invertDictionary({'a':3, 'b':3, 'c':3})\n",
    "# Out - {3: ['a', 'c', 'b']}\n",
    "# In - invertDictionary({'a':2, 'b':1, 'c':2, 'd':1})\n",
    "# Out - {1: ['b', 'd'], 2: ['a', 'c']}\n",
    "\n",
    "a={'a':1, 'b':2, 'c':3, 'd':2}\n",
    "\n",
    "#Get two list from dictionary,one with list of keys and other with list of values\n",
    "b=a.keys()\n",
    "c=a.values()\n",
    "result={}\n",
    "print(b)\n",
    "print(c)\n",
    "\n",
    "#inverse the keys and values order in zip function\n",
    "d=list(zip(c,b))\n",
    "print(d)\n",
    "\n",
    "# setting the default value as list([])\n",
    "   # appending the current value\n",
    "for (key,value) in d:\n",
    "    result.setdefault(key,[]).append(value)\n",
    "print(result)\n"
   ]
  },
  {
   "cell_type": "code",
   "execution_count": 120,
   "metadata": {},
   "outputs": [
    {
     "name": "stdout",
     "output_type": "stream",
     "text": [
      "[(0, 1), (1, 0), (2, 0), (3, 2), (4, 0), (5, 0), (6, 0), (7, 3), (8, 0), (9, 0), (10, 0), (11, 0), (12, 4)]\n",
      "{0: 1, 3: 2, 7: 3, 12: 4}\n"
     ]
    }
   ],
   "source": [
    "# Write a function that converts a sparse vector into a dictionary as described above.\n",
    "# In - convertVector([1, 0, 0, 2, 0, 0, 0, 3, 0, 0, 0, 0, 4])\n",
    "# Out - {0: 1, 3: 2, 7: 3, 12: 4}\n",
    "# In - convertVector([1, 0, 1 , 0, 2, 0, 1, 0, 0, 1, 0])\n",
    "# Out - {0: 1, 2: 1, 4: 2, 6: 1, 9: 1}\n",
    "# In - convertVector([0, 0, 0, 0, 0])\n",
    "# Out - {}\n",
    "\n",
    "a=[1, 0, 0, 2, 0, 0, 0, 3, 0, 0, 0, 0, 4]\n",
    "b=list(enumerate(a,start=0))\n",
    "new_list=[]\n",
    "print(b)\n",
    "\n",
    "# for i in b:\n",
    "#     if i[1]!=0:\n",
    "#         new_list.append(i)\n",
    "\n",
    "\n",
    "new_list=list(filter(lambda x:True if x[1]!=0 else False, b))\n",
    "print(dict(new_list))"
   ]
  },
  {
   "cell_type": "code",
   "execution_count": 12,
   "metadata": {},
   "outputs": [
    {
     "name": "stdout",
     "output_type": "stream",
     "text": [
      "dict_keys(['a', 'b', 'c', 'd'])\n",
      "dict_values([1, 2, 3, 2])\n",
      "[(1, 'a'), (2, 'b'), (3, 'c'), (2, 'd')]\n",
      "{1: ['a'], 2: ['b', 'd'], 3: ['c']}\n"
     ]
    }
   ],
   "source": [
    "a={'a':1, 'b':2, 'c':3, 'd':2}\n",
    "\n",
    "#Get two list from dictionary,one with list of keys and other with list of values\n",
    "b=a.keys()\n",
    "c=a.values()\n",
    "result={}\n",
    "print(b)\n",
    "print(c)\n",
    "\n",
    "#reversing the keys and values order in zip function\n",
    "d=list(zip(c,b))\n",
    "print(d)\n",
    "\n",
    "# setting the default value as list([])\n",
    "   # appending the current value\n",
    "for (key,value) in d:\n",
    "    result.setdefault(key,[]).append(value)\n",
    "print(result)\n",
    "    \n",
    "        "
   ]
  },
  {
   "cell_type": "code",
   "execution_count": 97,
   "metadata": {
    "id": "ETCmEcflTGCI"
   },
   "outputs": [
    {
     "name": "stdout",
     "output_type": "stream",
     "text": [
      "12\n",
      "[0, 0, 0, 0, 0, 0, 0, 0, 0, 0, 0, 0, 0]\n",
      "[(0, 1), (3, 2), (7, 3), (12, 4)]\n",
      "[1, 0, 0, 2, 0, 0, 0, 3, 0, 0, 0, 0, 4]\n"
     ]
    }
   ],
   "source": [
    "# Write a function that converts a dictionary back to its sparse vector representation.\n",
    "# In - convertDictionary({0: 1, 3: 2, 7: 3, 12: 4})\n",
    "# Out - [1, 0, 0, 2, 0, 0, 0, 3, 0, 0, 0, 0, 4]\n",
    "# In - convertDictionary({0: 1, 2: 1, 4: 2, 6: 1, 9: 1})\n",
    "# Out - [1, 0, 1, 0, 2, 0, 1, 0, 0, 1]\n",
    "# In - convertDictionary({})\n",
    "# Out - []\n",
    "\n",
    "\n",
    "a={0: 1, 3: 2, 7: 3, 12: 4}\n",
    "\n",
    "#create list of all index values(keys are indexes here)\n",
    "ind=list(a.keys())\n",
    "lst=[]\n",
    "\n",
    "#from the index value list(key) find the max index \n",
    "max_ind=reduce(lambda x,y:x if x>y else y,ind)\n",
    "print(max_ind)\n",
    "\n",
    "\n",
    "#create  new list with all zeros with size max index +1\n",
    "for i in range(0,max_ind+1):\n",
    "    lst.append(0)\n",
    "print(lst)\n",
    "\n",
    "#create tuple out of dictionary\n",
    "a_tuple=list(a.items())\n",
    "print(a_tuple)\n",
    "\n",
    "#loop through tuple to assign values based on index number  \n",
    "for x in a_tuple:\n",
    "    lst[x[0]]=x[1]\n",
    "print(lst)\n",
    " \n",
    "        \n",
    "\n"
   ]
  },
  {
   "cell_type": "code",
   "execution_count": 54,
   "metadata": {
    "id": "tTANm2QKZXh3"
   },
   "outputs": [
    {
     "name": "stdout",
     "output_type": "stream",
     "text": [
      "{'emp1': {'name': 'Jhon', 'salary': 7500}, 'emp2': {'name': 'Emma', 'salary': 8000}, 'emp3': {'name': 'Brad', 'salary': 8500}}\n"
     ]
    }
   ],
   "source": [
    "# Given a Python dictionary, Change Brad’s salary to 8500\n",
    "sampleDict = {\n",
    "     'emp1': {'name': 'Jhon', 'salary': 7500},\n",
    "     'emp2': {'name': 'Emma', 'salary': 8000},\n",
    "     'emp3': {'name': 'Brad', 'salary': 6500}\n",
    "}\n",
    "\n",
    "# Expected Output\n",
    "# sampleDict = {\n",
    "#      'emp1': {'name': 'Jhon', 'salary': 7500},\n",
    "#      'emp2': {'name': 'Emma', 'salary': 8000},\n",
    "#      'emp3': {'name': 'Brad', 'salary': 8500}\n",
    "# }\n",
    "\n",
    "\n",
    "\n",
    "sampleDict['emp3']['salary']=8500\n",
    "\n",
    "print(sampleDict)\n"
   ]
  },
  {
   "cell_type": "code",
   "execution_count": 52,
   "metadata": {
    "id": "8dUHXiCVZmUx"
   },
   "outputs": [
    {
     "name": "stdout",
     "output_type": "stream",
     "text": [
      "Math\n"
     ]
    }
   ],
   "source": [
    "# Get the key corresponding to the minimum value from the following dictionary\n",
    "# sampleDict = {\n",
    "#   'Physics': 82,\n",
    "#   'Math': 65,\n",
    "#   'history': 75\n",
    "# }\n",
    "\n",
    "# Expected Output\n",
    "# Math\n",
    "\n",
    "from functools import reduce\n",
    "sampleDict = {'Physics': 82, 'Math': 65,'history': 75}\n",
    "a_list=list(sampleDict.keys())\n",
    "b_list=list(sampleDict.values())\n",
    "\n",
    "\n",
    "indx=b_list.index(reduce(lambda x,y:x if x<y else y,b_list))\n",
    "print(a_list[indx])"
   ]
  },
  {
   "cell_type": "code",
   "execution_count": 36,
   "metadata": {
    "id": "AQe5QNGdZ7aJ"
   },
   "outputs": [
    {
     "name": "stdout",
     "output_type": "stream",
     "text": [
      "{'name': 'Kelly', 'age': 25, 'salary': 8000, 'location': 'New york'}\n"
     ]
    }
   ],
   "source": [
    "# Rename key city to location in the following dictionary\n",
    "# sampleDict = {\n",
    "#   \"name\": \"Kelly\",\n",
    "#   \"age\":25,\n",
    "#   \"salary\": 8000,\n",
    "#   \"city\": \"New york\"\n",
    "# }\n",
    "\n",
    "# Expected Output\n",
    "# {\n",
    "#   \"name\": \"Kelly\",\n",
    "#   \"age\":25,\n",
    "#   \"salary\": 8000,\n",
    "#   \"location\": \"New york\"\n",
    "# }\n",
    "\n",
    "sampleDict = { \"name\": \"Kelly\", \"age\":25,\"salary\": 8000,\"city\": \"New york\"}\n",
    "sampleDict[\"location\"]=sampleDict.pop(\"city\")\n",
    "print(sampleDict)\n",
    "\n",
    "\n",
    "#sampleDict.pop(\"city\")"
   ]
  },
  {
   "cell_type": "code",
   "execution_count": 23,
   "metadata": {
    "id": "e19_ddO9aNNw"
   },
   "outputs": [
    {
     "name": "stdout",
     "output_type": "stream",
     "text": [
      "True\n"
     ]
    }
   ],
   "source": [
    "# Check if a value 200 exists in a dictionary\n",
    "# sampleDict = {'a': 100, 'b': 200, 'c': 300}\n",
    "\n",
    "# Expected Output: True\n",
    "sampleDict = {'a': 100, 'b': 200, 'c': 300}\n",
    "if 200 in sampleDict.values():\n",
    "    print(True)"
   ]
  },
  {
   "cell_type": "code",
   "execution_count": 22,
   "metadata": {
    "id": "yphwjc1gabMa"
   },
   "outputs": [
    {
     "name": "stdout",
     "output_type": "stream",
     "text": [
      "{'age': 25, 'city': 'New york'}\n"
     ]
    }
   ],
   "source": [
    "# Delete set of keys from Python Dictionary\n",
    "# sampleDict = {\n",
    "#   \"name\": \"Kelly\",\n",
    "#   \"age\":25,\n",
    "#   \"salary\": 8000,\n",
    "#   \"city\": \"New york\"\n",
    "  \n",
    "# }\n",
    "# keysToRemove = [\"name\", \"salary\"]\n",
    "\n",
    "# Expected Output:\n",
    "# {'city': 'New york', 'age': 25}\n",
    "\n",
    "\n",
    "sampleDict = {\"name\": \"Kelly\",\"age\":25,\"salary\": 8000,\"city\": \"New york\"}\n",
    "keysToRemove = [\"name\", \"salary\"]\n",
    "\n",
    "for i in keysToRemove:\n",
    "    sampleDict.pop(i)\n",
    "print(sampleDict)\n"
   ]
  },
  {
   "cell_type": "code",
   "execution_count": null,
   "metadata": {},
   "outputs": [],
   "source": []
  }
 ],
 "metadata": {
  "colab": {
   "name": "Dictionary_Assignment.ipynb",
   "provenance": []
  },
  "kernelspec": {
   "display_name": "Python 3 (ipykernel)",
   "language": "python",
   "name": "python3"
  },
  "language_info": {
   "codemirror_mode": {
    "name": "ipython",
    "version": 3
   },
   "file_extension": ".py",
   "mimetype": "text/x-python",
   "name": "python",
   "nbconvert_exporter": "python",
   "pygments_lexer": "ipython3",
   "version": "3.9.13"
  }
 },
 "nbformat": 4,
 "nbformat_minor": 1
}
