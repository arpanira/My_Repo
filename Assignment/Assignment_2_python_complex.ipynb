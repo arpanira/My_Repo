{
 "cells": [
  {
   "cell_type": "code",
   "execution_count": 1,
   "id": "ce988704",
   "metadata": {},
   "outputs": [
    {
     "name": "stdout",
     "output_type": "stream",
     "text": [
      "(3+10j) <class 'complex'> 2997202132784\n"
     ]
    }
   ],
   "source": [
    "'''Q. Declare a complex number and store it in a variable.\n",
    "Check the type and print the id of the same.'''\n",
    "a=3+10j\n",
    "print(a,type(a),id(a))\n"
   ]
  },
  {
   "cell_type": "code",
   "execution_count": 2,
   "id": "426902b2",
   "metadata": {},
   "outputs": [
    {
     "name": "stdout",
     "output_type": "stream",
     "text": [
      "sum of both numbers (7+15j)\n",
      "difference between them (-1+5j)\n",
      "product of both numbers (-38+55j)\n",
      "value after dividing first num with second number (1.5121951219512197+0.6097560975609757j)\n",
      "result of the first num to the power of the second number (-8.311195330976842-17.978098046022723j)\n"
     ]
    }
   ],
   "source": [
    "'''Q. Arithmetic Operations on complex number\n",
    "Take two different complex numbers.\n",
    "Store them in two different variables.\n",
    "Do below operations on them:-\n",
    "Find sum of both numbers\n",
    "Find difference between them\n",
    "Find the product of both numbers.\n",
    "Find value after dividing first num with second number\n",
    "Find the result of the first num to the power of the second number.'''\n",
    "\n",
    "a=3+10j\n",
    "b=4+5j\n",
    "\n",
    "\n",
    "\n",
    "print(\"sum of both numbers\",a+b)\n",
    "print(\"difference between them\",a-b)\n",
    "print(\"product of both numbers\",a*b)\n",
    "print(\"value after dividing first num with second number\",a/b)\n",
    "print(\"result of the first num to the power of the second number\",a**b)"
   ]
  },
  {
   "cell_type": "code",
   "execution_count": 3,
   "id": "76dceb3c",
   "metadata": {},
   "outputs": [
    {
     "ename": "TypeError",
     "evalue": "'>' not supported between instances of 'complex' and 'complex'",
     "output_type": "error",
     "traceback": [
      "\u001b[1;31m---------------------------------------------------------------------------\u001b[0m",
      "\u001b[1;31mTypeError\u001b[0m                                 Traceback (most recent call last)",
      "\u001b[1;32m~\\AppData\\Local\\Temp\\ipykernel_32440\\1667865539.py\u001b[0m in \u001b[0;36m<module>\u001b[1;34m\u001b[0m\n\u001b[0;32m      6\u001b[0m \u001b[0mb\u001b[0m\u001b[1;33m=\u001b[0m\u001b[1;36m4\u001b[0m\u001b[1;33m+\u001b[0m\u001b[1;36m5j\u001b[0m\u001b[1;33m\u001b[0m\u001b[1;33m\u001b[0m\u001b[0m\n\u001b[0;32m      7\u001b[0m \u001b[1;33m\u001b[0m\u001b[0m\n\u001b[1;32m----> 8\u001b[1;33m \u001b[0mprint\u001b[0m\u001b[1;33m(\u001b[0m\u001b[1;34m\"a is greater than b?\"\u001b[0m\u001b[1;33m,\u001b[0m\u001b[0ma\u001b[0m\u001b[1;33m>\u001b[0m\u001b[0mb\u001b[0m\u001b[1;33m)\u001b[0m\u001b[1;33m\u001b[0m\u001b[1;33m\u001b[0m\u001b[0m\n\u001b[0m",
      "\u001b[1;31mTypeError\u001b[0m: '>' not supported between instances of 'complex' and 'complex'"
     ]
    }
   ],
   "source": [
    "'''Q. Comparison Operation not applicable between instance of complex\n",
    "values.\n",
    "Object reusability concept is not applicable on complex number'''\n",
    "\n",
    "a=3+10j\n",
    "b=4+5j\n",
    "\n",
    "print(\"a is greater than b?\",a>b)#--not upported for complex datatypes"
   ]
  },
  {
   "cell_type": "code",
   "execution_count": 7,
   "id": "00e8b732",
   "metadata": {},
   "outputs": [
    {
     "name": "stdout",
     "output_type": "stream",
     "text": [
      "Is a equal to b? False\n",
      "a is not equal to b? True\n"
     ]
    }
   ],
   "source": [
    "'''Q. Equality Operator\n",
    "Take two different complex numbers.\n",
    "Store them in two different variables.\n",
    "Equate them using equality operators (==, !=)\n",
    "Observe the output(return type should be boolean)'''\n",
    "\n",
    "a=3+10j\n",
    "b=4+5j\n",
    "\n",
    "print(\"Is a equal to b?\",a==b)\n",
    "print(\"a is not equal to b?\",a!=b)\n",
    "\n"
   ]
  },
  {
   "cell_type": "code",
   "execution_count": 8,
   "id": "81b6cf7b",
   "metadata": {},
   "outputs": [
    {
     "name": "stdout",
     "output_type": "stream",
     "text": [
      "(20+30j)\n",
      "0j\n",
      "0j\n",
      "0j\n",
      "(10+20j)\n",
      "(20+30j)\n",
      "(20+30j)\n",
      "0j\n",
      "False\n",
      "True\n"
     ]
    }
   ],
   "source": [
    "'''Q. Logical operators\n",
    "Observe the output of below code\n",
    "Cross check the output manually'''\n",
    "print(10+20j and 20+30j) #20+30j\n",
    "#----------------------------------------->Output is 20+30j\n",
    "print(0+0j and 20+30j) #0+0j\n",
    "#----------------------------------------->Output is 0j\n",
    "print(20+30j and 0+0j) #0+0j\n",
    "#----------------------------------------->Output is 0j\n",
    "print(0+0j and 0+0j) #0+0j\n",
    "#----------------------------------------->Output is 0j\n",
    "print(10+20j or 20+30j) #10+20j\n",
    "#----------------------------------------->Output is 10+20j\n",
    "\n",
    "print(0+0j or 20+30j) #20+30j\n",
    "#----------------------------------------->Output is 20+30j\n",
    "print(20+30j or 0+0j) #20+30j\n",
    "#----------------------------------------->Output is 20+30j\n",
    "print(0+0j or 0+0j) #0+0j\n",
    "#----------------------------------------->Output is 0j\n",
    "print(not 10+20j) #False\n",
    "#----------------------------------------->Output is False\n",
    "print(not 0+0j) #True\n",
    "#----------------------------------------->Output is True'''"
   ]
  },
  {
   "cell_type": "code",
   "execution_count": 9,
   "id": "4e47601b",
   "metadata": {},
   "outputs": [
    {
     "name": "stdout",
     "output_type": "stream",
     "text": [
      "False\n",
      "True\n"
     ]
    }
   ],
   "source": [
    "'''Q. What is the output of the expression inside the print statement.\n",
    "Cross check before running the program.'''\n",
    "a = 10+20j\n",
    "b = 10+20j\n",
    "\n",
    "print(a is b)\n",
    "print(a is not b)\n",
    "\n",
    "#object reuability is NA for complex numbers"
   ]
  },
  {
   "cell_type": "code",
   "execution_count": 10,
   "id": "db01b77c",
   "metadata": {},
   "outputs": [
    {
     "name": "stdout",
     "output_type": "stream",
     "text": [
      "True\n",
      "True\n",
      "True\n",
      "True\n",
      "True\n",
      "True\n"
     ]
    }
   ],
   "source": [
    "'''Q. Membership operation\n",
    "in, not in are two membership operators and it returns boolean value'''\n",
    "print('2.7' in 'Python2.7.8') #True\n",
    "print(10+20j in [10,10.20,10+20j,'Python']) #True\n",
    "print(10+20j in (10,10.20,10+20j,'Python')) #True\n",
    "print(30+40j in {1,20.30,30+40j}) #True\n",
    "print(30+40j in {1:100, 2.3:200, 30+40j:300}) #True\n",
    "print(10 in range(20)) #True'''"
   ]
  },
  {
   "cell_type": "code",
   "execution_count": null,
   "id": "7e05c247",
   "metadata": {},
   "outputs": [],
   "source": []
  }
 ],
 "metadata": {
  "kernelspec": {
   "display_name": "Python 3 (ipykernel)",
   "language": "python",
   "name": "python3"
  },
  "language_info": {
   "codemirror_mode": {
    "name": "ipython",
    "version": 3
   },
   "file_extension": ".py",
   "mimetype": "text/x-python",
   "name": "python",
   "nbconvert_exporter": "python",
   "pygments_lexer": "ipython3",
   "version": "3.9.13"
  }
 },
 "nbformat": 4,
 "nbformat_minor": 5
}
