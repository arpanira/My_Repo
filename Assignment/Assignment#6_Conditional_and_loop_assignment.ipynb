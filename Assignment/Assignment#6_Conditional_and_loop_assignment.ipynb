{
 "cells": [
  {
   "cell_type": "markdown",
   "metadata": {
    "id": "wNRNTbrsc53d"
   },
   "source": [
    "# If - elif - else statement"
   ]
  },
  {
   "cell_type": "code",
   "execution_count": 4,
   "metadata": {
    "id": "MiPfTnBycxNa"
   },
   "outputs": [
    {
     "name": "stdout",
     "output_type": "stream",
     "text": [
      "Enter a num:3\n",
      "Three\n"
     ]
    }
   ],
   "source": [
    "#W. A P. which takes one number from 0 to 9 from the user and prints it in the word. And if the word is not from 0 to 9 then\n",
    "#it should print that number is outside of the range and program should exit.\n",
    "# For exapmple:- \n",
    "# input = 1\n",
    "# output = one\n",
    "\n",
    "\n",
    "num=eval(input(\"Enter a num:\"))\n",
    "if num==0:\n",
    "    print(\"Zero\")\n",
    "elif num==1:\n",
    "    print(\"One\")\n",
    "elif num==2:\n",
    "    print(\"Two\")\n",
    "elif num==3:\n",
    "    print(\"Three\")\n",
    "elif num==4:\n",
    "    print(\"Four\")\n",
    "elif num==5:\n",
    "    print(\"Five\")\n",
    "elif num==6:\n",
    "    print(\"Six\")\n",
    "elif num==7:\n",
    "    print(\"Seven\")\n",
    "elif num==8:\n",
    "    print(\"Eight\")\n",
    "elif num==9:\n",
    "    print(\"Nine\")\n",
    "else:\n",
    "    print(\"Given number not in range 0 to 9\")"
   ]
  },
  {
   "cell_type": "code",
   "execution_count": 10,
   "metadata": {
    "id": "vEMNOv9zdA39"
   },
   "outputs": [
    {
     "name": "stdout",
     "output_type": "stream",
     "text": [
      "enter num1:10\n",
      "enter num2:10\n",
      "\n",
      "#         * To add enter 1\n",
      "#         * to subtract enter 2\n",
      "#         * To multiply enter 3\n",
      "#         * To divide enter 4\n",
      "#         * To divide and find quotient enter 5\n",
      "#         * To divide and find remainder enter 6\n",
      "#         * To divide and find num1 to the power of num2 enter 7\n",
      "#         * To Come out of the program enter 8\n",
      "5\n",
      "Qoutient of div: 1\n"
     ]
    }
   ],
   "source": [
    "#W. A P. to implement calculator but the operation to be done and two numbers will be taken as input from user:-\n",
    "#Operation console should show below:-\n",
    "#     Please select any one operation from below:-\n",
    "#         * To add enter 1\n",
    "#         * to subtract enter 2\n",
    "#         * To multiply enter 3\n",
    "#         * To divide enter 4\n",
    "#         * To divide and find quotient enter 5\n",
    "#         * To divide and find remainder enter 6\n",
    "#         * To divide and find num1 to the power of num2 enter 7\n",
    "#         * To Come out of the program enter 8\n",
    "\n",
    "a=eval(input(\"enter num1:\"))\n",
    "b=eval(input(\"enter num2:\"))\n",
    "option=eval(input(\"\"\"\n",
    "#         * To add enter 1\n",
    "#         * to subtract enter 2\n",
    "#         * To multiply enter 3\n",
    "#         * To divide enter 4\n",
    "#         * To divide and find quotient enter 5\n",
    "#         * To divide and find remainder enter 6\n",
    "#         * To divide and find num1 to the power of num2 enter 7\n",
    "#         * To Come out of the program enter 8\\n\"\"\"))\n",
    "\n",
    "if option==1:\n",
    "    print(\"Result of sum:\",a+b)\n",
    "elif option==2:\n",
    "    print(\"Result of minus:\",a-b)\n",
    "elif option==3:\n",
    "    print(\"Result of product:\",a*b)\n",
    "elif option==4:\n",
    "    print(\"Result of division:\",a/b)\n",
    "elif option==5:\n",
    "    print(\"Qoutient of div:\",a//b)\n",
    "elif option==6:\n",
    "    print(\"Remainder of div:\",a%b)\n",
    "elif option==7:\n",
    "    print(\"Result of divison and power:\",a/b,a**b,sep=' ')\n",
    "elif option==8:\n",
    "    print(\"Exit:\",\" \")\n",
    "\n"
   ]
  },
  {
   "cell_type": "code",
   "execution_count": 18,
   "metadata": {
    "id": "1e2gwYLqdC1s"
   },
   "outputs": [
    {
     "name": "stdout",
     "output_type": "stream",
     "text": [
      "Enter year:1600\n",
      "It is a leap year\n"
     ]
    }
   ],
   "source": [
    "#W A P to check whether a year entered by user is an leap year or not?\n",
    "#Check with below input:-\n",
    "    #leap year:- 2012, 1968, 2004, 1200, 1600,2400\n",
    "    #Non-lear year:- 1971, 2006, 1700,1800,1900\n",
    "    \n",
    "yr=eval(input(\"Enter year:\"))\n",
    "if (yr%4==0 and yr%100!=0):\n",
    "    print(\"It is a leap year\")\n",
    "elif(yr%400==0):\n",
    "    print(\"It is a leap year\")\n",
    "else:\n",
    "    print(\"Not leap year\")"
   ]
  },
  {
   "cell_type": "code",
   "execution_count": 21,
   "metadata": {
    "id": "_tpXv1EtdEre"
   },
   "outputs": [
    {
     "name": "stdout",
     "output_type": "stream",
     "text": [
      "Enter number:-2\n",
      "It is even number\n"
     ]
    }
   ],
   "source": [
    "#W A P which takes one number from the user and checks whether it is an even or odd number?, If it even then prints number is \n",
    "#even number else prints that number is odd number.\n",
    "\n",
    "num=eval(input('Enter number:'))\n",
    "if num%2==0:\n",
    "    print(\"It is even number\")\n",
    "else:\n",
    "    print(\"It is odd number\")"
   ]
  },
  {
   "cell_type": "code",
   "execution_count": 33,
   "metadata": {
    "id": "Q1HumymCdG6i"
   },
   "outputs": [
    {
     "name": "stdout",
     "output_type": "stream",
     "text": [
      "Enter number1:10\n",
      "Enter number2:20\n",
      "number1 is smaller than number2\n",
      "Number1 is smaller than Number2\n"
     ]
    }
   ],
   "source": [
    "#W A P which takes two numbers from the user and prints below output:-\n",
    "#     1. num1 is greater than num2 if num1 is greater than num2\n",
    "#     2. num1 is smaller than num2 if num1 is smaller than num2\n",
    "#     3. num1 is equal to num2 if num1 and num2 are equal\n",
    "\n",
    "#Note:- 1. Do this problem using if - else \n",
    "#       2. Do this using ternary operator\n",
    "\n",
    "#problem using if - else \n",
    "\n",
    "num1=eval(input(\"Enter number1:\"))\n",
    "num2=eval(input(\"Enter number2:\"))\n",
    "if (num1>num2):\n",
    "    print(\"number1 is greater than number2\")\n",
    "elif (num1<num2):\n",
    "    print(\"number1 is smaller than number2\")\n",
    "else:\n",
    "    print(\"both numbers are equal\")\n",
    "\n",
    "    \n",
    "#using ternary operator\n",
    "print(\"Both Numbers are equal\") if num1==num2 else print(\"Number1 is greater than Number2\") if num1>num2 else print(\"Number1 is smaller than Number2\")\n"
   ]
  },
  {
   "cell_type": "code",
   "execution_count": 39,
   "metadata": {
    "id": "LR6TVB-DdOPf"
   },
   "outputs": [
    {
     "name": "stdout",
     "output_type": "stream",
     "text": [
      "Enter number1:20\n",
      "Enter number2:30\n",
      "Enter number3:100\n",
      "num3 is greater than num1 and num2\n",
      "num3 is greater than num1 and num2\n"
     ]
    }
   ],
   "source": [
    "#W A P which takes three numbers from the user and prints below output:-\n",
    "#     1. num1 is greater than num2 and num3 if num1 is greater than num2 and num3\n",
    "#     2. num2 is greater than num1 and num3 if num2 is greater than num1 and num3\n",
    "#     3. num3 is greater than num1 and num2 if num3 is greater than num1 and num2\n",
    "\n",
    "#Note:- 1. Do this problem using if - elif - else \n",
    "#       2. Do this using ternary operator\n",
    "\n",
    "# a = a if a>b else b\n",
    "\n",
    "num1=eval(input(\"Enter number1:\"))\n",
    "num2=eval(input(\"Enter number2:\"))\n",
    "num3=eval(input(\"Enter number3:\"))\n",
    "\n",
    "\n",
    "if (num1>num2 and num1>num3):\n",
    "    print(\"num1 is greater than num2 and num3\")\n",
    "elif (num2>num1 and num2>num3):\n",
    "    print(\"num2 is greater than num1 and num3\")\n",
    "elif (num3>num1 and num3>num2):\n",
    "    print(\"num3 is greater than num1 and num2\")\n",
    "\n",
    "    \n",
    "#using ternary operator\n",
    "print(\"num1 is greater than num2 and num3\") if (num1>num2 and num1>num3) else print(\"num2 is greater than num1 and num3\") if (num2>num1 and num2>num3) else print(\"num3 is greater than num1 and num2\") if (num3>num1 and num3>num2)  else print(\"\")\n",
    "\n"
   ]
  },
  {
   "cell_type": "markdown",
   "metadata": {
    "id": "IoOLQMUGdSox"
   },
   "source": [
    "# Loops - for loop, while loop"
   ]
  },
  {
   "cell_type": "code",
   "execution_count": 43,
   "metadata": {
    "id": "9K23Uld8dQfA"
   },
   "outputs": [
    {
     "name": "stdout",
     "output_type": "stream",
     "text": [
      "55\n"
     ]
    }
   ],
   "source": [
    "#Write a Python program to find the length of the my_str using loop:-\n",
    "\n",
    "#Input:- 'Write a Python program to find the length of the my_str'\n",
    "#Output:- 55\n",
    "\n",
    "my_str='Write a Python program to find the length of the my_str'\n",
    "i=0\n",
    "\n",
    "while i < len(my_str):\n",
    "    i=i+1\n",
    "print(i)\n"
   ]
  },
  {
   "cell_type": "code",
   "execution_count": 44,
   "metadata": {
    "id": "bp6AcqTsdYxy"
   },
   "outputs": [
    {
     "name": "stdout",
     "output_type": "stream",
     "text": [
      "9\n"
     ]
    }
   ],
   "source": [
    "#Write a Python program to find the total number of times letter 'p' is appeared in the below string using loop:-\n",
    "    \n",
    "#Input:- 'peter piper picked a peck of pickled peppers.\\n'\n",
    "#Output:- 9\n",
    "\n",
    "my_str='peter piper picked a peck of pickled peppers.\\n'\n",
    "count=0\n",
    "for i in my_str:\n",
    "    if i=='p':\n",
    "        count=count+1\n",
    "print(count)\n",
    "\n"
   ]
  },
  {
   "cell_type": "code",
   "execution_count": 48,
   "metadata": {
    "id": "xvxSBhTJdav1"
   },
   "outputs": [
    {
     "name": "stdout",
     "output_type": "stream",
     "text": [
      "0\n",
      "6\n",
      "8\n",
      "12\n",
      "21\n",
      "29\n",
      "37\n",
      "39\n",
      "40\n"
     ]
    }
   ],
   "source": [
    "#Write a Python Program, to print all the indexes of all occurences of letter 'p' appeared in the string using loop:-\n",
    "    \n",
    "#Input:- 'peter piper picked a peck of pickled peppers.'\n",
    "#Output:- \n",
    "# 0\n",
    "# 6\n",
    "# 8\n",
    "# 12\n",
    "# 21\n",
    "# 29\n",
    "# 37\n",
    "# 39\n",
    "# 40\n",
    "\n",
    "i=0\n",
    "my_str='peter piper picked a peck of pickled peppers.'\n",
    "for i in range(0,len(my_str)):\n",
    "    if my_str[i]=='p':\n",
    "        print(i)\n"
   ]
  },
  {
   "cell_type": "code",
   "execution_count": 96,
   "metadata": {
    "id": "79L_feMadbmw"
   },
   "outputs": [
    {
     "name": "stdout",
     "output_type": "stream",
     "text": [
      "['peter', 'piper', 'picked', 'a', 'peck', 'of', 'pickled', 'peppers']\n"
     ]
    }
   ],
   "source": [
    "#Write a python program to find below output using loop:-\n",
    "\n",
    "#Input:- 'peter piper picked a peck of pickled peppers.'\n",
    "#Output:- ['peter', 'piper', 'picked', 'a', 'peck', 'of', 'pickled', 'peppers']\n",
    "\n",
    "\n",
    "new_list=[]\n",
    "tmp_list=[]\n",
    "my_str='peter piper picked a peck of pickled peppers.'\n",
    "for i in my_str:\n",
    "    if i!=' ' and i!='.':\n",
    "     tmp_list.append(i)\n",
    "    if i==' ' or i=='.':\n",
    "        a=''.join(tmp_list)\n",
    "        new_list.append(a)\n",
    "        tmp_list=[]  #emptying the tmp_list before next word is read.\n",
    "print(new_list)\n",
    "\n",
    "        "
   ]
  },
  {
   "cell_type": "code",
   "execution_count": 93,
   "metadata": {
    "id": "vzs5AJ53deVS"
   },
   "outputs": [
    {
     "name": "stdout",
     "output_type": "stream",
     "text": [
      "peppers. pickled of peck a picked piper peter\n"
     ]
    }
   ],
   "source": [
    "#Write a python program to find below output using loop:-\n",
    "\n",
    "#Input:- 'peter piper picked a peck of pickled peppers.'\n",
    "#Output:- 'peppers pickled of peck a picked piper peter'\n",
    "\n",
    "new_list=[]\n",
    "\n",
    "my_str='peter piper picked a peck of pickled peppers.'\n",
    "my_str_list=my_str.split()\n",
    "for i in range(len(my_str_list)-1,-1,-1):\n",
    "    \n",
    "    new_list.append(my_str_list[i])\n",
    "print(' '.join(new_list))\n",
    "\n",
    "\n",
    "\n"
   ]
  },
  {
   "cell_type": "code",
   "execution_count": 85,
   "metadata": {
    "id": "i-HP7DrCdhwS"
   },
   "outputs": [
    {
     "name": "stdout",
     "output_type": "stream",
     "text": [
      ".sreppep delkcip fo kcep a dekcip repip retep\n"
     ]
    }
   ],
   "source": [
    "#Write a python program to find below output using loop:-\n",
    "\n",
    "#Input:- 'peter piper picked a peck of pickled peppers.'\n",
    "#Output:- '.sreppep delkcip fo kcep a dekcip repip retep'\n",
    "\n",
    "new_list=[]\n",
    "\n",
    "my_str='peter piper picked a peck of pickled peppers.'\n",
    "my_str_list=my_str.split()\n",
    "for i in range(len(my_str_list)-1,-1,-1):\n",
    "    new_list.append(my_str_list[i][::-1])\n",
    "print(' '.join(new_list))"
   ]
  },
  {
   "cell_type": "code",
   "execution_count": 99,
   "metadata": {
    "id": "3rt6p0ytdkq0"
   },
   "outputs": [
    {
     "name": "stdout",
     "output_type": "stream",
     "text": [
      "retep repip dekcip a kcep fo delkcip sreppep\n"
     ]
    }
   ],
   "source": [
    "#Write a python program to find below output using loop:-\n",
    "\n",
    "#Input:- 'peter piper picked a peck of pickled peppers.'\n",
    "#Output:- 'retep repip dekcip a kcep fo delkcip sreppep'\n",
    "new_list=[]\n",
    "tmp_list=[]\n",
    "my_str='peter piper picked a peck of pickled peppers.'\n",
    "for i in my_str:\n",
    "    if i!=' ' and i!='.':\n",
    "     tmp_list.append(i)\n",
    "    if i==' ' or i=='.':\n",
    "        a=''.join(tmp_list)\n",
    "        new_list.append(a[::-1])\n",
    "        tmp_list=[]  #emptying the tmp_list before next word is read.\n",
    "print(' '.join(new_list))\n"
   ]
  },
  {
   "cell_type": "code",
   "execution_count": 111,
   "metadata": {
    "id": "HdlAWgT2dnKO"
   },
   "outputs": [
    {
     "name": "stdout",
     "output_type": "stream",
     "text": [
      "Peter Piper Picked A Peck Of Pickled Peppers.\n",
      "Peter Piper Picked A Peck Of Pickled Peppers.\n"
     ]
    }
   ],
   "source": [
    "#Write a python program to find below output using loop:-\n",
    "\n",
    "#Input:- 'peter piper picked a peck of pickled peppers.'\n",
    "#Output:- 'Peter Piper Picked A Peck Of Pickled Peppers'\n",
    "\n",
    "my_str='peter piper picked a peck of pickled peppers.'\n",
    "new_list=[]\n",
    "lst=my_str.split()\n",
    "for i in lst:\n",
    "    j=i[0].upper()+i[1:]\n",
    "    new_list.append(j)\n",
    "print(' '.join(new_list))\n",
    "\n",
    "\n",
    "#OR\n",
    "\n",
    "a=list(map(lambda i:i[0].upper()+i[1:],lst))\n",
    "print(' '.join(a))\n",
    "\n",
    "\n",
    "\n",
    "\n",
    "        "
   ]
  },
  {
   "cell_type": "code",
   "execution_count": 117,
   "metadata": {
    "id": "OthUuacodrNl"
   },
   "outputs": [
    {
     "name": "stdout",
     "output_type": "stream",
     "text": [
      "['Peter', 'piper', 'picked', 'a', 'peck', 'of', 'pickled', 'peppers.']\n",
      "Peter piper picked a peck of pickled peppers.\n"
     ]
    }
   ],
   "source": [
    "#Write a python program to find below output using loop:-\n",
    "\n",
    "#Input:- 'Peter Piper Picked A Peck Of Pickled Peppers.'\n",
    "#Output:- 'Peter piper picked a peck of pickled peppers'\n",
    "\n",
    "my_str='Peter Piper Picked A Peck Of Pickled Peppers.'\n",
    "new_list=[]\n",
    "lst=my_str.split()\n",
    "\n",
    "for i in range(0,len(lst)):\n",
    "        if i==0:\n",
    "            new_list.append(lst[i][0].upper()+lst[i][1:])\n",
    "        else:\n",
    "            new_list.append(lst[i][0].lower()+lst[i][1:])\n",
    "print(new_list)\n",
    "\n",
    "j_new_list=' '.join(new_list)\n",
    "print(j_new_list)"
   ]
  },
  {
   "cell_type": "code",
   "execution_count": 119,
   "metadata": {
    "colab": {
     "base_uri": "https://localhost:8080/",
     "height": 34
    },
    "id": "scmDJE-ldsI9",
    "outputId": "4b1d1979-9f4a-4bc6-c505-b88b1bbd4d5d"
   },
   "outputs": [
    {
     "name": "stdout",
     "output_type": "stream",
     "text": [
      "29\n"
     ]
    }
   ],
   "source": [
    "#Write a python program to implement index method using loop. If sub_str is found in my_str then it will print the index\n",
    "# of first occurrence of first character of matching string in my_str:-\n",
    "\n",
    "#Input:- my_str = 'Peter Piper Picked A Peck Of Pickled Peppers.', sub_str = 'Pickl'\n",
    "#Output:- 29\n",
    "\n",
    "my_str='Peter Piper Picked A Peck Of Pickled Peppers.'\n",
    "sub_str = 'Pickl'\n",
    "sl=len(sub_str)\n",
    "\n",
    "for i in range(0,len(my_str)):\n",
    "   if(my_str[i:i+sl])==sub_str:\n",
    "      print(i)\n",
    "\n"
   ]
  },
  {
   "cell_type": "code",
   "execution_count": 136,
   "metadata": {
    "id": "Kq_fwdb_dvYE"
   },
   "outputs": [
    {
     "name": "stdout",
     "output_type": "stream",
     "text": [
      "Peter Piper Picked A Pack Of Pickled Peppers.\n"
     ]
    }
   ],
   "source": [
    "#Write a python program to implement replace method using loop. If sub_str is found in my_str then it will replace the first \n",
    "#occurrence of sub_str with new_str else it will will print sub_str not found:-\n",
    "\n",
    "#Input:- my_str = 'Peter Piper Picked A Peck Of Pickled Peppers.', sub_str = 'Peck', new_str = 'Pack'\n",
    "#Output:- 'Peter Piper Picked A Pack Of Pickled Peppers.'\n",
    "\n",
    "my_str = 'Peter Piper Picked A Peck Of Pickled Peppers.'\n",
    "my_list=list('Peter Piper Picked A Peck Of Pickled Peppers.')\n",
    "sub_str = 'Peck'\n",
    "n=len(sub_str)\n",
    "new_str = 'Pack'\n",
    "\n",
    "for i in range(0,len(my_list)):\n",
    "   if(my_list[i:(i+n)])==list(sub_str):\n",
    "      my_list[i:(i+n)]=new_str\n",
    "      break\n",
    "print(''.join(my_list))\n"
   ]
  },
  {
   "cell_type": "code",
   "execution_count": 19,
   "metadata": {
    "id": "4Qes5D0cdyd1"
   },
   "outputs": [
    {
     "name": "stdout",
     "output_type": "stream",
     "text": [
      "*********************Peck********************\n",
      "45 45\n"
     ]
    }
   ],
   "source": [
    "#Write a python program to find below output (implements rjust and ljust) using loop:-\n",
    "\n",
    "#Input:- 'Peter Piper Picked A Peck Of Pickled Peppers.', sub_str = 'Peck', \n",
    "#Output:- '*********************Peck********************'\n",
    "\n",
    "my_str='Peter Piper Picked A Peck Of Pickled Peppers.'\n",
    "sub_str = 'Peck'\n",
    "new_list=[]\n",
    "new_list2=[]\n",
    "\n",
    "n=len(sub_str)\n",
    "i=0\n",
    "while i<len(my_str):\n",
    "    \n",
    "    if my_str[i:i+n]!=sub_str:\n",
    "        new_list.append('*')\n",
    "        i=i+1\n",
    "        \n",
    "    \n",
    "    else:\n",
    "        new_list.append(sub_str)          \n",
    "        i=i+n\n",
    "c=''.join(new_list)\n",
    "print(c)   \n",
    "\n",
    "\n",
    "\n",
    "\n",
    "\n",
    "\n"
   ]
  },
  {
   "cell_type": "code",
   "execution_count": 18,
   "metadata": {
    "id": "DsOrb07Od0lR"
   },
   "outputs": [
    {
     "name": "stdout",
     "output_type": "stream",
     "text": [
      "['This', 'is', 'Python class']\n"
     ]
    }
   ],
   "source": [
    "#Write a python program to find below output using loop:-\n",
    "\n",
    "#Input:- 'This is Python class', sep = ' is', \n",
    "#Output:- ['This', 'is', 'Python class']\n",
    "\n",
    "a='This is Python class'\n",
    "new_list=[]\n",
    "new_list2=[]\n",
    "sep=' is '\n",
    "n=len(sep)\n",
    "i=0\n",
    "while i<len(a):\n",
    "    \n",
    "    if a[i:i+n]!=sep:\n",
    "        new_list.append(a[i])\n",
    "        i=i+1\n",
    "        \n",
    "    \n",
    "    else:\n",
    "        new_list2.append(''.join(new_list))\n",
    "        new_list2.append(sep.strip())\n",
    "        new_list=[]\n",
    "        i=i+n\n",
    "        \n",
    "new_list2.append(''.join(new_list))\n",
    "print(new_list2)        \n",
    "        \n"
   ]
  },
  {
   "cell_type": "code",
   "execution_count": null,
   "metadata": {},
   "outputs": [],
   "source": []
  }
 ],
 "metadata": {
  "colab": {
   "name": "Conditional_and_loop_assignment.ipynb",
   "provenance": []
  },
  "kernelspec": {
   "display_name": "Python 3 (ipykernel)",
   "language": "python",
   "name": "python3"
  },
  "language_info": {
   "codemirror_mode": {
    "name": "ipython",
    "version": 3
   },
   "file_extension": ".py",
   "mimetype": "text/x-python",
   "name": "python",
   "nbconvert_exporter": "python",
   "pygments_lexer": "ipython3",
   "version": "3.9.13"
  }
 },
 "nbformat": 4,
 "nbformat_minor": 1
}
