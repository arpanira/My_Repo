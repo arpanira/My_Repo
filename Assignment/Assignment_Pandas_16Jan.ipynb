{
 "cells": [
  {
   "cell_type": "code",
   "execution_count": null,
   "id": "0ee7682e",
   "metadata": {},
   "outputs": [],
   "source": [
    "\"\"\"Write a Python program to create and display a one-\n",
    "dimensional array-like object containing an array of data using\n",
    "\n",
    "Pandas module.\"\"\""
   ]
  },
  {
   "cell_type": "code",
   "execution_count": 1,
   "id": "7bc45891",
   "metadata": {},
   "outputs": [],
   "source": [
    "import numpy as np"
   ]
  },
  {
   "cell_type": "code",
   "execution_count": 10,
   "id": "3a9f571a",
   "metadata": {},
   "outputs": [],
   "source": [
    "import pandas as pd"
   ]
  },
  {
   "cell_type": "code",
   "execution_count": 23,
   "id": "1f58499a",
   "metadata": {},
   "outputs": [],
   "source": [
    "arr=np.array([1,2,3,4,5,6,7])\n",
    "ser1=pd.Series(arr)"
   ]
  },
  {
   "cell_type": "code",
   "execution_count": 24,
   "id": "22b84139",
   "metadata": {},
   "outputs": [
    {
     "name": "stdout",
     "output_type": "stream",
     "text": [
      "0    1\n",
      "1    2\n",
      "2    3\n",
      "3    4\n",
      "4    5\n",
      "5    6\n",
      "6    7\n",
      "dtype: int32 <class 'pandas.core.series.Series'>\n"
     ]
    }
   ],
   "source": [
    "print(ser1,type(ser1))"
   ]
  },
  {
   "cell_type": "code",
   "execution_count": 25,
   "id": "d7e8a203",
   "metadata": {},
   "outputs": [
    {
     "name": "stdout",
     "output_type": "stream",
     "text": [
      "[1, 2, 3, 4, 5, 6, 7] <class 'list'>\n"
     ]
    }
   ],
   "source": [
    "\"\"\"Write a Python program to convert a Panda module Series to\n",
    "Python list and its type.\"\"\"\n",
    "\n",
    "\n",
    "ser1_list=ser1.to_list()\n",
    "print(ser1_list,type(ser1_list))"
   ]
  },
  {
   "cell_type": "code",
   "execution_count": 26,
   "id": "a03371d6",
   "metadata": {},
   "outputs": [],
   "source": [
    "\"\"\"Write a Python program to add, subtract, multiple and divide\n",
    "two Pandas Series.\"\"\"\n",
    "\n",
    "ser1=pd.Series(np.random.randint(10,100,8))"
   ]
  },
  {
   "cell_type": "code",
   "execution_count": 29,
   "id": "03a5e8a3",
   "metadata": {},
   "outputs": [
    {
     "data": {
      "text/plain": [
       "array([52, 80, 38, 91, 12, 33, 11, 90])"
      ]
     },
     "execution_count": 29,
     "metadata": {},
     "output_type": "execute_result"
    }
   ],
   "source": [
    "ser1.values"
   ]
  },
  {
   "cell_type": "code",
   "execution_count": 30,
   "id": "926b02e3",
   "metadata": {},
   "outputs": [
    {
     "data": {
      "text/plain": [
       "array([66, 52, 30, 83, 22, 63, 36, 38, 79, 51])"
      ]
     },
     "execution_count": 30,
     "metadata": {},
     "output_type": "execute_result"
    }
   ],
   "source": [
    "ser2=pd.Series(np.random.randint(10,100,10))\n",
    "ser2.values"
   ]
  },
  {
   "cell_type": "code",
   "execution_count": 37,
   "id": "f08a2e35",
   "metadata": {},
   "outputs": [
    {
     "name": "stdout",
     "output_type": "stream",
     "text": [
      "Series addition:\n",
      "\n",
      "\n",
      "0    118.0\n",
      "1    132.0\n",
      "2     68.0\n",
      "3    174.0\n",
      "4     34.0\n",
      "5     96.0\n",
      "6     47.0\n",
      "7    128.0\n",
      "8      NaN\n",
      "9      NaN\n",
      "dtype: float64\n",
      "\n",
      "\n",
      "Series sub:\n",
      "\n",
      "\n",
      "0   -14.0\n",
      "1    28.0\n",
      "2     8.0\n",
      "3     8.0\n",
      "4   -10.0\n",
      "5   -30.0\n",
      "6   -25.0\n",
      "7    52.0\n",
      "8     NaN\n",
      "9     NaN\n",
      "dtype: float64\n",
      "\n",
      "\n",
      "Series multiplication:\n",
      "\n",
      "\n",
      "0    3432.0\n",
      "1    4160.0\n",
      "2    1140.0\n",
      "3    7553.0\n",
      "4     264.0\n",
      "5    2079.0\n",
      "6     396.0\n",
      "7    3420.0\n",
      "8       NaN\n",
      "9       NaN\n",
      "dtype: float64\n",
      "\n",
      "\n",
      "Series division:\n",
      "\n",
      "\n",
      "0    0.787879\n",
      "1    1.538462\n",
      "2    1.266667\n",
      "3    1.096386\n",
      "4    0.545455\n",
      "5    0.523810\n",
      "6    0.305556\n",
      "7    2.368421\n",
      "8         NaN\n",
      "9         NaN\n",
      "dtype: float64\n"
     ]
    }
   ],
   "source": [
    "print(\"Series addition:\",ser1+ser2,\"Series sub:\",ser1-ser2,\"Series multiplication:\",ser1*ser2,\"Series division:\",ser1/ser2,sep='\\n\\n\\n')"
   ]
  },
  {
   "cell_type": "code",
   "execution_count": 49,
   "id": "eae20f89",
   "metadata": {},
   "outputs": [],
   "source": [
    "\"\"\"Write a Python program to compare the elements of the two\n",
    "Pandas Series.\"\"\"\n",
    "\n",
    "ser1=pd.Series([2,3,4,15,6])\n",
    "ser2=pd.Series([6,7,8,9,10])"
   ]
  },
  {
   "cell_type": "code",
   "execution_count": 50,
   "id": "2c3b65dc",
   "metadata": {},
   "outputs": [
    {
     "data": {
      "text/plain": [
       "0     2\n",
       "1     3\n",
       "2     4\n",
       "3    15\n",
       "4     6\n",
       "dtype: int64"
      ]
     },
     "execution_count": 50,
     "metadata": {},
     "output_type": "execute_result"
    }
   ],
   "source": [
    "ser1"
   ]
  },
  {
   "cell_type": "code",
   "execution_count": 51,
   "id": "9aa512f0",
   "metadata": {},
   "outputs": [
    {
     "data": {
      "text/plain": [
       "0     6\n",
       "1     7\n",
       "2     8\n",
       "3     9\n",
       "4    10\n",
       "dtype: int64"
      ]
     },
     "execution_count": 51,
     "metadata": {},
     "output_type": "execute_result"
    }
   ],
   "source": [
    "ser2"
   ]
  },
  {
   "cell_type": "code",
   "execution_count": 52,
   "id": "27059a11",
   "metadata": {},
   "outputs": [
    {
     "data": {
      "text/plain": [
       "0    False\n",
       "1    False\n",
       "2    False\n",
       "3     True\n",
       "4    False\n",
       "dtype: bool"
      ]
     },
     "execution_count": 52,
     "metadata": {},
     "output_type": "execute_result"
    }
   ],
   "source": [
    "ser1>ser2"
   ]
  },
  {
   "cell_type": "code",
   "execution_count": 53,
   "id": "757cd943",
   "metadata": {},
   "outputs": [
    {
     "data": {
      "text/plain": [
       "0     True\n",
       "1     True\n",
       "2     True\n",
       "3    False\n",
       "4     True\n",
       "dtype: bool"
      ]
     },
     "execution_count": 53,
     "metadata": {},
     "output_type": "execute_result"
    }
   ],
   "source": [
    "ser1<ser2"
   ]
  },
  {
   "cell_type": "code",
   "execution_count": null,
   "id": "40a00bdc",
   "metadata": {},
   "outputs": [],
   "source": [
    "\"\"\" Write a Python program to display the following data column\n",
    "wise.\"\"\""
   ]
  },
  {
   "cell_type": "code",
   "execution_count": 111,
   "id": "ab62efdf",
   "metadata": {},
   "outputs": [],
   "source": [
    "\"\"\"Write a Python program to create and display a Data Frame\n",
    "from a specified dictionary data which has the index labels.\"\"\"\n",
    "\n",
    "data={\"name\":[\"Archana\",\"Suma\",\"Raghav\",\"Kumar\"],\"id\":[1001,1002,1003,5008],\"place\":[\"Bang\",\"Hyd\",\"Kolkata\",\"Mumbai\"],\"course\":[\"Eng\",\"Math\",\"Sciology\",None]}"
   ]
  },
  {
   "cell_type": "code",
   "execution_count": 112,
   "id": "dc76cf31",
   "metadata": {},
   "outputs": [],
   "source": [
    "data_df=pd.DataFrame(data,index=['S1','S2','S3','S4'])"
   ]
  },
  {
   "cell_type": "code",
   "execution_count": 113,
   "id": "3749a768",
   "metadata": {},
   "outputs": [
    {
     "data": {
      "text/plain": [
       "pandas.core.frame.DataFrame"
      ]
     },
     "execution_count": 113,
     "metadata": {},
     "output_type": "execute_result"
    }
   ],
   "source": [
    "type(data_df)"
   ]
  },
  {
   "cell_type": "code",
   "execution_count": 114,
   "id": "4ef634bb",
   "metadata": {},
   "outputs": [
    {
     "name": "stdout",
     "output_type": "stream",
     "text": [
      "       name    id    place    course\n",
      "S1  Archana  1001     Bang       Eng\n",
      "S2     Suma  1002      Hyd      Math\n",
      "S3   Raghav  1003  Kolkata  Sciology\n",
      "S4    Kumar  5008   Mumbai      None\n"
     ]
    }
   ],
   "source": [
    "print(data_df)"
   ]
  },
  {
   "cell_type": "code",
   "execution_count": 115,
   "id": "c0b17816",
   "metadata": {},
   "outputs": [
    {
     "name": "stdout",
     "output_type": "stream",
     "text": [
      "5008\n"
     ]
    }
   ],
   "source": [
    "print(data_df.loc['S4','id'])#get id of E4"
   ]
  },
  {
   "cell_type": "code",
   "execution_count": 116,
   "id": "4d82811a",
   "metadata": {},
   "outputs": [
    {
     "data": {
      "text/plain": [
       "S1    1001\n",
       "S2    1002\n",
       "S3    1003\n",
       "S4    5008\n",
       "Name: id, dtype: int64"
      ]
     },
     "execution_count": 116,
     "metadata": {},
     "output_type": "execute_result"
    }
   ],
   "source": [
    "data_df['id']#diaplay only ids"
   ]
  },
  {
   "cell_type": "code",
   "execution_count": 117,
   "id": "47869c5f",
   "metadata": {},
   "outputs": [
    {
     "data": {
      "text/plain": [
       "name      Archana\n",
       "id           1001\n",
       "place        Bang\n",
       "course        Eng\n",
       "Name: S1, dtype: object"
      ]
     },
     "execution_count": 117,
     "metadata": {},
     "output_type": "execute_result"
    }
   ],
   "source": [
    "#dispaly details of Archana\n",
    "data_df.loc['S1']"
   ]
  },
  {
   "cell_type": "code",
   "execution_count": 118,
   "id": "0022b84e",
   "metadata": {},
   "outputs": [
    {
     "data": {
      "text/plain": [
       "name      Archana\n",
       "id           1001\n",
       "place        Bang\n",
       "course        Eng\n",
       "Name: S1, dtype: object"
      ]
     },
     "execution_count": 118,
     "metadata": {},
     "output_type": "execute_result"
    }
   ],
   "source": [
    "#dispaly details of Archana\n",
    "data_df.iloc[0]"
   ]
  },
  {
   "cell_type": "code",
   "execution_count": 119,
   "id": "227a9693",
   "metadata": {},
   "outputs": [
    {
     "data": {
      "text/html": [
       "<div>\n",
       "<style scoped>\n",
       "    .dataframe tbody tr th:only-of-type {\n",
       "        vertical-align: middle;\n",
       "    }\n",
       "\n",
       "    .dataframe tbody tr th {\n",
       "        vertical-align: top;\n",
       "    }\n",
       "\n",
       "    .dataframe thead th {\n",
       "        text-align: right;\n",
       "    }\n",
       "</style>\n",
       "<table border=\"1\" class=\"dataframe\">\n",
       "  <thead>\n",
       "    <tr style=\"text-align: right;\">\n",
       "      <th></th>\n",
       "      <th>name</th>\n",
       "      <th>id</th>\n",
       "      <th>place</th>\n",
       "      <th>course</th>\n",
       "    </tr>\n",
       "  </thead>\n",
       "  <tbody>\n",
       "    <tr>\n",
       "      <th>S1</th>\n",
       "      <td>Archana</td>\n",
       "      <td>1001</td>\n",
       "      <td>Bang</td>\n",
       "      <td>Eng</td>\n",
       "    </tr>\n",
       "  </tbody>\n",
       "</table>\n",
       "</div>"
      ],
      "text/plain": [
       "       name    id place course\n",
       "S1  Archana  1001  Bang    Eng"
      ]
     },
     "execution_count": 119,
     "metadata": {},
     "output_type": "execute_result"
    }
   ],
   "source": [
    "data_df[data_df['name']=='Archana']"
   ]
  },
  {
   "cell_type": "code",
   "execution_count": null,
   "id": "b81a7234",
   "metadata": {},
   "outputs": [],
   "source": [
    "\"\"\" Write a Python program to select the rows the score is between\n",
    "15 and 20 (inclusive).\"\"\""
   ]
  },
  {
   "cell_type": "code",
   "execution_count": 120,
   "id": "424a69a5",
   "metadata": {},
   "outputs": [],
   "source": [
    "data_df['score']=[5,10,12,15]"
   ]
  },
  {
   "cell_type": "code",
   "execution_count": 121,
   "id": "74ce3bf7",
   "metadata": {},
   "outputs": [
    {
     "data": {
      "text/html": [
       "<div>\n",
       "<style scoped>\n",
       "    .dataframe tbody tr th:only-of-type {\n",
       "        vertical-align: middle;\n",
       "    }\n",
       "\n",
       "    .dataframe tbody tr th {\n",
       "        vertical-align: top;\n",
       "    }\n",
       "\n",
       "    .dataframe thead th {\n",
       "        text-align: right;\n",
       "    }\n",
       "</style>\n",
       "<table border=\"1\" class=\"dataframe\">\n",
       "  <thead>\n",
       "    <tr style=\"text-align: right;\">\n",
       "      <th></th>\n",
       "      <th>name</th>\n",
       "      <th>id</th>\n",
       "      <th>place</th>\n",
       "      <th>course</th>\n",
       "      <th>score</th>\n",
       "    </tr>\n",
       "  </thead>\n",
       "  <tbody>\n",
       "    <tr>\n",
       "      <th>S1</th>\n",
       "      <td>Archana</td>\n",
       "      <td>1001</td>\n",
       "      <td>Bang</td>\n",
       "      <td>Eng</td>\n",
       "      <td>5</td>\n",
       "    </tr>\n",
       "    <tr>\n",
       "      <th>S2</th>\n",
       "      <td>Suma</td>\n",
       "      <td>1002</td>\n",
       "      <td>Hyd</td>\n",
       "      <td>Math</td>\n",
       "      <td>10</td>\n",
       "    </tr>\n",
       "    <tr>\n",
       "      <th>S3</th>\n",
       "      <td>Raghav</td>\n",
       "      <td>1003</td>\n",
       "      <td>Kolkata</td>\n",
       "      <td>Sciology</td>\n",
       "      <td>12</td>\n",
       "    </tr>\n",
       "    <tr>\n",
       "      <th>S4</th>\n",
       "      <td>Kumar</td>\n",
       "      <td>5008</td>\n",
       "      <td>Mumbai</td>\n",
       "      <td>None</td>\n",
       "      <td>15</td>\n",
       "    </tr>\n",
       "  </tbody>\n",
       "</table>\n",
       "</div>"
      ],
      "text/plain": [
       "       name    id    place    course  score\n",
       "S1  Archana  1001     Bang       Eng      5\n",
       "S2     Suma  1002      Hyd      Math     10\n",
       "S3   Raghav  1003  Kolkata  Sciology     12\n",
       "S4    Kumar  5008   Mumbai      None     15"
      ]
     },
     "execution_count": 121,
     "metadata": {},
     "output_type": "execute_result"
    }
   ],
   "source": [
    "data_df"
   ]
  },
  {
   "cell_type": "code",
   "execution_count": 122,
   "id": "2d56e2a1",
   "metadata": {},
   "outputs": [
    {
     "data": {
      "text/html": [
       "<div>\n",
       "<style scoped>\n",
       "    .dataframe tbody tr th:only-of-type {\n",
       "        vertical-align: middle;\n",
       "    }\n",
       "\n",
       "    .dataframe tbody tr th {\n",
       "        vertical-align: top;\n",
       "    }\n",
       "\n",
       "    .dataframe thead th {\n",
       "        text-align: right;\n",
       "    }\n",
       "</style>\n",
       "<table border=\"1\" class=\"dataframe\">\n",
       "  <thead>\n",
       "    <tr style=\"text-align: right;\">\n",
       "      <th></th>\n",
       "      <th>name</th>\n",
       "      <th>id</th>\n",
       "      <th>place</th>\n",
       "      <th>course</th>\n",
       "      <th>score</th>\n",
       "    </tr>\n",
       "  </thead>\n",
       "  <tbody>\n",
       "    <tr>\n",
       "      <th>S2</th>\n",
       "      <td>Suma</td>\n",
       "      <td>1002</td>\n",
       "      <td>Hyd</td>\n",
       "      <td>Math</td>\n",
       "      <td>10</td>\n",
       "    </tr>\n",
       "    <tr>\n",
       "      <th>S3</th>\n",
       "      <td>Raghav</td>\n",
       "      <td>1003</td>\n",
       "      <td>Kolkata</td>\n",
       "      <td>Sciology</td>\n",
       "      <td>12</td>\n",
       "    </tr>\n",
       "    <tr>\n",
       "      <th>S4</th>\n",
       "      <td>Kumar</td>\n",
       "      <td>5008</td>\n",
       "      <td>Mumbai</td>\n",
       "      <td>None</td>\n",
       "      <td>15</td>\n",
       "    </tr>\n",
       "  </tbody>\n",
       "</table>\n",
       "</div>"
      ],
      "text/plain": [
       "      name    id    place    course  score\n",
       "S2    Suma  1002      Hyd      Math     10\n",
       "S3  Raghav  1003  Kolkata  Sciology     12\n",
       "S4   Kumar  5008   Mumbai      None     15"
      ]
     },
     "execution_count": 122,
     "metadata": {},
     "output_type": "execute_result"
    }
   ],
   "source": [
    "data_df[(data_df['score']>=10) & (data_df['score']<=15)]"
   ]
  },
  {
   "cell_type": "code",
   "execution_count": 157,
   "id": "3773832a",
   "metadata": {},
   "outputs": [],
   "source": [
    "df2=pd.DataFrame({\"name\": ['Spoorti'], \"id\": [5009], \"place\": ['Pune'], \"course\": ['Eng'], \"score\": [17]},index=['S5'])"
   ]
  },
  {
   "cell_type": "code",
   "execution_count": 158,
   "id": "79b0ccbe",
   "metadata": {},
   "outputs": [
    {
     "data": {
      "text/html": [
       "<div>\n",
       "<style scoped>\n",
       "    .dataframe tbody tr th:only-of-type {\n",
       "        vertical-align: middle;\n",
       "    }\n",
       "\n",
       "    .dataframe tbody tr th {\n",
       "        vertical-align: top;\n",
       "    }\n",
       "\n",
       "    .dataframe thead th {\n",
       "        text-align: right;\n",
       "    }\n",
       "</style>\n",
       "<table border=\"1\" class=\"dataframe\">\n",
       "  <thead>\n",
       "    <tr style=\"text-align: right;\">\n",
       "      <th></th>\n",
       "      <th>name</th>\n",
       "      <th>id</th>\n",
       "      <th>place</th>\n",
       "      <th>course</th>\n",
       "      <th>score</th>\n",
       "    </tr>\n",
       "  </thead>\n",
       "  <tbody>\n",
       "    <tr>\n",
       "      <th>S5</th>\n",
       "      <td>Spoorti</td>\n",
       "      <td>5009</td>\n",
       "      <td>Pune</td>\n",
       "      <td>Eng</td>\n",
       "      <td>17</td>\n",
       "    </tr>\n",
       "  </tbody>\n",
       "</table>\n",
       "</div>"
      ],
      "text/plain": [
       "       name    id place course  score\n",
       "S5  Spoorti  5009  Pune    Eng     17"
      ]
     },
     "execution_count": 158,
     "metadata": {},
     "output_type": "execute_result"
    }
   ],
   "source": [
    "df2"
   ]
  },
  {
   "cell_type": "code",
   "execution_count": 159,
   "id": "99d602fd",
   "metadata": {},
   "outputs": [],
   "source": [
    "data_df=pd.concat([data_df,df2])"
   ]
  },
  {
   "cell_type": "code",
   "execution_count": 160,
   "id": "1e7a0f74",
   "metadata": {},
   "outputs": [
    {
     "data": {
      "text/html": [
       "<div>\n",
       "<style scoped>\n",
       "    .dataframe tbody tr th:only-of-type {\n",
       "        vertical-align: middle;\n",
       "    }\n",
       "\n",
       "    .dataframe tbody tr th {\n",
       "        vertical-align: top;\n",
       "    }\n",
       "\n",
       "    .dataframe thead th {\n",
       "        text-align: right;\n",
       "    }\n",
       "</style>\n",
       "<table border=\"1\" class=\"dataframe\">\n",
       "  <thead>\n",
       "    <tr style=\"text-align: right;\">\n",
       "      <th></th>\n",
       "      <th>name</th>\n",
       "      <th>id</th>\n",
       "      <th>place</th>\n",
       "      <th>course</th>\n",
       "      <th>score</th>\n",
       "      <th>no_attempts</th>\n",
       "    </tr>\n",
       "  </thead>\n",
       "  <tbody>\n",
       "    <tr>\n",
       "      <th>S1</th>\n",
       "      <td>Archana</td>\n",
       "      <td>1001</td>\n",
       "      <td>Bang</td>\n",
       "      <td>Eng</td>\n",
       "      <td>5</td>\n",
       "      <td>1.0</td>\n",
       "    </tr>\n",
       "    <tr>\n",
       "      <th>S2</th>\n",
       "      <td>Suma</td>\n",
       "      <td>1002</td>\n",
       "      <td>Hyd</td>\n",
       "      <td>Math</td>\n",
       "      <td>10</td>\n",
       "      <td>2.0</td>\n",
       "    </tr>\n",
       "    <tr>\n",
       "      <th>S3</th>\n",
       "      <td>Raghav</td>\n",
       "      <td>1003</td>\n",
       "      <td>Kolkata</td>\n",
       "      <td>Sciology</td>\n",
       "      <td>12</td>\n",
       "      <td>1.0</td>\n",
       "    </tr>\n",
       "    <tr>\n",
       "      <th>S4</th>\n",
       "      <td>Kumar</td>\n",
       "      <td>5008</td>\n",
       "      <td>Mumbai</td>\n",
       "      <td>None</td>\n",
       "      <td>15</td>\n",
       "      <td>1.0</td>\n",
       "    </tr>\n",
       "    <tr>\n",
       "      <th>S5</th>\n",
       "      <td>Spoorti</td>\n",
       "      <td>5009</td>\n",
       "      <td>Pune</td>\n",
       "      <td>Eng</td>\n",
       "      <td>17</td>\n",
       "      <td>NaN</td>\n",
       "    </tr>\n",
       "  </tbody>\n",
       "</table>\n",
       "</div>"
      ],
      "text/plain": [
       "       name    id    place    course  score  no_attempts\n",
       "S1  Archana  1001     Bang       Eng      5          1.0\n",
       "S2     Suma  1002      Hyd      Math     10          2.0\n",
       "S3   Raghav  1003  Kolkata  Sciology     12          1.0\n",
       "S4    Kumar  5008   Mumbai      None     15          1.0\n",
       "S5  Spoorti  5009     Pune       Eng     17          NaN"
      ]
     },
     "execution_count": 160,
     "metadata": {},
     "output_type": "execute_result"
    }
   ],
   "source": [
    "data_df"
   ]
  },
  {
   "cell_type": "code",
   "execution_count": null,
   "id": "6dafaa83",
   "metadata": {},
   "outputs": [],
   "source": [
    "\"\"\"Write a Python program to select the rows where number of\n",
    "attempts in the examination is less than 2 and score greater than\n",
    "15.\"\"\""
   ]
  },
  {
   "cell_type": "code",
   "execution_count": 161,
   "id": "d3a19344",
   "metadata": {},
   "outputs": [],
   "source": [
    "data_df[\"no_attempts\"]=[1,2,1,1,1]"
   ]
  },
  {
   "cell_type": "code",
   "execution_count": 162,
   "id": "e4ee7bf1",
   "metadata": {},
   "outputs": [
    {
     "data": {
      "text/html": [
       "<div>\n",
       "<style scoped>\n",
       "    .dataframe tbody tr th:only-of-type {\n",
       "        vertical-align: middle;\n",
       "    }\n",
       "\n",
       "    .dataframe tbody tr th {\n",
       "        vertical-align: top;\n",
       "    }\n",
       "\n",
       "    .dataframe thead th {\n",
       "        text-align: right;\n",
       "    }\n",
       "</style>\n",
       "<table border=\"1\" class=\"dataframe\">\n",
       "  <thead>\n",
       "    <tr style=\"text-align: right;\">\n",
       "      <th></th>\n",
       "      <th>name</th>\n",
       "      <th>id</th>\n",
       "      <th>place</th>\n",
       "      <th>course</th>\n",
       "      <th>score</th>\n",
       "      <th>no_attempts</th>\n",
       "    </tr>\n",
       "  </thead>\n",
       "  <tbody>\n",
       "    <tr>\n",
       "      <th>S5</th>\n",
       "      <td>Spoorti</td>\n",
       "      <td>5009</td>\n",
       "      <td>Pune</td>\n",
       "      <td>Eng</td>\n",
       "      <td>17</td>\n",
       "      <td>1</td>\n",
       "    </tr>\n",
       "  </tbody>\n",
       "</table>\n",
       "</div>"
      ],
      "text/plain": [
       "       name    id place course  score  no_attempts\n",
       "S5  Spoorti  5009  Pune    Eng     17            1"
      ]
     },
     "execution_count": 162,
     "metadata": {},
     "output_type": "execute_result"
    }
   ],
   "source": [
    "data_df[(data_df[\"no_attempts\"]<2) & (data_df['score']>15)]"
   ]
  },
  {
   "cell_type": "code",
   "execution_count": null,
   "id": "c2efaf0a",
   "metadata": {},
   "outputs": [],
   "source": [
    "\"\"\"Write a Python program to append a new row 'k' to Data Frame\n",
    "with given values for each column. Now delete the new row and\n",
    "return the original data frame.\"\"\""
   ]
  },
  {
   "cell_type": "code",
   "execution_count": 169,
   "id": "66901352",
   "metadata": {},
   "outputs": [
    {
     "data": {
      "text/plain": [
       "Index(['name', 'id', 'place', 'course', 'score', 'no_attempts'], dtype='object')"
      ]
     },
     "execution_count": 169,
     "metadata": {},
     "output_type": "execute_result"
    }
   ],
   "source": [
    "data_df.columns"
   ]
  },
  {
   "cell_type": "code",
   "execution_count": 173,
   "id": "1aa3efa8",
   "metadata": {},
   "outputs": [],
   "source": [
    "df3=pd.DataFrame([[\"Gauri\",600,\"Bang\",\"IT\",20,3]],columns=['name', 'id', 'place', 'course', 'score', 'no_attempts'],index=['S6'])"
   ]
  },
  {
   "cell_type": "code",
   "execution_count": 174,
   "id": "73c0db19",
   "metadata": {},
   "outputs": [
    {
     "data": {
      "text/html": [
       "<div>\n",
       "<style scoped>\n",
       "    .dataframe tbody tr th:only-of-type {\n",
       "        vertical-align: middle;\n",
       "    }\n",
       "\n",
       "    .dataframe tbody tr th {\n",
       "        vertical-align: top;\n",
       "    }\n",
       "\n",
       "    .dataframe thead th {\n",
       "        text-align: right;\n",
       "    }\n",
       "</style>\n",
       "<table border=\"1\" class=\"dataframe\">\n",
       "  <thead>\n",
       "    <tr style=\"text-align: right;\">\n",
       "      <th></th>\n",
       "      <th>name</th>\n",
       "      <th>id</th>\n",
       "      <th>place</th>\n",
       "      <th>course</th>\n",
       "      <th>score</th>\n",
       "      <th>no_attempts</th>\n",
       "    </tr>\n",
       "  </thead>\n",
       "  <tbody>\n",
       "    <tr>\n",
       "      <th>S6</th>\n",
       "      <td>Gauri</td>\n",
       "      <td>600</td>\n",
       "      <td>Bang</td>\n",
       "      <td>IT</td>\n",
       "      <td>20</td>\n",
       "      <td>3</td>\n",
       "    </tr>\n",
       "  </tbody>\n",
       "</table>\n",
       "</div>"
      ],
      "text/plain": [
       "     name   id place course  score  no_attempts\n",
       "S6  Gauri  600  Bang     IT     20            3"
      ]
     },
     "execution_count": 174,
     "metadata": {},
     "output_type": "execute_result"
    }
   ],
   "source": [
    "df3"
   ]
  },
  {
   "cell_type": "code",
   "execution_count": 176,
   "id": "9575cf78",
   "metadata": {},
   "outputs": [],
   "source": [
    "data_df=pd.concat([data_df,df3])"
   ]
  },
  {
   "cell_type": "code",
   "execution_count": 177,
   "id": "60fd9702",
   "metadata": {},
   "outputs": [
    {
     "data": {
      "text/html": [
       "<div>\n",
       "<style scoped>\n",
       "    .dataframe tbody tr th:only-of-type {\n",
       "        vertical-align: middle;\n",
       "    }\n",
       "\n",
       "    .dataframe tbody tr th {\n",
       "        vertical-align: top;\n",
       "    }\n",
       "\n",
       "    .dataframe thead th {\n",
       "        text-align: right;\n",
       "    }\n",
       "</style>\n",
       "<table border=\"1\" class=\"dataframe\">\n",
       "  <thead>\n",
       "    <tr style=\"text-align: right;\">\n",
       "      <th></th>\n",
       "      <th>name</th>\n",
       "      <th>id</th>\n",
       "      <th>place</th>\n",
       "      <th>course</th>\n",
       "      <th>score</th>\n",
       "      <th>no_attempts</th>\n",
       "    </tr>\n",
       "  </thead>\n",
       "  <tbody>\n",
       "    <tr>\n",
       "      <th>S1</th>\n",
       "      <td>Archana</td>\n",
       "      <td>1001</td>\n",
       "      <td>Bang</td>\n",
       "      <td>Eng</td>\n",
       "      <td>5</td>\n",
       "      <td>1</td>\n",
       "    </tr>\n",
       "    <tr>\n",
       "      <th>S2</th>\n",
       "      <td>Suma</td>\n",
       "      <td>1002</td>\n",
       "      <td>Hyd</td>\n",
       "      <td>Math</td>\n",
       "      <td>10</td>\n",
       "      <td>2</td>\n",
       "    </tr>\n",
       "    <tr>\n",
       "      <th>S3</th>\n",
       "      <td>Raghav</td>\n",
       "      <td>1003</td>\n",
       "      <td>Kolkata</td>\n",
       "      <td>Sciology</td>\n",
       "      <td>12</td>\n",
       "      <td>1</td>\n",
       "    </tr>\n",
       "    <tr>\n",
       "      <th>S4</th>\n",
       "      <td>Kumar</td>\n",
       "      <td>5008</td>\n",
       "      <td>Mumbai</td>\n",
       "      <td>None</td>\n",
       "      <td>15</td>\n",
       "      <td>1</td>\n",
       "    </tr>\n",
       "    <tr>\n",
       "      <th>S5</th>\n",
       "      <td>Spoorti</td>\n",
       "      <td>5009</td>\n",
       "      <td>Pune</td>\n",
       "      <td>Eng</td>\n",
       "      <td>17</td>\n",
       "      <td>1</td>\n",
       "    </tr>\n",
       "    <tr>\n",
       "      <th>S6</th>\n",
       "      <td>Gauri</td>\n",
       "      <td>600</td>\n",
       "      <td>Bang</td>\n",
       "      <td>IT</td>\n",
       "      <td>20</td>\n",
       "      <td>3</td>\n",
       "    </tr>\n",
       "  </tbody>\n",
       "</table>\n",
       "</div>"
      ],
      "text/plain": [
       "       name    id    place    course  score  no_attempts\n",
       "S1  Archana  1001     Bang       Eng      5            1\n",
       "S2     Suma  1002      Hyd      Math     10            2\n",
       "S3   Raghav  1003  Kolkata  Sciology     12            1\n",
       "S4    Kumar  5008   Mumbai      None     15            1\n",
       "S5  Spoorti  5009     Pune       Eng     17            1\n",
       "S6    Gauri   600     Bang        IT     20            3"
      ]
     },
     "execution_count": 177,
     "metadata": {},
     "output_type": "execute_result"
    }
   ],
   "source": [
    "data_df"
   ]
  },
  {
   "cell_type": "code",
   "execution_count": null,
   "id": "db623454",
   "metadata": {},
   "outputs": [],
   "source": [
    "\"\"\"Now delete the new row and\n",
    "return the original data frame.\"\"\""
   ]
  },
  {
   "cell_type": "code",
   "execution_count": 188,
   "id": "a70142db",
   "metadata": {},
   "outputs": [],
   "source": [
    "data_df.drop(index='S6',inplace=True)"
   ]
  },
  {
   "cell_type": "code",
   "execution_count": 189,
   "id": "f68ef10b",
   "metadata": {},
   "outputs": [
    {
     "data": {
      "text/html": [
       "<div>\n",
       "<style scoped>\n",
       "    .dataframe tbody tr th:only-of-type {\n",
       "        vertical-align: middle;\n",
       "    }\n",
       "\n",
       "    .dataframe tbody tr th {\n",
       "        vertical-align: top;\n",
       "    }\n",
       "\n",
       "    .dataframe thead th {\n",
       "        text-align: right;\n",
       "    }\n",
       "</style>\n",
       "<table border=\"1\" class=\"dataframe\">\n",
       "  <thead>\n",
       "    <tr style=\"text-align: right;\">\n",
       "      <th></th>\n",
       "      <th>name</th>\n",
       "      <th>id</th>\n",
       "      <th>place</th>\n",
       "      <th>course</th>\n",
       "      <th>score</th>\n",
       "      <th>no_attempts</th>\n",
       "    </tr>\n",
       "  </thead>\n",
       "  <tbody>\n",
       "    <tr>\n",
       "      <th>S1</th>\n",
       "      <td>Archana</td>\n",
       "      <td>1001</td>\n",
       "      <td>Bang</td>\n",
       "      <td>Eng</td>\n",
       "      <td>5</td>\n",
       "      <td>1</td>\n",
       "    </tr>\n",
       "    <tr>\n",
       "      <th>S2</th>\n",
       "      <td>Suma</td>\n",
       "      <td>1002</td>\n",
       "      <td>Hyd</td>\n",
       "      <td>Math</td>\n",
       "      <td>10</td>\n",
       "      <td>2</td>\n",
       "    </tr>\n",
       "    <tr>\n",
       "      <th>S3</th>\n",
       "      <td>Raghav</td>\n",
       "      <td>1003</td>\n",
       "      <td>Kolkata</td>\n",
       "      <td>Sciology</td>\n",
       "      <td>12</td>\n",
       "      <td>1</td>\n",
       "    </tr>\n",
       "    <tr>\n",
       "      <th>S4</th>\n",
       "      <td>Kumar</td>\n",
       "      <td>5008</td>\n",
       "      <td>Mumbai</td>\n",
       "      <td>None</td>\n",
       "      <td>15</td>\n",
       "      <td>1</td>\n",
       "    </tr>\n",
       "    <tr>\n",
       "      <th>S5</th>\n",
       "      <td>Spoorti</td>\n",
       "      <td>5009</td>\n",
       "      <td>Pune</td>\n",
       "      <td>Eng</td>\n",
       "      <td>17</td>\n",
       "      <td>1</td>\n",
       "    </tr>\n",
       "  </tbody>\n",
       "</table>\n",
       "</div>"
      ],
      "text/plain": [
       "       name    id    place    course  score  no_attempts\n",
       "S1  Archana  1001     Bang       Eng      5            1\n",
       "S2     Suma  1002      Hyd      Math     10            2\n",
       "S3   Raghav  1003  Kolkata  Sciology     12            1\n",
       "S4    Kumar  5008   Mumbai      None     15            1\n",
       "S5  Spoorti  5009     Pune       Eng     17            1"
      ]
     },
     "execution_count": 189,
     "metadata": {},
     "output_type": "execute_result"
    }
   ],
   "source": [
    "data_df"
   ]
  },
  {
   "cell_type": "code",
   "execution_count": 190,
   "id": "e5d8a296",
   "metadata": {},
   "outputs": [
    {
     "data": {
      "text/html": [
       "<div>\n",
       "<style scoped>\n",
       "    .dataframe tbody tr th:only-of-type {\n",
       "        vertical-align: middle;\n",
       "    }\n",
       "\n",
       "    .dataframe tbody tr th {\n",
       "        vertical-align: top;\n",
       "    }\n",
       "\n",
       "    .dataframe thead th {\n",
       "        text-align: right;\n",
       "    }\n",
       "</style>\n",
       "<table border=\"1\" class=\"dataframe\">\n",
       "  <thead>\n",
       "    <tr style=\"text-align: right;\">\n",
       "      <th></th>\n",
       "      <th>name</th>\n",
       "      <th>id</th>\n",
       "      <th>place</th>\n",
       "      <th>course</th>\n",
       "      <th>score</th>\n",
       "      <th>no_attempts</th>\n",
       "    </tr>\n",
       "  </thead>\n",
       "  <tbody>\n",
       "    <tr>\n",
       "      <th>S1</th>\n",
       "      <td>Archana</td>\n",
       "      <td>1001</td>\n",
       "      <td>Bang</td>\n",
       "      <td>Eng</td>\n",
       "      <td>5</td>\n",
       "      <td>1</td>\n",
       "    </tr>\n",
       "    <tr>\n",
       "      <th>S4</th>\n",
       "      <td>Kumar</td>\n",
       "      <td>5008</td>\n",
       "      <td>Mumbai</td>\n",
       "      <td>None</td>\n",
       "      <td>15</td>\n",
       "      <td>1</td>\n",
       "    </tr>\n",
       "    <tr>\n",
       "      <th>S3</th>\n",
       "      <td>Raghav</td>\n",
       "      <td>1003</td>\n",
       "      <td>Kolkata</td>\n",
       "      <td>Sciology</td>\n",
       "      <td>12</td>\n",
       "      <td>1</td>\n",
       "    </tr>\n",
       "    <tr>\n",
       "      <th>S5</th>\n",
       "      <td>Spoorti</td>\n",
       "      <td>5009</td>\n",
       "      <td>Pune</td>\n",
       "      <td>Eng</td>\n",
       "      <td>17</td>\n",
       "      <td>1</td>\n",
       "    </tr>\n",
       "    <tr>\n",
       "      <th>S2</th>\n",
       "      <td>Suma</td>\n",
       "      <td>1002</td>\n",
       "      <td>Hyd</td>\n",
       "      <td>Math</td>\n",
       "      <td>10</td>\n",
       "      <td>2</td>\n",
       "    </tr>\n",
       "  </tbody>\n",
       "</table>\n",
       "</div>"
      ],
      "text/plain": [
       "       name    id    place    course  score  no_attempts\n",
       "S1  Archana  1001     Bang       Eng      5            1\n",
       "S4    Kumar  5008   Mumbai      None     15            1\n",
       "S3   Raghav  1003  Kolkata  Sciology     12            1\n",
       "S5  Spoorti  5009     Pune       Eng     17            1\n",
       "S2     Suma  1002      Hyd      Math     10            2"
      ]
     },
     "execution_count": 190,
     "metadata": {},
     "output_type": "execute_result"
    }
   ],
   "source": [
    "\"\"\"Write a Python program to sort the data frame first by 'name' in\n",
    "descending order, then by 'score' in ascending order.\"\"\"\n",
    "\n",
    "data_df.sort_values(by=['name','score'],ascending=True)"
   ]
  },
  {
   "cell_type": "code",
   "execution_count": 194,
   "id": "2ba7f267",
   "metadata": {},
   "outputs": [
    {
     "data": {
      "text/html": [
       "<div>\n",
       "<style scoped>\n",
       "    .dataframe tbody tr th:only-of-type {\n",
       "        vertical-align: middle;\n",
       "    }\n",
       "\n",
       "    .dataframe tbody tr th {\n",
       "        vertical-align: top;\n",
       "    }\n",
       "\n",
       "    .dataframe thead th {\n",
       "        text-align: right;\n",
       "    }\n",
       "</style>\n",
       "<table border=\"1\" class=\"dataframe\">\n",
       "  <thead>\n",
       "    <tr style=\"text-align: right;\">\n",
       "      <th></th>\n",
       "      <th>name</th>\n",
       "      <th>id</th>\n",
       "      <th>place</th>\n",
       "      <th>course</th>\n",
       "      <th>score</th>\n",
       "      <th>no_attempts</th>\n",
       "      <th>grade</th>\n",
       "    </tr>\n",
       "  </thead>\n",
       "  <tbody>\n",
       "    <tr>\n",
       "      <th>S1</th>\n",
       "      <td>Archana</td>\n",
       "      <td>1001</td>\n",
       "      <td>Bang</td>\n",
       "      <td>Eng</td>\n",
       "      <td>5</td>\n",
       "      <td>1</td>\n",
       "      <td>False</td>\n",
       "    </tr>\n",
       "    <tr>\n",
       "      <th>S2</th>\n",
       "      <td>Suma</td>\n",
       "      <td>1002</td>\n",
       "      <td>Hyd</td>\n",
       "      <td>Math</td>\n",
       "      <td>10</td>\n",
       "      <td>2</td>\n",
       "      <td>False</td>\n",
       "    </tr>\n",
       "    <tr>\n",
       "      <th>S3</th>\n",
       "      <td>Raghav</td>\n",
       "      <td>1003</td>\n",
       "      <td>Kolkata</td>\n",
       "      <td>Sciology</td>\n",
       "      <td>12</td>\n",
       "      <td>1</td>\n",
       "      <td>True</td>\n",
       "    </tr>\n",
       "    <tr>\n",
       "      <th>S4</th>\n",
       "      <td>Kumar</td>\n",
       "      <td>5008</td>\n",
       "      <td>Mumbai</td>\n",
       "      <td>None</td>\n",
       "      <td>15</td>\n",
       "      <td>1</td>\n",
       "      <td>True</td>\n",
       "    </tr>\n",
       "    <tr>\n",
       "      <th>S5</th>\n",
       "      <td>Spoorti</td>\n",
       "      <td>5009</td>\n",
       "      <td>Pune</td>\n",
       "      <td>Eng</td>\n",
       "      <td>17</td>\n",
       "      <td>1</td>\n",
       "      <td>True</td>\n",
       "    </tr>\n",
       "  </tbody>\n",
       "</table>\n",
       "</div>"
      ],
      "text/plain": [
       "       name    id    place    course  score  no_attempts  grade\n",
       "S1  Archana  1001     Bang       Eng      5            1  False\n",
       "S2     Suma  1002      Hyd      Math     10            2  False\n",
       "S3   Raghav  1003  Kolkata  Sciology     12            1   True\n",
       "S4    Kumar  5008   Mumbai      None     15            1   True\n",
       "S5  Spoorti  5009     Pune       Eng     17            1   True"
      ]
     },
     "execution_count": 194,
     "metadata": {},
     "output_type": "execute_result"
    }
   ],
   "source": [
    "\"\"\"Write a Python program to insert a new column in existing Data\n",
    "Frame.\"\"\"\n",
    "\n",
    "data_df['grade']=data_df['score']>10\n",
    "data_df"
   ]
  },
  {
   "cell_type": "code",
   "execution_count": 200,
   "id": "5857bc13",
   "metadata": {},
   "outputs": [
    {
     "data": {
      "text/html": [
       "<div>\n",
       "<style scoped>\n",
       "    .dataframe tbody tr th:only-of-type {\n",
       "        vertical-align: middle;\n",
       "    }\n",
       "\n",
       "    .dataframe tbody tr th {\n",
       "        vertical-align: top;\n",
       "    }\n",
       "\n",
       "    .dataframe thead th {\n",
       "        text-align: right;\n",
       "    }\n",
       "</style>\n",
       "<table border=\"1\" class=\"dataframe\">\n",
       "  <thead>\n",
       "    <tr style=\"text-align: right;\">\n",
       "      <th></th>\n",
       "      <th>name</th>\n",
       "      <th>id</th>\n",
       "      <th>place</th>\n",
       "      <th>course</th>\n",
       "      <th>score</th>\n",
       "      <th>no_attempts</th>\n",
       "      <th>grade</th>\n",
       "    </tr>\n",
       "  </thead>\n",
       "  <tbody>\n",
       "    <tr>\n",
       "      <th>S1</th>\n",
       "      <td>Archana</td>\n",
       "      <td>1001</td>\n",
       "      <td>Bang</td>\n",
       "      <td>Eng</td>\n",
       "      <td>5</td>\n",
       "      <td>1</td>\n",
       "      <td>False</td>\n",
       "    </tr>\n",
       "    <tr>\n",
       "      <th>S2</th>\n",
       "      <td>Suma</td>\n",
       "      <td>1002</td>\n",
       "      <td>Hyd</td>\n",
       "      <td>Math</td>\n",
       "      <td>10</td>\n",
       "      <td>2</td>\n",
       "      <td>False</td>\n",
       "    </tr>\n",
       "    <tr>\n",
       "      <th>S3</th>\n",
       "      <td>Raghav</td>\n",
       "      <td>1003</td>\n",
       "      <td>Kolkata</td>\n",
       "      <td>Sciology</td>\n",
       "      <td>12</td>\n",
       "      <td>1</td>\n",
       "      <td>True</td>\n",
       "    </tr>\n",
       "    <tr>\n",
       "      <th>S4</th>\n",
       "      <td>Kumar</td>\n",
       "      <td>5008</td>\n",
       "      <td>Mumbai</td>\n",
       "      <td>None</td>\n",
       "      <td>15</td>\n",
       "      <td>1</td>\n",
       "      <td>True</td>\n",
       "    </tr>\n",
       "    <tr>\n",
       "      <th>S5</th>\n",
       "      <td>Spoorti</td>\n",
       "      <td>5009</td>\n",
       "      <td>Pune</td>\n",
       "      <td>Eng</td>\n",
       "      <td>17</td>\n",
       "      <td>1</td>\n",
       "      <td>True</td>\n",
       "    </tr>\n",
       "    <tr>\n",
       "      <th>S6</th>\n",
       "      <td>Suresh</td>\n",
       "      <td>6000</td>\n",
       "      <td>Pune</td>\n",
       "      <td>Law</td>\n",
       "      <td>10</td>\n",
       "      <td>1</td>\n",
       "      <td>True</td>\n",
       "    </tr>\n",
       "  </tbody>\n",
       "</table>\n",
       "</div>"
      ],
      "text/plain": [
       "       name    id    place    course  score  no_attempts  grade\n",
       "S1  Archana  1001     Bang       Eng      5            1  False\n",
       "S2     Suma  1002      Hyd      Math     10            2  False\n",
       "S3   Raghav  1003  Kolkata  Sciology     12            1   True\n",
       "S4    Kumar  5008   Mumbai      None     15            1   True\n",
       "S5  Spoorti  5009     Pune       Eng     17            1   True\n",
       "S6   Suresh  6000     Pune       Law     10            1   True"
      ]
     },
     "execution_count": 200,
     "metadata": {},
     "output_type": "execute_result"
    }
   ],
   "source": [
    "\"\"\"Write a Python program to change the name 'James' to 'Suresh'\n",
    "in name column of the data frame.\"\"\"\n",
    "\n",
    "data_df.loc['S6']=[\"James\",6000,\"Pune\",\"Law\",10,1,True]\n",
    "data_df.loc['S6',\"name\"]=\"Suresh\"\n",
    "data_df"
   ]
  },
  {
   "cell_type": "code",
   "execution_count": null,
   "id": "5d431523",
   "metadata": {},
   "outputs": [],
   "source": []
  }
 ],
 "metadata": {
  "kernelspec": {
   "display_name": "Python 3 (ipykernel)",
   "language": "python",
   "name": "python3"
  },
  "language_info": {
   "codemirror_mode": {
    "name": "ipython",
    "version": 3
   },
   "file_extension": ".py",
   "mimetype": "text/x-python",
   "name": "python",
   "nbconvert_exporter": "python",
   "pygments_lexer": "ipython3",
   "version": "3.9.13"
  }
 },
 "nbformat": 4,
 "nbformat_minor": 5
}
