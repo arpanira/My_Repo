{
 "cells": [
  {
   "cell_type": "code",
   "execution_count": 7,
   "metadata": {},
   "outputs": [
    {
     "name": "stdout",
     "output_type": "stream",
     "text": [
      "[<re.Match object; span=(6, 7), match=' '>, <re.Match object; span=(7, 8), match='&'>, <re.Match object; span=(8, 9), match=' '>]\n",
      "Invalid\n"
     ]
    }
   ],
   "source": [
    "# Write a Python program to check that a string contains only a certain set of characters (in this case a-z, A-Z and 0-9).\n",
    "\n",
    "\n",
    "\n",
    "\"\"\"o=\"hai\"\n",
    "import re\n",
    "if(bool(re.match('^[a-zA-Z0-9]*$',o))==True):\n",
    "    print(\"valid\")\n",
    "else:\n",
    "    print(\"invalid\")\"\"\"\n",
    "\n",
    "import re\n",
    "text_to_search=\"hjimmm & 101\"\n",
    "pattern=re.compile(r'[^a-zA-Z0-9]')\n",
    "match=list(pattern.finditer(text_to_search))\n",
    "print(match)\n",
    "if bool(match)==True:\n",
    "    print(\"Invalid\")\n",
    "else:\n",
    "    print(\"Valid\")\n"
   ]
  },
  {
   "cell_type": "code",
   "execution_count": 36,
   "metadata": {},
   "outputs": [
    {
     "name": "stdout",
     "output_type": "stream",
     "text": [
      "[<re.Match object; span=(0, 2), match='an'>, <re.Match object; span=(3, 7), match='abbr'>, <re.Match object; span=(15, 17), match='al'>, <re.Match object; span=(27, 30), match='abo'>]\n"
     ]
    }
   ],
   "source": [
    "# Write a Python program that matches a string that has an a followed by zero or more b's.\n",
    "\n",
    "text_to_search=\"an abbreviated alphabet is about to begin\"\n",
    "import re\n",
    "pattern=re.compile(r'\\bab*[a-z]')\n",
    "match=list(pattern.finditer(text_to_search))\n",
    "print(match)\n"
   ]
  },
  {
   "cell_type": "code",
   "execution_count": 37,
   "metadata": {},
   "outputs": [
    {
     "name": "stdout",
     "output_type": "stream",
     "text": [
      "[<re.Match object; span=(3, 7), match='abbr'>, <re.Match object; span=(27, 30), match='abo'>]\n"
     ]
    }
   ],
   "source": [
    "# Write a Python program that matches a string that has an a followed by one or more b's.\n",
    "text_to_search=\"an abbreviated alphabet is about to begin\"\n",
    "import re\n",
    "pattern=re.compile(r'\\bab+[a-z]')\n",
    "match=list(pattern.finditer(text_to_search))\n",
    "print(match)"
   ]
  },
  {
   "cell_type": "code",
   "execution_count": 45,
   "metadata": {},
   "outputs": [
    {
     "name": "stdout",
     "output_type": "stream",
     "text": [
      "[<re.Match object; span=(0, 2), match='an'>, <re.Match object; span=(15, 23), match='alphabet'>, <re.Match object; span=(27, 32), match='about'>]\n"
     ]
    }
   ],
   "source": [
    "# Write a Python program that matches a string that has an a followed by zero or one 'b'.\n",
    "text_to_search=\"an abbreviated alphabet is about to begin\"\n",
    "import re\n",
    "pattern=re.compile(r'\\bab?[^b]\\w*')\n",
    "match=list(pattern.finditer(text_to_search))\n",
    "print(match)"
   ]
  },
  {
   "cell_type": "code",
   "execution_count": 42,
   "metadata": {},
   "outputs": [
    {
     "name": "stdout",
     "output_type": "stream",
     "text": [
      "[<re.Match object; span=(3, 7), match='abbb'>]\n"
     ]
    }
   ],
   "source": [
    "# Write a Python program that matches a string that has an a followed by three 'b'.\n",
    "\n",
    "text_to_search=\"an abbbreviated alphabet is about to begin\"\n",
    "import re\n",
    "pattern=re.compile(r'ab{3}')\n",
    "match=list(pattern.finditer(text_to_search))\n",
    "print(match)"
   ]
  },
  {
   "cell_type": "code",
   "execution_count": 87,
   "metadata": {},
   "outputs": [
    {
     "data": {
      "text/plain": [
       "[<re.Match object; span=(0, 7), match='amazing'>]"
      ]
     },
     "execution_count": 87,
     "metadata": {},
     "output_type": "execute_result"
    }
   ],
   "source": [
    "# Write a Python program that matches a word containing 'z', not at the start or end of the word.\n",
    "\n",
    "text_to_search=\"amazing zoom buzz word\"\n",
    "import re\n",
    "pattern=re.compile(r'\\b[^z\\s]\\w+[z]\\w+[^\\sz]\\b')\n",
    "match=pattern.finditer(text_to_search)\n",
    "list(match)"
   ]
  },
  {
   "cell_type": "code",
   "execution_count": 153,
   "metadata": {},
   "outputs": [
    {
     "name": "stdout",
     "output_type": "stream",
     "text": [
      "<re.Match object; span=(7, 16), match='exercises'>\n",
      "<re.Match object; span=(22, 31), match='exercises'>\n",
      "<re.Match object; span=(36, 45), match='exercises'>\n"
     ]
    }
   ],
   "source": [
    "'''\n",
    "Write a Python program to find the substrings within a string.\n",
    "\n",
    "Sample text:\n",
    "'Python exercises, PHP exercises, C# exercises'\n",
    "Pattern:\n",
    "'exercises'\n",
    "\n",
    "Note: There are two instances of exercises in the input string.\n",
    "'''\n",
    "\n",
    "import re\n",
    "text_to_search='Python exercises, PHP exercises, C# exercises'\n",
    "pattern=re.finditer(r'exercises',text_to_search)\n",
    "for match in pattern:\n",
    "    print(match)"
   ]
  },
  {
   "cell_type": "code",
   "execution_count": null,
   "metadata": {},
   "outputs": [],
   "source": [
    "# Write a Python program to abbreviate 'Road' as 'Rd.' in a given string."
   ]
  },
  {
   "cell_type": "code",
   "execution_count": 120,
   "metadata": {},
   "outputs": [
    {
     "name": "stdout",
     "output_type": "stream",
     "text": [
      "['example .com', 'w3resource', 'github .com', 'stackoverflow .com']\n"
     ]
    }
   ],
   "source": [
    "'''Write a Python program to remove the parenthesis area in a string. Go to the editor\n",
    "Sample data : [\"example (.com)\", \"w3resource\", \"github (.com)\", \"stackoverflow (.com)\"]\n",
    "Expected Output:\n",
    "example\n",
    "w3resource\n",
    "github\n",
    "stackoverflow'''\n",
    "\n",
    "import re\n",
    "Sample_data = [\"example (.com)\", \"w3resource\", \"github (.com)\", \"stackoverflow (.com)\"]\n",
    "b='|'.join(Sample_data)\n",
    "c=re.sub(r\"([\\(]|[\\)])\", '', b)\n",
    "c1=c.split('|')\n",
    "print(c1)\n",
    "\n"
   ]
  },
  {
   "cell_type": "code",
   "execution_count": 146,
   "metadata": {},
   "outputs": [
    {
     "name": "stdout",
     "output_type": "stream",
     "text": [
      "M T H\n"
     ]
    }
   ],
   "source": [
    "# Write a Python program to remove lowercase substrings from a given string.\n",
    "\n",
    "text=\"Making Things Happen\"\n",
    "import re\n",
    "text_replaced=re.sub(r'[a-z]','',text)\n",
    "print(text_replaced)\n"
   ]
  },
  {
   "cell_type": "code",
   "execution_count": null,
   "metadata": {},
   "outputs": [],
   "source": [
    "import re  \n",
    "\n",
    "def convert_case(match_obj):\n",
    "  if match_obj.group(1) is not None:\n",
    "    return match_obj.group(1).lower()\n",
    "  if match_obj.group(2) is not None:\n",
    "    return match_obj.group(2).upper()\n",
    "\n",
    "str = \"jOE kIM mAx ABY lIzA\"\n",
    "print(re.sub(r\"([A-Z]+) | ([a-z]+)\", convert_case, str))"
   ]
  },
  {
   "cell_type": "code",
   "execution_count": null,
   "metadata": {},
   "outputs": [],
   "source": []
  }
 ],
 "metadata": {
  "kernelspec": {
   "display_name": "Python 3 (ipykernel)",
   "language": "python",
   "name": "python3"
  },
  "language_info": {
   "codemirror_mode": {
    "name": "ipython",
    "version": 3
   },
   "file_extension": ".py",
   "mimetype": "text/x-python",
   "name": "python",
   "nbconvert_exporter": "python",
   "pygments_lexer": "ipython3",
   "version": "3.9.13"
  }
 },
 "nbformat": 4,
 "nbformat_minor": 4
}
