{
 "cells": [
  {
   "cell_type": "markdown",
   "metadata": {},
   "source": [
    "# part 1\n",
    "\n",
    "\n",
    "How to create an empty and a full NumPy array?\n",
    "\n",
    "Create a Numpy array filled with all zeros\n",
    "\n",
    "Create a Numpy array filled with all ones\n",
    "\n",
    "Flatten a 2d numpy array into 1d array\n",
    "\n",
    "Reverse a numpy array\n",
    "\n",
    "Change data type of given numpy array"
   ]
  },
  {
   "cell_type": "code",
   "execution_count": 2,
   "metadata": {},
   "outputs": [
    {
     "name": "stdout",
     "output_type": "stream",
     "text": [
      "<class 'numpy.ndarray'>\n"
     ]
    }
   ],
   "source": [
    "#1. How to create an empty and a full NumPy array?\n",
    "import numpy as np\n",
    "array=np.array([])\n",
    "print(type(array))"
   ]
  },
  {
   "cell_type": "code",
   "execution_count": 5,
   "metadata": {},
   "outputs": [
    {
     "data": {
      "text/plain": [
       "array([[0., 0.],\n",
       "       [0., 0.],\n",
       "       [0., 0.]])"
      ]
     },
     "execution_count": 5,
     "metadata": {},
     "output_type": "execute_result"
    }
   ],
   "source": [
    "#2. Create a Numpy array filled with all zeros\n",
    "\n",
    "np.zeros((3,2))"
   ]
  },
  {
   "cell_type": "code",
   "execution_count": 6,
   "metadata": {},
   "outputs": [
    {
     "data": {
      "text/plain": [
       "array([[1., 1.],\n",
       "       [1., 1.],\n",
       "       [1., 1.],\n",
       "       [1., 1.],\n",
       "       [1., 1.]])"
      ]
     },
     "execution_count": 6,
     "metadata": {},
     "output_type": "execute_result"
    }
   ],
   "source": [
    "#3. Create a Numpy array filled with all ones\n",
    "\n",
    "np.ones((5,2))"
   ]
  },
  {
   "cell_type": "code",
   "execution_count": 21,
   "metadata": {},
   "outputs": [
    {
     "name": "stdout",
     "output_type": "stream",
     "text": [
      "[[ 0  2]\n",
      " [ 4  6]\n",
      " [ 8 10]]\n",
      "[ 0  2  4  6  8 10]\n"
     ]
    }
   ],
   "source": [
    "#4. Flatten a 2d numpy array into 1d array\n",
    "\n",
    "array1=np.arange(0,12,2).reshape((3,-1))\n",
    "print(array1)\n",
    "print(array1.flatten())\n"
   ]
  },
  {
   "cell_type": "code",
   "execution_count": 29,
   "metadata": {},
   "outputs": [
    {
     "name": "stdout",
     "output_type": "stream",
     "text": [
      "input [[ 0  2]\n",
      " [ 4  6]\n",
      " [ 8 10]]\n",
      "output [[ 2  0]\n",
      " [ 6  4]\n",
      " [10  8]]\n"
     ]
    }
   ],
   "source": [
    "#5.Reverse a numpy array\n",
    "\n",
    "array1=np.arange(0,12,2).reshape((3,-1))\n",
    "print(\"input\",array1)\n",
    "print(\"output\",array1[::1,::-1])"
   ]
  },
  {
   "cell_type": "code",
   "execution_count": 36,
   "metadata": {},
   "outputs": [
    {
     "name": "stdout",
     "output_type": "stream",
     "text": [
      "[[ 0.  2.]\n",
      " [ 4.  6.]\n",
      " [ 8. 10.]]\n"
     ]
    }
   ],
   "source": [
    "#6.Change data type of given numpy array\n",
    "\n",
    "array1=np.arange(0,12,2).reshape((3,-1))\n",
    "new_array_dt=np.array(array1,dtype='f')\n",
    "print(new_array_dt)"
   ]
  },
  {
   "cell_type": "markdown",
   "metadata": {},
   "source": [
    "# part 2\n",
    "\n",
    "Get the maximum value from given matrix\n",
    "\n",
    "Get the minimum value from given matrix\n",
    "\n",
    "Find the number of rows and columns of a given matrix using NumPy\n",
    "\n",
    "Select the elements from a given matrix\n",
    "\n",
    "Find the sum of values in a matrix\n",
    "\n",
    "Calculate the sum of the diagonal elements of a NumPy array\n",
    "\n",
    "Adding and Subtracting Matrices in Python\n",
    "\n",
    "Ways to add row/columns in numpy array"
   ]
  },
  {
   "cell_type": "code",
   "execution_count": 48,
   "metadata": {},
   "outputs": [
    {
     "name": "stdout",
     "output_type": "stream",
     "text": [
      "[[ 2  3  4  5]\n",
      " [ 8  9 10 11]]\n",
      "max: [ 5 11]\n"
     ]
    }
   ],
   "source": [
    "#1.Get the maximum value from given matrix\n",
    "\n",
    "array=np.array([[2,3,4,5],[8,9,10,11]])\n",
    "print(array)\n",
    "mx=np.max(array,axis=1)\n",
    "print(\"max:\",mx)"
   ]
  },
  {
   "cell_type": "code",
   "execution_count": 49,
   "metadata": {},
   "outputs": [
    {
     "name": "stdout",
     "output_type": "stream",
     "text": [
      "[[ 2  3  4  5]\n",
      " [ 8  9 10 11]]\n",
      "min: [2 8]\n"
     ]
    }
   ],
   "source": [
    "#2.#1.Get the minimum value from given matrix\n",
    "array=np.array([[2,3,4,5],[8,9,10,11]])\n",
    "print(array)\n",
    "mn=np.min(array,axis=1)\n",
    "print(\"min:\",mn)"
   ]
  },
  {
   "cell_type": "code",
   "execution_count": 53,
   "metadata": {},
   "outputs": [
    {
     "name": "stdout",
     "output_type": "stream",
     "text": [
      "(2, 4)\n"
     ]
    }
   ],
   "source": [
    "#3.Find the number of rows and columns of a given matrix using NumPy\n",
    "\n",
    "array=np.array([[2,3,4,5],[8,9,10,11]])\n",
    "n=np.shape(array)\n",
    "print(n)"
   ]
  },
  {
   "cell_type": "code",
   "execution_count": 74,
   "metadata": {},
   "outputs": [
    {
     "name": "stdout",
     "output_type": "stream",
     "text": [
      "array input\n",
      " [[ 0  1  2  3]\n",
      " [ 4  5  6  7]\n",
      " [ 8  9 10 11]\n",
      " [12 13 14 15]\n",
      " [16 17 18 19]]\n",
      "1st row: [0 1 2 3]\n",
      "2nd row 3 element: 6\n",
      "last row ,last element: 19\n",
      "2nd element from each row: [ 1  5  9 13 17]\n",
      "2nd element and 3rd element from every alternate row\n",
      " [[ 1  2]\n",
      " [ 9 10]\n",
      " [17 18]]\n"
     ]
    }
   ],
   "source": [
    "#4 Select the elements from a given matrix\n",
    "\n",
    "a=np.arange(0,20).reshape(5,-1)\n",
    "print(\"array input\\n\",a)\n",
    "print(\"1st row:\",a[0])\n",
    "print(\"2nd row 3 element:\",a[1][2])\n",
    "print(\"last row ,last element:\",a[-1][-1])\n",
    "print(\"2nd element from each row:\",a[::1,1])\n",
    "print(\"2nd element and 3rd element from every alternate row\\n\",a[::2,1:3:1])\n"
   ]
  },
  {
   "cell_type": "code",
   "execution_count": 89,
   "metadata": {},
   "outputs": [
    {
     "name": "stdout",
     "output_type": "stream",
     "text": [
      "column wise sum: [5 7 9]\n",
      "row sum: [ 6 15]\n",
      "add all: 21\n"
     ]
    }
   ],
   "source": [
    "#5.Find the sum of values in a matrix\n",
    "\n",
    "\n",
    "array=np.array([[1,2,3],[4,5,6]])\n",
    "csum=np.sum(array,axis=0)\n",
    "print(\"column wise sum:\",csum)\n",
    "rsum=np.sum(array,axis=1)\n",
    "print(\"row sum:\",rsum)\n",
    "all_sum=np.sum(array)\n",
    "print(\"add all:\",all_sum)"
   ]
  },
  {
   "cell_type": "code",
   "execution_count": 109,
   "metadata": {},
   "outputs": [
    {
     "name": "stdout",
     "output_type": "stream",
     "text": [
      "[[1 2 3]\n",
      " [4 5 6]\n",
      " [3 3 3]]\n",
      "20\n"
     ]
    }
   ],
   "source": [
    "#6.Calculate the sum of the diagonal elements of a NumPy array\n",
    "\n",
    "\n",
    "array=np.array([[1,2,3],[4,5,6],[3,3,3]])\n",
    "pdiag_sum=0\n",
    "sdiag_sum=0\n",
    "print(array)\n",
    "for i in range(0,len(array)):\n",
    "    pdiag_sum=pdiag_sum+array[i][i]\n",
    "count=0\n",
    "for i in range(0,len(array)):\n",
    "    \n",
    "    sdiag_sum=sdiag_sum+array[i][-1-count]\n",
    "    count=count+1\n",
    "print(pdiag_sum+sdiag_sum)\n",
    "\n",
    "\n"
   ]
  },
  {
   "cell_type": "code",
   "execution_count": 127,
   "metadata": {},
   "outputs": [
    {
     "name": "stdout",
     "output_type": "stream",
     "text": [
      "[[1 2 3]\n",
      " [3 3 3]]\n",
      "[[4 7 8]\n",
      " [5 7 8]]\n",
      "[[ 5  9 11]\n",
      " [ 8 10 11]]\n",
      "[[-3 -5 -5]\n",
      " [-2 -4 -5]]\n"
     ]
    }
   ],
   "source": [
    "#7.Adding and Subtracting Matrices in Python\n",
    "\n",
    "import numpy as np\n",
    "a=np.array([[1,2,3],[3,3,3]])\n",
    "b=np.array(([4,7,8],[5,7,8]))\n",
    "if a.shape==b.shape:\n",
    "    \n",
    "    c=a+b\n",
    "    print(a,b,sep='\\n')\n",
    "    print(c)\n",
    "\n",
    "    d=a-b\n",
    "    print(d)\n",
    "else:\n",
    "    print(\"elements cannot be added as matrix rows and columns are not same\")\n"
   ]
  },
  {
   "cell_type": "code",
   "execution_count": 163,
   "metadata": {},
   "outputs": [
    {
     "name": "stdout",
     "output_type": "stream",
     "text": [
      "vertical stacking: [[1 2 3]\n",
      " [3 3 3]\n",
      " [4 7 8]\n",
      " [5 7 8]]\n",
      "row stacking thru concat: [[1 2 3]\n",
      " [3 3 3]\n",
      " [4 7 8]\n",
      " [5 7 8]]\n",
      "horizontal stacking: [[1 2 3 4 7 8]\n",
      " [3 3 3 5 7 8]]\n",
      "column stacking thru concat: [[1 2 3 4 7 8]\n",
      " [3 3 3 5 7 8]]\n"
     ]
    }
   ],
   "source": [
    "#8 Ways to add row/columns in numpy array\n",
    "import numpy as np\n",
    "a=np.array([[1,2,3],[3,3,3]])\n",
    "b=np.array(([4,7,8],[5,7,8]))\n",
    "a=np.vstack([a,b])\n",
    "print(\"vertical stacking:\",a)\n",
    "\n",
    "a=np.array([[1,2,3],[3,3,3]])\n",
    "b=np.array(([4,7,8],[5,7,8]))\n",
    "c=np.concatenate((a,b),axis=0)\n",
    "print(\"row stacking thru concat:\",c)\n",
    "\n",
    "\n",
    "\n",
    "a=np.array([[1,2,3],[3,3,3]])\n",
    "b=np.array(([4,7,8],[5,7,8]))\n",
    "a=np.hstack([a,b])\n",
    "print(\"horizontal stacking:\",a)\n",
    "\n",
    "a=np.array([[1,2,3],[3,3,3]])\n",
    "b=np.array(([4,7,8],[5,7,8]))\n",
    "c=np.concatenate((a,b),axis=1)\n",
    "print(\"column stacking thru concat:\",c)"
   ]
  },
  {
   "cell_type": "code",
   "execution_count": null,
   "metadata": {},
   "outputs": [],
   "source": []
  }
 ],
 "metadata": {
  "kernelspec": {
   "display_name": "Python 3 (ipykernel)",
   "language": "python",
   "name": "python3"
  },
  "language_info": {
   "codemirror_mode": {
    "name": "ipython",
    "version": 3
   },
   "file_extension": ".py",
   "mimetype": "text/x-python",
   "name": "python",
   "nbconvert_exporter": "python",
   "pygments_lexer": "ipython3",
   "version": "3.9.13"
  }
 },
 "nbformat": 4,
 "nbformat_minor": 2
}
