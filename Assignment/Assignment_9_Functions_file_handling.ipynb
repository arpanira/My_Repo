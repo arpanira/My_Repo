{
 "cells": [
  {
   "cell_type": "markdown",
   "metadata": {},
   "source": [
    "# File handling\n",
    "\n",
    "<b>Q1. Write a Python program to read a file line by line and store it into a list</b>\n",
    "\n",
    "<b>Q2. Write a Python program to extract characters from various text files and puts them into a list.</b>\n",
    "\n",
    "words1.txt <br>\n",
    "Welcome to the Python Wiki, a user-editable compendium of knowledge\n",
    "based around the Python programming language. Some pages are protected\n",
    "against casual editing - see WikiEditingGuidelines for more information\n",
    "about editing content. <br>\n",
    "words2.txt <br>\n",
    "Python is a great object-oriented, interpreted, and interactive\n",
    "programming language. It is often compared (favorably of course :-) )\n",
    "to Lisp, Tcl, Perl, Ruby, C#, Visual Basic, Visual Fox Pro, Scheme or Java...\n",
    "and it's much more fun. <br>\n",
    "\n",
    "# Functions\n",
    "\n",
    "<b>1. Write a Python function to find the Max of three numbers.  </b>\n",
    "\n",
    "<b>2. Write a Python function to sum all the numbers in a list </b>\n",
    "\n",
    "<b>3. Write a Python function to check whether a string is a pangram or not. </b> <br>\n",
    "Note : Pangrams are words or sentences containing every letter of the alphabet at least once.<br>\n",
    "For example : \"The quick brown fox jumps over the lazy dog\"\n",
    "\n",
    "<b>4. Write a Python program to sort a list of tuples using Lambda.</b> <br>\n",
    "Original list of tuples:<br>\n",
    "[('English', 88), ('Science', 90), ('Maths', 97), ('Social sciences', 82)]<br>\n",
    "Sorting the List of Tuples:<br>\n",
    "[('Social sciences', 82), ('English', 88), ('Science', 90), ('Maths', 97)]<br>\n",
    "\n",
    "<b>5. Write a Python program to get the Fibonacci series between 0 to 50. </b>\n",
    "\n",
    "<b>6. Write a Python program to convert temperatures to and from celsius, fahrenheit </b>\n",
    "\n",
    "<b>7. Write a Python program to count the number of even and odd numbers from a series of numbers. </b>\n",
    "\n",
    "<b>8. Write a Python program which iterates the integers from 1 to 50. For multiples of three print \"Fizz\" instead of the number and for the multiples of five print \"Buzz\". For numbers which are multiples of both three and five print \"FizzBuzz\". </b>"
   ]
  },
  {
   "cell_type": "markdown",
   "metadata": {},
   "source": [
    "# File handling"
   ]
  },
  {
   "cell_type": "code",
   "execution_count": 5,
   "metadata": {},
   "outputs": [
    {
     "name": "stdout",
     "output_type": "stream",
     "text": [
      "['Hi', 'Good Morning all', 'It is a nice day', 'Bye']\n"
     ]
    }
   ],
   "source": [
    "#Q1. Write a Python program to read a file line by line and store it into a list\n",
    "\n",
    "f=open('file_to_list.txt','r')\n",
    "f.seek(0)\n",
    "a=f.readlines()#returns all lines from file as list ending with '\\n'\n",
    "\n",
    "\n",
    "b=list(map(lambda x:x.replace('\\n',''),a))#replacing \\n \n",
    "print(b)\n"
   ]
  },
  {
   "cell_type": "code",
   "execution_count": 20,
   "metadata": {},
   "outputs": [
    {
     "name": "stdout",
     "output_type": "stream",
     "text": [
      "[['A', 'B', 'C'], ['C', 'C', 'D']]\n"
     ]
    }
   ],
   "source": [
    "#Q2. Write a Python program to extract characters from various text files and puts them into a list.\n",
    "\n",
    "file_list=['words1.txt','words2.txt','words3.txt']\n",
    "\n",
    "#initilaise list\n",
    "tmp_list=[]\n",
    "big_list=[]\n",
    "\n",
    "#loop through multiple files\n",
    "for i in file_list:\n",
    "    f=open(i,'r')\n",
    "    f.seek(0)\n",
    "    content=f.read()\n",
    "    \n",
    "    #Read each charcater from file content\n",
    "    for j in range(0,len(content)):\n",
    "        tmp_list.append(content[j])\n",
    "    \n",
    "    #append to list\n",
    "    big_list.append(tmp_list)\n",
    "    \n",
    "    #clear content before reading next file\n",
    "    tmp_list=[]\n",
    "    \n",
    "print(big_list)\n",
    "        \n",
    "        "
   ]
  },
  {
   "cell_type": "markdown",
   "metadata": {},
   "source": [
    "# Functions"
   ]
  },
  {
   "cell_type": "code",
   "execution_count": 30,
   "metadata": {},
   "outputs": [
    {
     "name": "stdout",
     "output_type": "stream",
     "text": [
      "enter num1:50\n",
      "enter num2:100\n",
      "enter num3:60\n",
      "100\n"
     ]
    }
   ],
   "source": [
    "#Write a Python function to find the Max of three numbers.\n",
    "\n",
    "a=eval(input(\"enter num1:\"))\n",
    "b=eval(input(\"enter num2:\"))\n",
    "c=eval(input(\"enter num3:\"))\n",
    "\n",
    "def max(a,b,c):\n",
    "    if a>b and a>c:\n",
    "        return(a)\n",
    "    if b>a and b>c:\n",
    "        return(b)\n",
    "    if c>a and c>b:\n",
    "        return(c)\n",
    "max=max(a,b,c)\n",
    "print(max)\n",
    "        \n"
   ]
  },
  {
   "cell_type": "code",
   "execution_count": 35,
   "metadata": {},
   "outputs": [
    {
     "name": "stdout",
     "output_type": "stream",
     "text": [
      "15\n"
     ]
    }
   ],
   "source": [
    "#Write a Python function to sum all the numbers in a list:\n",
    "\n",
    "a=[1,2,3,4,5]\n",
    "\n",
    "def sum(a):\n",
    "    total=0\n",
    "    for i in a:\n",
    "     total=total+i\n",
    "    return(total)\n",
    "\n",
    "T=sum(a)\n",
    "print(T)"
   ]
  },
  {
   "cell_type": "code",
   "execution_count": 46,
   "metadata": {},
   "outputs": [
    {
     "name": "stdout",
     "output_type": "stream",
     "text": [
      "It is a pangram\n"
     ]
    },
    {
     "data": {
      "text/plain": [
       "True"
      ]
     },
     "execution_count": 46,
     "metadata": {},
     "output_type": "execute_result"
    }
   ],
   "source": [
    "#3. Write a Python function to check whether a string is a pangram or not.\n",
    "\n",
    "a=\"The quick brown fox jumps over the lazy dog\"\n",
    "\n",
    "def chk_pangram(a):\n",
    " alphabet=\"abcbdefghijklmnopqestuvwxyz\"  \n",
    " for char in alphabet:\n",
    "    if char not in a.lower():\n",
    "        print(\"It is not a pangram\")\n",
    "        return(False)\n",
    " \n",
    " print(\"It is a pangram\")\n",
    " return(True)\n",
    "\n",
    "chk_pangram(a)    \n",
    "\n",
    "\n",
    "        \n",
    "    \n",
    "    \n"
   ]
  },
  {
   "cell_type": "code",
   "execution_count": 13,
   "metadata": {},
   "outputs": [
    {
     "name": "stdout",
     "output_type": "stream",
     "text": [
      "updated list [('English', 88), ('Science', 90), ('Maths', 97)]\n",
      "updated list [('Science', 90), ('Maths', 97)]\n",
      "updated list [('Maths', 97)]\n",
      "updated list []\n",
      "[('Social sciences', 82), ('English', 88), ('Science', 90), ('Maths', 97)]\n"
     ]
    }
   ],
   "source": [
    "#4. Write a Python program to sort a list of tuples using Lambda.\n",
    "# Original list of tuples:\n",
    "# [('English', 88), ('Science', 90), ('Maths', 97), ('Social sciences', 82)]\n",
    "# Sorting the List of Tuples:\n",
    "# [('Social sciences', 82), ('English', 88), ('Science', 90), ('Maths', 97)]\n",
    "\n",
    "\n",
    "a=[('English', 88), ('Science', 90), ('Maths', 97), ('Social sciences', 82)]\n",
    "new_list=[]\n",
    "for i in range(0,len(a)):\n",
    "  min=a[0]#initialising arbitary value each time\n",
    " \n",
    "  for j in a:\n",
    "     b=(lambda x:min if min[1]<=x[1] else j)(j)\n",
    "     \n",
    "  new_list.append(b)\n",
    "  a.remove(b)\n",
    "       \n",
    "print(new_list)"
   ]
  },
  {
   "cell_type": "code",
   "execution_count": 49,
   "metadata": {},
   "outputs": [
    {
     "name": "stdout",
     "output_type": "stream",
     "text": [
      "0,1,1,2,3,5,8,13,21,34,"
     ]
    }
   ],
   "source": [
    "#5. Write a Python program to get the Fibonacci series between 0 to 50.\n",
    "\n",
    "\n",
    "def fibo(nseries):\n",
    "    n1=0\n",
    "    n2=1\n",
    "    while n1<=nseries:\n",
    "        n3=n1+n2\n",
    "        print(n1,end=',')\n",
    "        n1=n2\n",
    "        n2=n3\n",
    "    \n",
    "\n",
    "    \n",
    "fibo(50)\n",
    "\n",
    "    "
   ]
  },
  {
   "cell_type": "code",
   "execution_count": 56,
   "metadata": {},
   "outputs": [
    {
     "name": "stdout",
     "output_type": "stream",
     "text": [
      "[104.0, 55.400000000000006, 140.0]\n"
     ]
    }
   ],
   "source": [
    "#6. Write a Python program to convert temperatures to and from celsius, fahrenheit\n",
    "\n",
    "\n",
    "a_cels=[40,13,60]\n",
    "\n",
    "a_farh=list(map(lambda x:x*(9/5)+32,a_cels))\n",
    "print(a_farh)"
   ]
  },
  {
   "cell_type": "code",
   "execution_count": 73,
   "metadata": {},
   "outputs": [
    {
     "name": "stdout",
     "output_type": "stream",
     "text": [
      "3\n",
      "4\n"
     ]
    }
   ],
   "source": [
    "#7. Write a Python program to count the number of even and odd numbers from a series of numbers.\n",
    "\n",
    "a=[10,7,8,5,3,303,500]\n",
    "def count_even(x):\n",
    " e_count=0\n",
    " for i in x:\n",
    "        if i%2==0:\n",
    "            e_count=e_count+1\n",
    " return(e_count)\n",
    "def count_odd(x):\n",
    " o_count=0\n",
    " for i in x:\n",
    "        if i%2!=0:\n",
    "            o_count=o_count+1\n",
    " return(o_count)\n",
    "\n",
    "evencount=count_even(a)\n",
    "oddcount=count_odd(a)\n",
    "print(evencount)\n",
    "print(oddcount)"
   ]
  },
  {
   "cell_type": "code",
   "execution_count": 77,
   "metadata": {},
   "outputs": [
    {
     "name": "stdout",
     "output_type": "stream",
     "text": [
      "[1, 2, 'Fizz', 4, 'Buzz', 'Fizz', 7, 8, 'Fizz', 'Buzz', 11, 'Fizz', 13, 14, 'Fizz', 16, 17, 'Fizz', 19, 'Buzz', 'Fizz', 22, 23, 'Fizz', 'Buzz', 26, 'Fizz', 28, 29, 'Fizz', 31, 32, 'Fizz', 34, 'Buzz', 'Fizz', 37, 38, 'Fizz', 'Buzz', 41, 'Fizz', 43, 44, 'Fizz', 46, 47, 'Fizz', 49, 'Buzz']\n"
     ]
    }
   ],
   "source": [
    "#8. Write a Python program which iterates the integers from 1 to 50. For multiples of three print \"Fizz\" instead of the number and for the multiples of five print \"Buzz\". \n",
    "#For numbers which are multiples of both three and five print \"FizzBuzz\".\n",
    "\n",
    "new_list=[]\n",
    "for i in range(1,51):\n",
    "    if i%3==0:\n",
    "        new_list.append(\"Fizz\")\n",
    "    elif i%5==0:\n",
    "        new_list.append(\"Buzz\")\n",
    "    elif i%15==0:\n",
    "        new_list.append(\"FizzBuzz\")\n",
    "    else:\n",
    "        new_list.append(i)\n",
    "print(new_list)"
   ]
  },
  {
   "cell_type": "code",
   "execution_count": null,
   "metadata": {},
   "outputs": [],
   "source": []
  }
 ],
 "metadata": {
  "kernelspec": {
   "display_name": "Python 3 (ipykernel)",
   "language": "python",
   "name": "python3"
  },
  "language_info": {
   "codemirror_mode": {
    "name": "ipython",
    "version": 3
   },
   "file_extension": ".py",
   "mimetype": "text/x-python",
   "name": "python",
   "nbconvert_exporter": "python",
   "pygments_lexer": "ipython3",
   "version": "3.9.13"
  }
 },
 "nbformat": 4,
 "nbformat_minor": 4
}
