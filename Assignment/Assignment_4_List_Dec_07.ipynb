{
 "cells": [
  {
   "cell_type": "code",
   "execution_count": 4,
   "metadata": {
    "id": "gtlAv2oq9yzd"
   },
   "outputs": [
    {
     "name": "stdout",
     "output_type": "stream",
     "text": [
      "sum of all elements: 100\n"
     ]
    }
   ],
   "source": [
    "#Write a Python program to find the sum of all elements in a list using loop.\n",
    "#Input:- [10,20,30,40]\n",
    "#Output:- 100\n",
    "\n",
    "\n",
    "a=[10,20,30,40]\n",
    "j=0\n",
    "for i in a:\n",
    "    j+=i\n",
    "print(\"sum of all elements:\",j)\n",
    "\n",
    "\n"
   ]
  },
  {
   "cell_type": "code",
   "execution_count": 5,
   "metadata": {
    "id": "gTbA8psa93Y_"
   },
   "outputs": [
    {
     "name": "stdout",
     "output_type": "stream",
     "text": [
      "product of all elements: 240000\n"
     ]
    }
   ],
   "source": [
    "#Write a Python program to find the multiplication of all elements in a list using loop.\n",
    "#Input:- [10,20,30,40]\n",
    "#Output:- 240000\n",
    "\n",
    "\n",
    "a=[10,20,30,40]\n",
    "j=1\n",
    "for i in a:\n",
    "    j*=i\n",
    "print(\"product of all elements:\",j)\n",
    "\n",
    "\n",
    "\n",
    "\n"
   ]
  },
  {
   "cell_type": "code",
   "execution_count": 8,
   "metadata": {
    "id": "XBCrEtLN94Lj"
   },
   "outputs": [
    {
     "name": "stdout",
     "output_type": "stream",
     "text": [
      "2321\n",
      "2321\n"
     ]
    }
   ],
   "source": [
    "#Write a Python program to find the largest number from a list using loop.\n",
    "#Input:- [10,100,2321, 1,200,2]\n",
    "#Output:- 2321\n",
    "\n",
    "a=[10,100,2321, 1,200,2]\n",
    "\n",
    "\n",
    "#method using loop\n",
    "j=-999999999\n",
    "for i in a:\n",
    "    if j<i:\n",
    "        j=i\n",
    "print(j)\n",
    "\n",
    "\n",
    "#using sort\n",
    "\n",
    "a.sort(reverse=True)\n",
    "print(a[0])\n"
   ]
  },
  {
   "cell_type": "code",
   "execution_count": 13,
   "metadata": {
    "id": "l3paUtbH94Vw"
   },
   "outputs": [
    {
     "name": "stdout",
     "output_type": "stream",
     "text": [
      "1\n",
      "1\n"
     ]
    }
   ],
   "source": [
    "#Write a Python program to find the smallest number from a list using loop.\n",
    "#Input:- [10,100,2321, 1,200,2]\n",
    "#Output:- 1\n",
    "\n",
    "a=[10,100,2321, 1,200,2]\n",
    "j=99999999999\n",
    "for i in a:\n",
    "    if j>i:\n",
    "        j=i\n",
    "  \n",
    "print(j)\n",
    "\n",
    "\n",
    "\n",
    "#using sort\n",
    "\n",
    "a.sort()\n",
    "print(a[0])\n"
   ]
  },
  {
   "cell_type": "code",
   "execution_count": 20,
   "metadata": {
    "id": "JTVgy5VD94cE"
   },
   "outputs": [
    {
     "name": "stdout",
     "output_type": "stream",
     "text": [
      "['aba', '1991']\n",
      "Number of strings which are palindrome: 2\n"
     ]
    }
   ],
   "source": [
    "#Write a Python program to count the number of strings having length more than 2 and are palindrome in a list using loop.\n",
    "#Input:- ['ab', 'abc', 'aba', 'xyz', '1991']\n",
    "#Output:- 2\n",
    "\n",
    "\n",
    "a=['ab', 'abc', 'aba', 'xyz', '1991']\n",
    "\n",
    "new_list=[]\n",
    "for i in a:\n",
    "    if len(i)>2 and i==i[::-1]:\n",
    "        new_list.append(i)\n",
    "print(new_list)\n",
    "print(\"Number of strings which are palindrome:\",len(new_list))\n",
    "\n",
    "       \n",
    "        \n",
    "        "
   ]
  },
  {
   "cell_type": "code",
   "execution_count": 50,
   "metadata": {
    "id": "xs-ZGJbJ94gr"
   },
   "outputs": [
    {
     "name": "stdout",
     "output_type": "stream",
     "text": [
      "[100, 10, 1, 298, 65, 483, 49876, 2, 80, 9, 9213]\n",
      "[100, 10, 298, 65, 483, 49876, 2, 80, 9, 9213]\n",
      "[100, 10, 298, 65, 483, 49876, 80, 9, 9213]\n",
      "[100, 10, 298, 65, 483, 49876, 80, 9213]\n",
      "[100, 298, 65, 483, 49876, 80, 9213]\n",
      "[100, 298, 483, 49876, 80, 9213]\n",
      "[100, 298, 483, 49876, 9213]\n",
      "[298, 483, 49876, 9213]\n",
      "[483, 49876, 9213]\n",
      "[49876, 9213]\n",
      "[49876]\n",
      "[1, 2, 9, 10, 65, 80, 100, 298, 483, 9213, 49876]\n"
     ]
    }
   ],
   "source": [
    "#Write a Python program to sort a list in ascending order using loop.\n",
    "#Input:- [100,10,1,298,65,483,49876,2,80,9,9213]\n",
    "#Output:- [1,2,9,10,65,80,100,298,483,9213,49876]\n",
    "\n",
    "\n",
    "a=[100,10,1,298,65,483,49876,2,80,9,9213]\n",
    "\n",
    "#L=len(a)\n",
    "new_list=[]\n",
    "for k in range(0,len(a)):\n",
    " j=99999999999999    #Initialise each time,else in the first iteration min value is found and that remains always and logic fails.\n",
    " print(a)\n",
    " for i in a:\n",
    "    if j>i:\n",
    "     j=i\n",
    " a.remove(j)\n",
    " new_list.append(j)\n",
    "print(new_list)\n",
    "       \n",
    "        \n",
    "\n",
    "\n"
   ]
  },
  {
   "cell_type": "code",
   "execution_count": 86,
   "metadata": {
    "id": "VhKQJizZ94kg"
   },
   "outputs": [
    {
     "name": "stdout",
     "output_type": "stream",
     "text": [
      "[(9, 1), (2, 3), (5, 4), (5, 5), (7, 6), (5, 9)]\n"
     ]
    }
   ],
   "source": [
    "#Write a Python program to get a sorted list in increasing order of last element in each tuple in a given list using loop.\n",
    "#Input:- [(5,4),(9,1),(2,3),(5,9),(7,6),(5,5)]\n",
    "#output:- [(9,1),(2,3),(5,4),(5,5),(7,6),(5,9)]\n",
    "\n",
    "a=[(5,4),(9,1),(2,3),(5,9),(7,6),(5,5)]\n",
    "new_list=[]\n",
    "for m in range(0,len(a)):\n",
    " j=999999999\n",
    "\n",
    " for k in range(0,len(a)):\n",
    "  if j>a[k][1]:\n",
    "   j=a[k][1]\n",
    "   tmp_k=k\n",
    " \n",
    " new_list.append(a[tmp_k])\n",
    " a.remove(a[tmp_k])\n",
    " \n",
    " \n",
    "print(new_list)\n",
    "    \n",
    "    \n"
   ]
  },
  {
   "cell_type": "code",
   "execution_count": 80,
   "metadata": {},
   "outputs": [
    {
     "name": "stdout",
     "output_type": "stream",
     "text": [
      "[(3, 4), (5, 6)]\n"
     ]
    }
   ],
   "source": [
    "a=[(1,2),(3,4),(5,6)]\n",
    "a.remove(a[0])\n",
    "print(a)"
   ]
  },
  {
   "cell_type": "code",
   "execution_count": 7,
   "metadata": {
    "id": "YJrCLYp694n_"
   },
   "outputs": [
    {
     "name": "stdout",
     "output_type": "stream",
     "text": [
      "[10, 1, 11, 29, 876, 768, 92]\n"
     ]
    }
   ],
   "source": [
    "#Write a Python program to remove fuplicate element from a list using loop.\n",
    "#Input:- [10,1,11,1,29,876,768,10,11,1,92,29,876]\n",
    "#Output:- [10,1,11,29,876,768,92]\n",
    "\n",
    "\n",
    "\n",
    "a=[10,1,11,1,29,876,768,10,11,1,92,29,876]\n",
    "new_list=[]\n",
    "for i in a:\n",
    "    \n",
    "    if i not in new_list:\n",
    "        new_list.append(i)\n",
    "print(new_list)\n",
    "\n",
    "\n",
    "\n",
    "\n",
    "\n",
    "  \n",
    "    \n",
    "\n",
    "\n"
   ]
  },
  {
   "cell_type": "code",
   "execution_count": 120,
   "metadata": {},
   "outputs": [
    {
     "name": "stdout",
     "output_type": "stream",
     "text": [
      "['__add__', '__class__', '__class_getitem__', '__contains__', '__delattr__', '__delitem__', '__dir__', '__doc__', '__eq__', '__format__', '__ge__', '__getattribute__', '__getitem__', '__gt__', '__hash__', '__iadd__', '__imul__', '__init__', '__init_subclass__', '__iter__', '__le__', '__len__', '__lt__', '__mul__', '__ne__', '__new__', '__reduce__', '__reduce_ex__', '__repr__', '__reversed__', '__rmul__', '__setattr__', '__setitem__', '__sizeof__', '__str__', '__subclasshook__', 'append', 'clear', 'copy', 'count', 'extend', 'index', 'insert', 'pop', 'remove', 'reverse', 'sort']\n"
     ]
    }
   ],
   "source": [
    "print(dir(list))\n"
   ]
  },
  {
   "cell_type": "code",
   "execution_count": 20,
   "metadata": {
    "id": "koYe4YCu94rh"
   },
   "outputs": [
    {
     "name": "stdout",
     "output_type": "stream",
     "text": [
      "Enter the values:[]\n",
      "List is empty\n",
      "Enter the values:[\"Arc\",10]\n",
      "List is not empty\n"
     ]
    }
   ],
   "source": [
    "#Write a Python program to check a list is empty or not?\n",
    "#Input:- []\n",
    "#Output:- List is empty\n",
    "#Input:- [10,20,30]\n",
    "#Output:- List is not empty\n",
    "\n",
    "for i in range(0,2):\n",
    "   \n",
    "        a=eval(input(\"Enter the values:\"))\n",
    "        if len(a)>0:\n",
    "          print(\"List is not empty\")\n",
    "        else:\n",
    "         print(\"List is empty\")\n",
    "       \n",
    "\n",
    "\n"
   ]
  },
  {
   "cell_type": "code",
   "execution_count": 21,
   "metadata": {
    "id": "mES1WANa94u5"
   },
   "outputs": [
    {
     "name": "stdout",
     "output_type": "stream",
     "text": [
      "[10, 10.2, (10+20j), 'Python', [10, 20], (10, 20)]\n"
     ]
    }
   ],
   "source": [
    "#Write a Python program to copy a list using loop.\n",
    "#inp_lst = [10,10.20,10+20j, 'Python', [10,20], (10,20)]\n",
    "#out_lst = [10,10.20,10+20j, 'Python', [10,20], (10,20)]\n",
    "\n",
    "\n",
    "a=[10,10.20,10+20j, 'Python', [10,20], (10,20)]\n",
    "b=[i for i in a]#using list comprehension\n",
    "print(b)\n",
    "\n",
    "\n"
   ]
  },
  {
   "cell_type": "code",
   "execution_count": 25,
   "metadata": {
    "id": "CpBh31WO94yi"
   },
   "outputs": [
    {
     "name": "stdout",
     "output_type": "stream",
     "text": [
      "['much', 'wood', 'would', 'woodchuck', 'chuck', 'could']\n"
     ]
    }
   ],
   "source": [
    "#Write a Python program to find the list of words that are longer than or equal to 4 from a given string.\n",
    "#Input:- 'How much wood would a woodchuck chuck if a woodchuck could chuck wood'\n",
    "#Output:- ['much', 'wood', 'would', 'woodchuck', 'chuck', 'could']\n",
    "#Note:- Duplicate should be avoided.\n",
    "\n",
    "a='How much wood would a woodchuck chuck if a woodchuck could chuck wood'\n",
    "a_list=a.split()\n",
    "new_list=[]\n",
    "for i in a_list:\n",
    "    if len(i)>=4 and i not in new_list:\n",
    "        new_list.append(i)\n",
    "print(new_list)\n",
    "\n",
    "\n"
   ]
  },
  {
   "cell_type": "code",
   "execution_count": 2,
   "metadata": {
    "id": "YVfj0fgZ9416"
   },
   "outputs": [
    {
     "name": "stdout",
     "output_type": "stream",
     "text": [
      "Enter list 1:[10,20,'Python', 10.20, 10+20j, [10,20,30], (10,20,30)]\n",
      "Enter list 2:[(10,20,30),1,20+3j,100.2, 10+20j, [10,20,30],'Python']\n",
      "Have 3 or more common elements: True\n",
      "Enter list 1:[1,2]\n",
      "Enter list 2:[1,2,3,4]\n",
      "False\n",
      "Enter list 1:[1,2,3,4]\n",
      "Enter list 2:[]\n",
      "False\n"
     ]
    }
   ],
   "source": [
    "#Write a Python program which takes two list as input and returns True if they have at least 3 common elements.\n",
    "#inp_lst1 = [10,20,'Python', 10.20, 10+20j, [10,20,30], (10,20,30)]\n",
    "#inp_lst2 = [(10,20,30),1,20+3j,100.2, 10+20j, [10,20,30],'Python']\n",
    "#Output:- True\n",
    "for j in range(0,3):\n",
    " a=eval(input(\"Enter list 1:\"))\n",
    " b=eval(input(\"Enter list 2:\"))\n",
    "\n",
    " counter=0\n",
    " for i in a:\n",
    "    if i in b:\n",
    "        counter=counter+1\n",
    " if(counter>=3):\n",
    "  print(\"Have 3 or more common elements:\",True)\n",
    " else:\n",
    "  print(\"False\")\n",
    "\n",
    "\n"
   ]
  },
  {
   "cell_type": "code",
   "execution_count": 39,
   "metadata": {
    "id": "7vwc3pjR945O"
   },
   "outputs": [
    {
     "name": "stdout",
     "output_type": "stream",
     "text": [
      "Enter list elements:[0,0,0,0]\n",
      "Enter list elements:[0,1,2,3]\n",
      "Enter list elements:[0,2,4,6]\n",
      "Enter list elements:[0,3,6,9]\n",
      "[[0, 0, 0, 0], [0, 1, 2, 3], [0, 2, 4, 6], [0, 3, 6, 9]]\n",
      "[[0, 0, 0, 0], [0, 1, 2, 3], [0, 2, 4, 6], [0, 3, 6, 9]]\n"
     ]
    }
   ],
   "source": [
    "#Write a Python program to create a 4X4 2D matrix with below elements using loop and list comprehension both.\n",
    "#Output:- [[0,0,0,0],[0,1,2,3],[0,2,4,6],[0,3,6,9]]\n",
    "\n",
    "new_list=[]\n",
    "\n",
    "for i in range(0,4):\n",
    "        b=eval(input(\"Enter list elements:\"))\n",
    "        new_list.append(b)\n",
    "print(new_list)\n",
    "\n",
    "\n",
    "#OR\n",
    "\n",
    "\n",
    "\n",
    "tmp_list=[0]\n",
    "tmp_list_1=[]\n",
    "tmp_list_2=[]\n",
    "tmp_list_3=[]\n",
    "new_list=[]\n",
    "tmp_list_0=tmp_list*4\n",
    "\n",
    "for i in range(0,4,1):\n",
    "    tmp_list_1.append(i)\n",
    "for i in range(0,7,2):\n",
    "    tmp_list_2.append(i)\n",
    "for i in range(0,10,3):\n",
    "    tmp_list_3.append(i),\n",
    "\n",
    "new_list_1=[tmp_list_0,tmp_list_1,tmp_list_2,tmp_list_3]\n",
    "\n",
    "\n",
    "print(new_list_1)\n",
    "\n",
    "\n",
    "\n",
    "\n",
    "\n",
    "\n",
    "\n",
    "\n"
   ]
  },
  {
   "cell_type": "code",
   "execution_count": 99,
   "metadata": {
    "id": "Pxafor84948b"
   },
   "outputs": [
    {
     "name": "stdout",
     "output_type": "stream",
     "text": [
      "[[[0, 0, 0, 0, 0, 0], [0, 0, 0, 0, 0, 0], [0, 0, 0, 0, 0, 0], [0, 0, 0, 0, 0, 0]], [[0, 0, 0, 0, 0, 0], [1, 1, 1, 1, 1, 1], [2, 2, 2, 2, 2, 2], [3, 3, 3, 3, 3, 3]], [[0, 0, 0, 0, 0, 0], [2, 2, 2, 2, 2, 2], [4, 4, 4, 4, 4, 4], [6, 6, 6, 6, 6, 6]]]\n"
     ]
    }
   ],
   "source": [
    "#Write a Python program to create a 3X4X6 3D matrix wiith below elements using loop\n",
    "#Output:- \n",
    "# [\n",
    "#     [[0,0,0,0,0,0],[0,0,0,0,0,0],[0,0,0,0,0,0],[0,0,0,0,0,0]],\n",
    "#     [[0,0,0,0,0,0],[1,1,1,1,1,1],[2,2,2,2,2,2],[3,3,3,3,3,3]],\n",
    "#     [[0,0,0,0,0,0],[2,2,2,2,2,2],[4,4,4,4,4,4],[6,6,6,6,6,6]]\n",
    "# ]\n",
    "\n",
    "\n",
    "\n",
    "\n",
    "\n",
    "\n",
    "# tmp_list_0=[0]*6\n",
    "# tmp_list_1=[1]*6\n",
    "# tmp_list_2=[2]*6\n",
    "# tmp_list_3=[3]*6\n",
    "# tmp_list_4=[4]*6\n",
    "# tmp_list_5=[5]*6\n",
    "# tmp_list_6=[6]*6\n",
    "# for i in range(0,4):\n",
    "#     new_list_0.append(tmp_list_0)\n",
    "#     new_list_0.append(tmp_list_0)\n",
    "#     new_list_0.append(tmp_list_0)\n",
    "#     new_list_0.append(tmp_list_0)\n",
    "#     new_list_0.append(tmp_list_0)\n",
    "    \n",
    "    \n",
    "# print(new_list_0)\n",
    "\n",
    "\n",
    "\n",
    "\n",
    "# for i in range(4):\n",
    "#   array_0=[]\n",
    "#   for i in range(6):\n",
    "#         array_0.append(0)\n",
    "#   array_final_0.append(array_0)\n",
    "# print(array_final_0)\n",
    "\n",
    "\n",
    "\n",
    "# for i in range(4):\n",
    "#   array_1=[]\n",
    "#   for i in range(6):\n",
    "#         array_1.append(i)\n",
    "#   array_final_1.append(array_1)\n",
    "# print(array_final_1)\n",
    "\n",
    "# for i in range(4):\n",
    "#   array_2=[]\n",
    "#   for i in range(6):\n",
    "#         array_2.append(2)\n",
    "#   array_final_2.append(array_2)\n",
    "# print(array_final_2)\n",
    "\n",
    "# for i in range(4):\n",
    "#   array_3=[]\n",
    "#   for i in range(6):\n",
    "#         array_3.append(3)\n",
    "#   array_final_3.append(array_3)\n",
    "# print(array_final_3)\n",
    "\n",
    "# for i in range(4):\n",
    "#   array_4=[]\n",
    "#   for i in range(6):\n",
    "#         array_04append(4)\n",
    "#   array_final_4.append(array_4)\n",
    "# print(array_final_4)\n",
    "\n",
    "# for i in range(4):\n",
    "#   array_5=[]\n",
    "#   for i in range(6):\n",
    "#         array_5.append(5)\n",
    "#   array_final_5.append(array_5)\n",
    "# print(array_final_5)\n",
    "\n",
    "# for i in range(4):\n",
    "#   array_6=[]\n",
    "#   for i in range(6):\n",
    "#         array_6.append(6)\n",
    "#   array_final_6.append(array_6)\n",
    "# print(array_final_6)\n",
    "\n",
    "\n",
    "\n",
    "\n",
    "\n",
    "\n",
    "\n",
    "    \n",
    "    \n",
    "    \n",
    "\n",
    "\n",
    "\n",
    "\n",
    "array_0=[0 for i in range(6)]\n",
    "array_1=[1 for i in range(6)]\n",
    "array_2=[2 for i in range(6)]\n",
    "array_3=[3 for i in range(6)]\n",
    "array_4=[4 for i in range(6)]\n",
    "array_5=[5 for i in range(6)]\n",
    "array_6=[6 for i in range(6)]\n",
    "\n",
    "\n",
    "new_list=[\n",
    "     [array_0,array_0,array_0,array_0],\n",
    "     [array_0,array_1,array_2,array_3],\n",
    "     [array_0,array_2,array_4,array_6]\n",
    " ]\n",
    "\n",
    "print(new_list)\n",
    "\n",
    "\n",
    "\n",
    "\n",
    "\n",
    "\n",
    "\n",
    "\n",
    "\n",
    "\n"
   ]
  },
  {
   "cell_type": "code",
   "execution_count": 41,
   "metadata": {
    "id": "lYNv8gk794_p"
   },
   "outputs": [
    {
     "name": "stdout",
     "output_type": "stream",
     "text": [
      "[21, 87, 45, 33, 1]\n"
     ]
    }
   ],
   "source": [
    "#Write a Python program which takes a list of numbers as input and prints a new list after removing even numbers from it.\n",
    "#Input:- [10,21,22,98,87,45,33,1,2,100]\n",
    "#Output:- [21,87,45,33,1]\n",
    "\n",
    "new_list=[]\n",
    "a=[10,21,22,98,87,45,33,1,2,100]\n",
    "for i in range(0,len(a)):\n",
    "    if a[i]%2!=0:\n",
    "        new_list.append(a[i])\n",
    "print(new_list)\n",
    "        \n",
    "\n",
    "\n"
   ]
  },
  {
   "cell_type": "code",
   "execution_count": 54,
   "metadata": {
    "id": "3BaCb-rB95B7"
   },
   "outputs": [
    {
     "name": "stdout",
     "output_type": "stream",
     "text": [
      "10\n",
      "[45, 33, 10, 21, 22, 98, 33, 1, 2, 100]\n"
     ]
    }
   ],
   "source": [
    "#Write a Python program which takes a list from the user and prints it after reshuffling the elements of the list.\n",
    "#Input:- [10,21,22,98,87,45,33,1,2,100]\n",
    "#Output:- [1,87,21,10,33,2,100,45,98,22] (It may be any randon list but with same elements)\n",
    "\n",
    "a=[10,21,22,98,87,45,33,1,2,100]\n",
    "new_list=[]\n",
    "print(len(a))\n",
    "new_list=a[5:7]+a[0:4]+a[6:10]\n",
    "print(new_list)\n"
   ]
  },
  {
   "cell_type": "code",
   "execution_count": 1,
   "metadata": {},
   "outputs": [
    {
     "name": "stdout",
     "output_type": "stream",
     "text": [
      "2321\n",
      "2321\n"
     ]
    }
   ],
   "source": [
    "a=[10,100,2321, 1,200,2]\n",
    "\n",
    "\n",
    "#method using loop\n",
    "j=a[0]\n",
    "for i in a:\n",
    "    if j<i:\n",
    "        j=i\n",
    "print(j)\n",
    "\n",
    "\n",
    "#using sort\n",
    "\n",
    "a.sort(reverse=True)\n",
    "print(a[0])"
   ]
  },
  {
   "cell_type": "code",
   "execution_count": 2,
   "metadata": {},
   "outputs": [
    {
     "name": "stdout",
     "output_type": "stream",
     "text": [
      "{'brand': 'Ford', 'model': 'Mustang', 'year': 1964, 'color': 'White'}\n"
     ]
    }
   ],
   "source": [
    "car = {\n",
    "  \"brand\": \"Ford\",\n",
    "  \"model\": \"Mustang\",\n",
    "  \"year\": 1964\n",
    "}\n",
    "\n",
    "x = car.setdefault(\"color\", \"White\")\n",
    "\n",
    "print(car)"
   ]
  },
  {
   "cell_type": "code",
   "execution_count": null,
   "metadata": {},
   "outputs": [],
   "source": []
  }
 ],
 "metadata": {
  "colab": {
   "name": "List_Assignment.ipynb",
   "provenance": []
  },
  "kernelspec": {
   "display_name": "Python 3 (ipykernel)",
   "language": "python",
   "name": "python3"
  },
  "language_info": {
   "codemirror_mode": {
    "name": "ipython",
    "version": 3
   },
   "file_extension": ".py",
   "mimetype": "text/x-python",
   "name": "python",
   "nbconvert_exporter": "python",
   "pygments_lexer": "ipython3",
   "version": "3.9.13"
  }
 },
 "nbformat": 4,
 "nbformat_minor": 1
}
