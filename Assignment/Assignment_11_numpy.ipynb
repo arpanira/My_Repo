{
 "cells": [
  {
   "cell_type": "markdown",
   "metadata": {},
   "source": [
    "# part 1\n",
    "\n",
    "\n",
    "How to create an empty and a full NumPy array?\n",
    "\n",
    "Create a Numpy array filled with all zeros\n",
    "\n",
    "Create a Numpy array filled with all ones\n",
    "\n",
    "Flatten a 2d numpy array into 1d array\n",
    "\n",
    "Reverse a numpy array\n",
    "\n",
    "Change data type of given numpy array"
   ]
  },
  {
   "cell_type": "markdown",
   "metadata": {},
   "source": [
    "# part 2\n",
    "\n",
    "Get the maximum value from given matrix\n",
    "\n",
    "Get the minimum value from given matrix\n",
    "\n",
    "Find the number of rows and columns of a given matrix using NumPy\n",
    "\n",
    "Select the elements from a given matrix\n",
    "\n",
    "Find the sum of values in a matrix\n",
    "\n",
    "Calculate the sum of the diagonal elements of a NumPy array\n",
    "\n",
    "Adding and Subtracting Matrices in Python\n",
    "\n",
    "Ways to add row/columns in numpy array"
   ]
  }
 ],
 "metadata": {
  "language_info": {
   "name": "python"
  },
  "orig_nbformat": 4
 },
 "nbformat": 4,
 "nbformat_minor": 2
}
