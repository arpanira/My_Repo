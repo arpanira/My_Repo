{
 "cells": [
  {
   "cell_type": "code",
   "execution_count": 1,
   "id": "329057e6",
   "metadata": {},
   "outputs": [
    {
     "name": "stdout",
     "output_type": "stream",
     "text": [
      "<class 'float'> 2984611071472\n"
     ]
    }
   ],
   "source": [
    "'''Q. Declare a float value and store it in a variable.\n",
    "Check the type and print the id of the same.'''\n",
    "a = 10.05\n",
    "print(type(a),id(a))\n"
   ]
  },
  {
   "cell_type": "code",
   "execution_count": 2,
   "id": "08f9e0df",
   "metadata": {},
   "outputs": [
    {
     "name": "stdout",
     "output_type": "stream",
     "text": [
      "sum of two variables is 12.149999999999999\n",
      "difference of two variables is 8.05\n",
      "product of two variables is 20.705\n",
      "Division of two variables is 4.926829268292683\n",
      "Modulus of two variables is 1.9000000000000004\n",
      "quotient value on division of  of two variables is 4.926829268292683\n",
      "first num to the power of the second number 114.51406099298892\n"
     ]
    }
   ],
   "source": [
    "# Q. Arithmetic Operations on float\n",
    "# Take two different float values.\n",
    "# Store them in two different variables.\n",
    "# Do below operations on them:-\n",
    "# Find sum of both numbers\n",
    "# Find difference between them\n",
    "# Find the product of both numbers.\n",
    "# Find value after dividing first num with second number\n",
    "# Find the remainder after dividing first number with second number\n",
    "# Find the quotient after dividing first number with second number\n",
    "# Find the result of the first num to the power of the second number.\n",
    "\n",
    "a = 10.10\n",
    "b = 2.05\n",
    "\n",
    "#Performing arithmetic operations on two numbers\n",
    "\n",
    "print(\"sum of two variables is\",a+b) \n",
    "print(\"difference of two variables is\",a-b) \n",
    "print(\"product of two variables is\",a*b) #product\n",
    "print(\"Division of two variables is\",a/b) #division\n",
    "print(\"Modulus of two variables is\",a%b) #remainder/mod\n",
    "print(\"quotient value on division of  of two variables is\",a/b) #quotient\n",
    "print(\"first num to the power of the second number\",a**b) #power"
   ]
  },
  {
   "cell_type": "code",
   "execution_count": 8,
   "id": "18bdbff7",
   "metadata": {},
   "outputs": [
    {
     "name": "stdout",
     "output_type": "stream",
     "text": [
      "first number is greater than second: True\n",
      "first number is less than second: False\n",
      "first number is greater than or equal to second: True\n",
      "first number is less than or equal to second: False\n"
     ]
    }
   ],
   "source": [
    "'''Q. Comparison Operators on float\n",
    "Take two different float values.\n",
    "Store them in two different variables.\n",
    "Do below operations on them:-\n",
    "Compare these two numbers with below operator:-\n",
    "Greater than, '>'\n",
    "Smaller than, '<'\n",
    "Greater than or equal to, '>='\n",
    "Less than or equal to, '<=' '''\n",
    "\n",
    "a = 50.08\n",
    "b = 3.3\n",
    "\n",
    "#comparing two numbers\n",
    "print(\"first number is greater than second:\",a>b)\n",
    "print(\"first number is less than second:\",a<b)\n",
    "print(\"first number is greater than or equal to second:\",a>=b)\n",
    "print(\"first number is less than or equal to second:\",a<=b)"
   ]
  },
  {
   "cell_type": "code",
   "execution_count": 13,
   "id": "9ef00f8d",
   "metadata": {},
   "outputs": [
    {
     "name": "stdout",
     "output_type": "stream",
     "text": [
      "False\n",
      "True\n"
     ]
    }
   ],
   "source": [
    "'''Q. Equality Operator\n",
    "Take two different float values.\n",
    "Store them in two different variables.\n",
    "Equate them using equality operators (==, !=)'''\n",
    "\n",
    "\n",
    "a = 50.00\n",
    "b = 55.01\n",
    "\n",
    "#Equality operations\n",
    "print(a==b)\n",
    "print(a!=b)\n",
    "\n",
    "\n"
   ]
  },
  {
   "cell_type": "code",
   "execution_count": 14,
   "id": "b8842be5",
   "metadata": {},
   "outputs": [
    {
     "name": "stdout",
     "output_type": "stream",
     "text": [
      "20.3\n",
      "0.0\n",
      "0.0\n",
      "0.0\n",
      "10.2\n",
      "20.3\n",
      "20.3\n",
      "0.0\n",
      "False\n",
      "True\n"
     ]
    }
   ],
   "source": [
    "'''Q. Logical operators\n",
    "Observe the output of below code\n",
    "\n",
    "Cross check the output manually'''\n",
    "\n",
    "\n",
    "\n",
    "#Logical operation\n",
    "\n",
    "print(10.20 and 20.30) #both are true and second value taken\n",
    "print(0.0 and 20.30) #First is false so first value\n",
    "print(20.30 and 0.0) #Goes to till second and second value is false so second is taken.\n",
    "print(0.0 and 0.0) #First is false so first value is taken\n",
    "print(10.20 or 20.30) #First is True so first value is taken\n",
    "print(0.0 or 20.30) #Goes to till second and second is true second value is taken\n",
    "print(20.30 or 0.0) #First is True so first value is taken\n",
    "print(0.0 or 0.0) #Goes to till second and second is also false and second value is taken.\n",
    "print(not 10.20) #-Not of true is false->Output is False\n",
    "print(not 0.0) #Not of false is True>Output is True"
   ]
  },
  {
   "cell_type": "code",
   "execution_count": 17,
   "id": "8f230128",
   "metadata": {},
   "outputs": [
    {
     "name": "stdout",
     "output_type": "stream",
     "text": [
      "10.5 2984611491280\n",
      "10.5 2984611490128\n",
      "12.2 2984611490480\n",
      "12.2 2984611490480\n"
     ]
    }
   ],
   "source": [
    "'''Q. Bitwise operation is not applicable between instances of float.\n",
    "Why the Id of float values are different when the same value is\n",
    "assigned to two different variables\n",
    "ex: a = 10.5 b=10.5. but id will be same if I assign the variable\n",
    "having float i.e. a=c then both a and c's Id are same\n",
    "Object reusability concept is not applicable on float values.'''\n",
    "a = 10.5\n",
    "b =10.5\n",
    "print(a,id(a))\n",
    "print(b,id(b))\n",
    "c=12.2\n",
    "a=c\n",
    "print(a,id(a))\n",
    "print(c,id(c))\n",
    "\n"
   ]
  },
  {
   "cell_type": "code",
   "execution_count": 20,
   "id": "34a767db",
   "metadata": {},
   "outputs": [
    {
     "name": "stdout",
     "output_type": "stream",
     "text": [
      "False\n",
      "True\n",
      "True\n",
      "False\n"
     ]
    }
   ],
   "source": [
    "'''Q. What is the output of expression inside print statement. Cross check\n",
    "before running the program.'''\n",
    "a = 10.20\n",
    "b = 10.20\n",
    "print(a is b) \n",
    "print(a is not b) \n",
    "#object reusability is not applicable for float\n",
    "c=12.2\n",
    "a=c\n",
    "print(a is c) #its is true because 'a' is reassigned with 'c',hence now 'a' will start poiting to address where c's value is stored.\n",
    "print(a is not c) "
   ]
  },
  {
   "cell_type": "code",
   "execution_count": 18,
   "id": "838b2110",
   "metadata": {},
   "outputs": [
    {
     "name": "stdout",
     "output_type": "stream",
     "text": [
      "True\n",
      "True\n",
      "True\n",
      "True\n",
      "True\n",
      "True\n"
     ]
    }
   ],
   "source": [
    "'''Q. Membership operation\n",
    "in, not in are two membership operators and it returns boolean value'''\n",
    "print('2.7' in 'Python2.7.8') #True\n",
    "print(10.20 in [10,10.20,10+20j,'Python']) #True\n",
    "print(10.20 in (10,10.20,10+20j,'Python')) # True\n",
    "print(20.30 in {1,20.30,30+40j}) # True\n",
    "print(2.3 in {1:100, 2.3:200, 30+40j:300}) # True\n",
    "print(10 in range(20)) # True"
   ]
  },
  {
   "cell_type": "code",
   "execution_count": 24,
   "id": "a2b74e6b",
   "metadata": {},
   "outputs": [
    {
     "data": {
      "text/plain": [
       "'C:\\\\Users\\\\Home\\\\Datasceince_Nov18'"
      ]
     },
     "execution_count": 24,
     "metadata": {},
     "output_type": "execute_result"
    }
   ],
   "source": [
    "pwd"
   ]
  },
  {
   "cell_type": "code",
   "execution_count": null,
   "id": "c57e58c0",
   "metadata": {},
   "outputs": [],
   "source": []
  }
 ],
 "metadata": {
  "kernelspec": {
   "display_name": "Python 3 (ipykernel)",
   "language": "python",
   "name": "python3"
  },
  "language_info": {
   "codemirror_mode": {
    "name": "ipython",
    "version": 3
   },
   "file_extension": ".py",
   "mimetype": "text/x-python",
   "name": "python",
   "nbconvert_exporter": "python",
   "pygments_lexer": "ipython3",
   "version": "3.9.13"
  }
 },
 "nbformat": 4,
 "nbformat_minor": 5
}
