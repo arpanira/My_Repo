{
 "cells": [
  {
   "cell_type": "code",
   "execution_count": 66,
   "id": "329057e6",
   "metadata": {},
   "outputs": [
    {
     "name": "stdout",
     "output_type": "stream",
     "text": [
      "<class 'int'> 2276290095696\n"
     ]
    }
   ],
   "source": [
    "'''Q. Declare a int value and store it in a variable.\n",
    "Check the type and print the id of the same.'''\n",
    "a = 10\n",
    "print(type(a),id(a))\n"
   ]
  },
  {
   "cell_type": "code",
   "execution_count": 11,
   "id": "333cb3a2",
   "metadata": {},
   "outputs": [
    {
     "name": "stdout",
     "output_type": "stream",
     "text": [
      "2819204542288\n",
      "2819204542288\n"
     ]
    },
    {
     "data": {
      "text/plain": [
       "'object reusability applied for integers between -5 to 256'"
      ]
     },
     "execution_count": 11,
     "metadata": {},
     "output_type": "execute_result"
    }
   ],
   "source": [
    "# 2. Q. Take one int value between 0 - 256.\n",
    "#Assign it to two different variables.\n",
    "#Check the id of both the variables. It should come the same. Check why?\n",
    "\n",
    "a = 50\n",
    "b = 50\n",
    "print(id(a))\n",
    "print(id(b))\n",
    "\"object reusability applied for integers between -5 to 256\" if a is b and (a>=-5 and a<=256) else \"stored on seperate addressess\""
   ]
  },
  {
   "cell_type": "code",
   "execution_count": 12,
   "id": "1d81c69c",
   "metadata": {},
   "outputs": [
    {
     "name": "stdout",
     "output_type": "stream",
     "text": [
      "2819284150576\n",
      "2819284151696\n"
     ]
    },
    {
     "data": {
      "text/plain": [
       "'stored on seperate addressess'"
      ]
     },
     "execution_count": 12,
     "metadata": {},
     "output_type": "execute_result"
    }
   ],
   "source": [
    "#Q.3. Take one int value either less than -5 or greater than 256.\n",
    "#Assign it to two different variables.\n",
    "#Check the id of both the variables. It should come different.Check why?\n",
    "\n",
    "a = -9\n",
    "b = -9\n",
    "print(id(a))\n",
    "print(id(b))\n",
    "\"object reusability applied for integers between -5 to 256\" if a is b and (a>=-5 and a<=256) else \"stored on seperate addressess\""
   ]
  },
  {
   "cell_type": "code",
   "execution_count": 14,
   "id": "08f9e0df",
   "metadata": {},
   "outputs": [
    {
     "name": "stdout",
     "output_type": "stream",
     "text": [
      "7\n",
      "3\n",
      "10\n",
      "2.5\n",
      "1\n",
      "2.5\n",
      "25\n"
     ]
    }
   ],
   "source": [
    "# Q. Arithmetic Operations on integers\n",
    "# Take two different integer values.\n",
    "# Store them in two different variables.\n",
    "# Do below operations on them:-\n",
    "# Find sum of both numbers\n",
    "# Find difference between them\n",
    "# Find the product of both numbers.\n",
    "# Find value after dividing first num with second number\n",
    "# Find the remainder after dividing first number with second number\n",
    "# Find the quotient after dividing first number with second number\n",
    "# Find the result of the first num to the power of the second number.\n",
    "\n",
    "a = 5\n",
    "b = 2\n",
    "\n",
    "#Performing arithmetic operations on two numbers\n",
    "\n",
    "print(a+b) #sum\n",
    "print(a-b) #difference\n",
    "print(a*b) #product\n",
    "print(a/b) #division\n",
    "print(a%b) #remainder/mod\n",
    "print(a/b) #quotient\n",
    "print(a**b) #power"
   ]
  },
  {
   "cell_type": "code",
   "execution_count": 16,
   "id": "18bdbff7",
   "metadata": {},
   "outputs": [
    {
     "name": "stdout",
     "output_type": "stream",
     "text": [
      "True\n",
      "False\n",
      "True\n",
      "False\n"
     ]
    }
   ],
   "source": [
    "'''Q. Comparison Operators on integers\n",
    "Take two different integer values.\n",
    "Store them in two different variables.\n",
    "Do below operations on them:-\n",
    "Compare se two numbers with below operator:-\n",
    "Greater than, '>'\n",
    "Smaller than, '<'\n",
    "Greater than or equal to, '>='\n",
    "Less than or equal to, '<='\n",
    "Observe their output(return type should be boolean)'''\n",
    "\n",
    "a = 50\n",
    "b = 20\n",
    "\n",
    "#comparing two numbers\n",
    "print(a>b)\n",
    "print(a<b)\n",
    "print(a>=b)\n",
    "print(a<=b)"
   ]
  },
  {
   "cell_type": "code",
   "execution_count": 17,
   "id": "9ef00f8d",
   "metadata": {},
   "outputs": [
    {
     "name": "stdout",
     "output_type": "stream",
     "text": [
      "False\n",
      "True\n"
     ]
    }
   ],
   "source": [
    "'''Q. Equality Operator\n",
    "Take two different integer values.\n",
    "Store them in two different variables.\n",
    "Equate them using equality operators (==, !=)\n",
    "Observe the output(return type should be boolean)'''\n",
    "\n",
    "\n",
    "a = 50\n",
    "b = 20\n",
    "\n",
    "#Equality operations\n",
    "print(a==b)\n",
    "print(a!=b)\n",
    "\n",
    "\n"
   ]
  },
  {
   "cell_type": "code",
   "execution_count": 6,
   "id": "b8842be5",
   "metadata": {},
   "outputs": [
    {
     "name": "stdout",
     "output_type": "stream",
     "text": [
      "True\n",
      "True\n",
      "False\n",
      "20\n",
      "0\n",
      "0\n",
      "0\n",
      "10\n",
      "20\n",
      "20\n",
      "0\n",
      "False\n",
      "True\n"
     ]
    }
   ],
   "source": [
    "'''Q. Logical operators\n",
    "Observe the output of below code\n",
    "\n",
    "Cross check the output manually'''\n",
    "\n",
    "\n",
    "print(bool(10))#---True\n",
    "print(bool(20))#---True\n",
    "print(bool(0))#---False\n",
    "\n",
    "#Logical operation\n",
    "\n",
    "print(10 and 20)\n",
    "#----------------------------------------->Output is 20\n",
    "print(0 and 20)\n",
    "#----------------------------------------->Output is 0\n",
    "print(20 and 0)\n",
    "#----------------------------------------->Output is 0\n",
    "print(0 and 0)\n",
    "#----------------------------------------->Output is 0\n",
    "print(10 or 20)\n",
    "#----------------------------------------->Output is 10\n",
    "print(0 or 20)\n",
    "#----------------------------------------->Output is 20\n",
    "print(20 or 0)\n",
    "#----------------------------------------->Output is 20\n",
    "print(0 or 0)\n",
    "#----------------------------------------->Output is 0\n",
    "print(not 10)\n",
    "#----------------------------------------->Output is False\n",
    "print(not 0)\n",
    "#----------------------------------------->Output is True\n",
    "\n"
   ]
  },
  {
   "cell_type": "code",
   "execution_count": 33,
   "id": "8f230128",
   "metadata": {},
   "outputs": [
    {
     "name": "stdout",
     "output_type": "stream",
     "text": [
      "Binary rep of 10: 0b1010\n",
      "Binary rep of 20: 0b10100\n",
      "Bitwise and(&): 0\n",
      "0\n",
      "Bitwise or(|): 30\n",
      "30\n",
      "Bitwise xor(^): 30\n",
      "30\n",
      "negate: -11\n",
      "left shift: 40\n",
      "right shift: 2\n"
     ]
    }
   ],
   "source": [
    "'''Q. Bitwise Operators\n",
    "Do below operations on the values provided below:-\n",
    "Bitwise and(&) -----------------------------------------> 10, 20\n",
    "-------> Output is 0\n",
    "Bitwise or(|) -----------------------------------------> 10, 20\n",
    "-------> Output is 30\n",
    "Bitwise(^) -----------------------------------------> 10, 20\n",
    "-------> Output is 30\n",
    "Bitwise negation(~) ------------------------------------> 10\n",
    "-------> Output is -11\n",
    "Bitwise left shift ------------------------------------> 10,2\n",
    "-------> Output is 40\n",
    "Bitwise right shift ------------------------------------> 10,2\n",
    "-------> Output is 2\n",
    "Cross check the output manually'''\n",
    "\n",
    "\n",
    "\n",
    "\n",
    "print(\"Binary rep of 10:\",bin(10))\n",
    "print(\"Binary rep of 20:\",bin(20))\n",
    "\n",
    "#Bitwise and operation\n",
    "print(\"Bitwise and(&):\",(10 & 20))\n",
    "# 0 1 0 1 0\n",
    "# &\n",
    "# 1 0 1 0 0\n",
    "# _________\n",
    "# 0 0 0 0 0\n",
    "\n",
    "print(0b00000)\n",
    "\n",
    "\n",
    "#Bitwise or operation\n",
    "print(\"Bitwise or(|):\",(10 | 20))\n",
    "# 0 1 0 1 0\n",
    "# or\n",
    "# 1 0 1 0 0\n",
    "# _________\n",
    "# 1 1 1 1 0\n",
    "\n",
    "print(0b11110)\n",
    "\n",
    "\n",
    "#Bitwise or operation\n",
    "print(\"Bitwise xor(^):\",(10 ^ 20))\n",
    "# 0 1 0 1 0\n",
    "# ^\n",
    "# 1 0 1 0 0\n",
    "# _________\n",
    "# 1 1 1 1 0\n",
    "\n",
    "print(0b11110)\n",
    "\n",
    "\n",
    "\n",
    "print(\"negate:\",~10)  #~x = -x-1\n",
    "\n",
    "print(\"left shift:\",10<<2) # A*2**n\n",
    "\n",
    "print(\"right shift:\",10>>2) # A//2**n\n",
    "\n",
    "\n"
   ]
  },
  {
   "cell_type": "code",
   "execution_count": 37,
   "id": "34a767db",
   "metadata": {},
   "outputs": [
    {
     "name": "stdout",
     "output_type": "stream",
     "text": [
      "True\n",
      "False\n",
      "False\n",
      "True\n"
     ]
    }
   ],
   "source": [
    "'''Q. What is the output of expression inside print statement.'''\n",
    "\n",
    "a = 10\n",
    "b = 10\n",
    "print(a is b)#object reusability.\n",
    "print(a is not b)\n",
    "a = 1000\n",
    "b = 1000\n",
    "print(a is b) # since 1000>256,hence value is stored on different memory addressess\n",
    "print(a is not b)"
   ]
  },
  {
   "cell_type": "code",
   "execution_count": 49,
   "id": "8ee06f28",
   "metadata": {},
   "outputs": [
    {
     "name": "stdout",
     "output_type": "stream",
     "text": [
      "20\n",
      "20\n",
      "20\n",
      "20\n",
      "20\n"
     ]
    }
   ],
   "source": [
    "'''Q. What is the output of expression inside print statement.'''\n",
    "print(10+(10*32)//2**5&20+(~(-10))<<2)\n",
    "print(10+320//32&20+9<<2)\n",
    "print(10+10&29<<2)\n",
    "print(20&29<<2)\n",
    "print(20&116)"
   ]
  },
  {
   "cell_type": "markdown",
   "id": "84538e04",
   "metadata": {},
   "source": [
    "29*2**2---->116"
   ]
  },
  {
   "cell_type": "markdown",
   "id": "f22c13fe",
   "metadata": {},
   "source": [
    "print((~(-10)))--->9"
   ]
  },
  {
   "cell_type": "code",
   "execution_count": 51,
   "id": "838b2110",
   "metadata": {},
   "outputs": [
    {
     "name": "stdout",
     "output_type": "stream",
     "text": [
      "True\n",
      "True\n",
      "True\n",
      "True\n",
      "True\n",
      "True\n"
     ]
    }
   ],
   "source": [
    "'''Q. Membership operation\n",
    "in, not in are two membership operators and it returns boolean value'''\n",
    "print('2' in 'Python2.7.8')\n",
    "print(10 in [10,10.20,10+20j,'Python'])\n",
    "print(10 in (10,10.20,10+20j,'Python'))\n",
    "print(2 in {1,2,3})\n",
    "print(3 in {1:100, 2:200, 3:300})\n",
    "print(10 in range(20))"
   ]
  },
  {
   "cell_type": "code",
   "execution_count": 62,
   "id": "c53f6622",
   "metadata": {},
   "outputs": [
    {
     "name": "stdout",
     "output_type": "stream",
     "text": [
      "0b1010 <class 'str'>\n",
      "0o132 <class 'str'> 20\n",
      "0x1e\n",
      "0b10011010010100\n",
      "0o23224\n",
      "0x2694\n"
     ]
    }
   ],
   "source": [
    "'''Q. An integer can be represented in binary, octal or hexadecimal form.\n",
    "Declare one binary, one octal and one hexadecimal value and store them\n",
    "in three different variables.\n",
    "Convert 9876 to its binary, octal and hexadecimal equivalent and print\n",
    "their corresponding value.'''\n",
    "\n",
    "a = bin(10)\n",
    "b = oct(90)\n",
    "c = hex(30)\n",
    "print(a,type(a))\n",
    "print(b,type(b),0o24)\n",
    "print(c)\n",
    "\n",
    "print(bin(9876))\n",
    "print(oct(9876))\n",
    "print(hex(9876))\n",
    "\n"
   ]
  },
  {
   "cell_type": "code",
   "execution_count": 63,
   "id": "7ed1ea07",
   "metadata": {},
   "outputs": [
    {
     "name": "stdout",
     "output_type": "stream",
     "text": [
      "80\n",
      "3870\n",
      "64222\n",
      "0b1010000\n",
      "0o7436\n",
      "0xfade\n",
      "0b1010000\n",
      "0b1111101011011110\n",
      "0o175336\n",
      "0o7436\n",
      "0x50\n",
      "0xfade\n"
     ]
    }
   ],
   "source": [
    "#Q. What will be the output of following:-\n",
    "a = 0b1010000\n",
    "print(a)\n",
    "b = 0o7436\n",
    "print(b)\n",
    "c = 0xfade\n",
    "print(c)\n",
    "print(bin(80))\n",
    "\n",
    "print(oct(3870))\n",
    "print(hex(64222))\n",
    "print(bin(0b1010000))\n",
    "print(bin(0xfade))\n",
    "print(oct(0xfade))\n",
    "print(oct(0o7436))\n",
    "print(hex(0b1010000))\n",
    "print(hex(0xfade))"
   ]
  },
  {
   "cell_type": "code",
   "execution_count": null,
   "id": "a2b74e6b",
   "metadata": {},
   "outputs": [],
   "source": []
  }
 ],
 "metadata": {
  "kernelspec": {
   "display_name": "Python 3 (ipykernel)",
   "language": "python",
   "name": "python3"
  },
  "language_info": {
   "codemirror_mode": {
    "name": "ipython",
    "version": 3
   },
   "file_extension": ".py",
   "mimetype": "text/x-python",
   "name": "python",
   "nbconvert_exporter": "python",
   "pygments_lexer": "ipython3",
   "version": "3.9.13"
  }
 },
 "nbformat": 4,
 "nbformat_minor": 5
}
