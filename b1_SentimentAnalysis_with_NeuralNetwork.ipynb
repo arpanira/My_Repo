{
  "cells": [
    {
      "cell_type": "markdown",
      "metadata": {
        "id": "view-in-github",
        "colab_type": "text"
      },
      "source": [
        "<a href=\"https://colab.research.google.com/github/arpanira/My_Repo/blob/main/b1_SentimentAnalysis_with_NeuralNetwork.ipynb\" target=\"_parent\"><img src=\"https://colab.research.google.com/assets/colab-badge.svg\" alt=\"Open In Colab\"/></a>"
      ]
    },
    {
      "cell_type": "markdown",
      "metadata": {
        "id": "Ag88fDJdv-fv"
      },
      "source": [
        "## Plan of Action\n",
        "\n",
        "\n",
        "1.   Load **IMDb Movie Reviews dataset (50,000 reviews)**\n",
        "2.   **Pre-process dataset** by removing special characters, numbers, etc. from user reviews + convert **sentiment labels** positive & negative to numbers 1 & 0, respectively\n",
        "3.   **Import GloVe Word Embedding** to build Embedding Dictionary + Use this to build Embedding Matrix for our Corpus\n",
        "4. Model Training using **Deep Learning in Keras** for separate: **Simple Neural Net, CNN and LSTM Models** and analyse model performance and results\n",
        "4. Last, perform **predictions on real IMDb movie reviews**"
      ]
    },
    {
      "cell_type": "markdown",
      "metadata": {
        "id": "EwZa81ThPbt3"
      },
      "source": [
        "## Setting the environment"
      ]
    },
    {
      "cell_type": "code",
      "execution_count": null,
      "metadata": {
        "id": "bj1dnOyZOUv2",
        "colab": {
          "base_uri": "https://localhost:8080/"
        },
        "outputId": "1e12c149-d050-4e5f-9e62-1aa3445aba68"
      },
      "outputs": [
        {
          "output_type": "stream",
          "name": "stdout",
          "text": [
            "Drive already mounted at /content/Colab_Notebooks; to attempt to forcibly remount, call drive.mount(\"/content/Colab_Notebooks\", force_remount=True).\n"
          ]
        }
      ],
      "source": [
        "# # Mounting google drive\n",
        "\n",
        "from google.colab import drive\n",
        "drive.mount('/content/Colab_Notebooks')"
      ]
    },
    {
      "cell_type": "code",
      "execution_count": null,
      "metadata": {
        "id": "F0M1fdcBOf_Y",
        "colab": {
          "base_uri": "https://localhost:8080/"
        },
        "outputId": "2dfec8fe-09df-4706-c0d4-0a47e46aa8a4"
      },
      "outputs": [
        {
          "output_type": "stream",
          "name": "stdout",
          "text": [
            "[Errno 2] No such file or directory: '/My Drive/Colab_Notebooks/Project_SentimentAnalysis_with_NeuralNetwork'\n",
            "/content\n",
            "sample_data\n"
          ]
        }
      ],
      "source": [
        "# # Setting toolkit folder as working directory\n",
        "\n",
        "#%cd /My Drive/Colab_Notebooks/Project_SentimentAnalysis_with_NeuralNetwork\n",
        "#! ls"
      ]
    },
    {
      "cell_type": "code",
      "execution_count": null,
      "metadata": {
        "id": "q4njfux97t-_",
        "outputId": "5b946fc2-7c37-470e-ac37-233db6081800",
        "colab": {
          "base_uri": "https://localhost:8080/"
        }
      },
      "outputs": [
        {
          "output_type": "stream",
          "name": "stdout",
          "text": [
            "Requirement already satisfied: tensorflow in /usr/local/lib/python3.10/dist-packages (2.15.0)\n",
            "Requirement already satisfied: absl-py>=1.0.0 in /usr/local/lib/python3.10/dist-packages (from tensorflow) (1.4.0)\n",
            "Requirement already satisfied: astunparse>=1.6.0 in /usr/local/lib/python3.10/dist-packages (from tensorflow) (1.6.3)\n",
            "Requirement already satisfied: flatbuffers>=23.5.26 in /usr/local/lib/python3.10/dist-packages (from tensorflow) (23.5.26)\n",
            "Requirement already satisfied: gast!=0.5.0,!=0.5.1,!=0.5.2,>=0.2.1 in /usr/local/lib/python3.10/dist-packages (from tensorflow) (0.5.4)\n",
            "Requirement already satisfied: google-pasta>=0.1.1 in /usr/local/lib/python3.10/dist-packages (from tensorflow) (0.2.0)\n",
            "Requirement already satisfied: h5py>=2.9.0 in /usr/local/lib/python3.10/dist-packages (from tensorflow) (3.9.0)\n",
            "Requirement already satisfied: libclang>=13.0.0 in /usr/local/lib/python3.10/dist-packages (from tensorflow) (16.0.6)\n",
            "Requirement already satisfied: ml-dtypes~=0.2.0 in /usr/local/lib/python3.10/dist-packages (from tensorflow) (0.2.0)\n",
            "Requirement already satisfied: numpy<2.0.0,>=1.23.5 in /usr/local/lib/python3.10/dist-packages (from tensorflow) (1.23.5)\n",
            "Requirement already satisfied: opt-einsum>=2.3.2 in /usr/local/lib/python3.10/dist-packages (from tensorflow) (3.3.0)\n",
            "Requirement already satisfied: packaging in /usr/local/lib/python3.10/dist-packages (from tensorflow) (23.2)\n",
            "Requirement already satisfied: protobuf!=4.21.0,!=4.21.1,!=4.21.2,!=4.21.3,!=4.21.4,!=4.21.5,<5.0.0dev,>=3.20.3 in /usr/local/lib/python3.10/dist-packages (from tensorflow) (3.20.3)\n",
            "Requirement already satisfied: setuptools in /usr/local/lib/python3.10/dist-packages (from tensorflow) (67.7.2)\n",
            "Requirement already satisfied: six>=1.12.0 in /usr/local/lib/python3.10/dist-packages (from tensorflow) (1.16.0)\n",
            "Requirement already satisfied: termcolor>=1.1.0 in /usr/local/lib/python3.10/dist-packages (from tensorflow) (2.4.0)\n",
            "Requirement already satisfied: typing-extensions>=3.6.6 in /usr/local/lib/python3.10/dist-packages (from tensorflow) (4.5.0)\n",
            "Requirement already satisfied: wrapt<1.15,>=1.11.0 in /usr/local/lib/python3.10/dist-packages (from tensorflow) (1.14.1)\n",
            "Requirement already satisfied: tensorflow-io-gcs-filesystem>=0.23.1 in /usr/local/lib/python3.10/dist-packages (from tensorflow) (0.34.0)\n",
            "Requirement already satisfied: grpcio<2.0,>=1.24.3 in /usr/local/lib/python3.10/dist-packages (from tensorflow) (1.60.0)\n",
            "Requirement already satisfied: tensorboard<2.16,>=2.15 in /usr/local/lib/python3.10/dist-packages (from tensorflow) (2.15.1)\n",
            "Requirement already satisfied: tensorflow-estimator<2.16,>=2.15.0 in /usr/local/lib/python3.10/dist-packages (from tensorflow) (2.15.0)\n",
            "Requirement already satisfied: keras<2.16,>=2.15.0 in /usr/local/lib/python3.10/dist-packages (from tensorflow) (2.15.0)\n",
            "Requirement already satisfied: wheel<1.0,>=0.23.0 in /usr/local/lib/python3.10/dist-packages (from astunparse>=1.6.0->tensorflow) (0.42.0)\n",
            "Requirement already satisfied: google-auth<3,>=1.6.3 in /usr/local/lib/python3.10/dist-packages (from tensorboard<2.16,>=2.15->tensorflow) (2.17.3)\n",
            "Requirement already satisfied: google-auth-oauthlib<2,>=0.5 in /usr/local/lib/python3.10/dist-packages (from tensorboard<2.16,>=2.15->tensorflow) (1.2.0)\n",
            "Requirement already satisfied: markdown>=2.6.8 in /usr/local/lib/python3.10/dist-packages (from tensorboard<2.16,>=2.15->tensorflow) (3.5.1)\n",
            "Requirement already satisfied: requests<3,>=2.21.0 in /usr/local/lib/python3.10/dist-packages (from tensorboard<2.16,>=2.15->tensorflow) (2.31.0)\n",
            "Requirement already satisfied: tensorboard-data-server<0.8.0,>=0.7.0 in /usr/local/lib/python3.10/dist-packages (from tensorboard<2.16,>=2.15->tensorflow) (0.7.2)\n",
            "Requirement already satisfied: werkzeug>=1.0.1 in /usr/local/lib/python3.10/dist-packages (from tensorboard<2.16,>=2.15->tensorflow) (3.0.1)\n",
            "Requirement already satisfied: cachetools<6.0,>=2.0.0 in /usr/local/lib/python3.10/dist-packages (from google-auth<3,>=1.6.3->tensorboard<2.16,>=2.15->tensorflow) (5.3.2)\n",
            "Requirement already satisfied: pyasn1-modules>=0.2.1 in /usr/local/lib/python3.10/dist-packages (from google-auth<3,>=1.6.3->tensorboard<2.16,>=2.15->tensorflow) (0.3.0)\n",
            "Requirement already satisfied: rsa<5,>=3.1.4 in /usr/local/lib/python3.10/dist-packages (from google-auth<3,>=1.6.3->tensorboard<2.16,>=2.15->tensorflow) (4.9)\n",
            "Requirement already satisfied: requests-oauthlib>=0.7.0 in /usr/local/lib/python3.10/dist-packages (from google-auth-oauthlib<2,>=0.5->tensorboard<2.16,>=2.15->tensorflow) (1.3.1)\n",
            "Requirement already satisfied: charset-normalizer<4,>=2 in /usr/local/lib/python3.10/dist-packages (from requests<3,>=2.21.0->tensorboard<2.16,>=2.15->tensorflow) (3.3.2)\n",
            "Requirement already satisfied: idna<4,>=2.5 in /usr/local/lib/python3.10/dist-packages (from requests<3,>=2.21.0->tensorboard<2.16,>=2.15->tensorflow) (3.6)\n",
            "Requirement already satisfied: urllib3<3,>=1.21.1 in /usr/local/lib/python3.10/dist-packages (from requests<3,>=2.21.0->tensorboard<2.16,>=2.15->tensorflow) (2.0.7)\n",
            "Requirement already satisfied: certifi>=2017.4.17 in /usr/local/lib/python3.10/dist-packages (from requests<3,>=2.21.0->tensorboard<2.16,>=2.15->tensorflow) (2023.11.17)\n",
            "Requirement already satisfied: MarkupSafe>=2.1.1 in /usr/local/lib/python3.10/dist-packages (from werkzeug>=1.0.1->tensorboard<2.16,>=2.15->tensorflow) (2.1.3)\n",
            "Requirement already satisfied: pyasn1<0.6.0,>=0.4.6 in /usr/local/lib/python3.10/dist-packages (from pyasn1-modules>=0.2.1->google-auth<3,>=1.6.3->tensorboard<2.16,>=2.15->tensorflow) (0.5.1)\n",
            "Requirement already satisfied: oauthlib>=3.0.0 in /usr/local/lib/python3.10/dist-packages (from requests-oauthlib>=0.7.0->google-auth-oauthlib<2,>=0.5->tensorboard<2.16,>=2.15->tensorflow) (3.2.2)\n"
          ]
        }
      ],
      "source": [
        "!pip install tensorflow"
      ]
    },
    {
      "cell_type": "code",
      "execution_count": null,
      "metadata": {
        "id": "W-vpR9QCOn2i"
      },
      "outputs": [],
      "source": [
        "# Importing essential libraries and functions\n",
        "\n",
        "import pandas as pd\n",
        "import numpy as np\n",
        "import re\n",
        "import nltk\n",
        "from nltk.corpus import stopwords\n",
        "import tensorflow as tf\n"
      ]
    },
    {
      "cell_type": "code",
      "source": [
        "from keras.preprocessing.text import one_hot,Tokenizer\n",
        "from keras.models import Sequential\n",
        "from keras.layers import Activation,Dropout,Dense\n",
        "from tensorflow.keras.layers import GlobalMaxPooling1D\n",
        "from tensorflow.keras.layers import Flatten,Embedding,Conv1D,LSTM\n",
        "from sklearn.model_selection import train_test_split"
      ],
      "metadata": {
        "id": "7bbEbqrwAyBP"
      },
      "execution_count": null,
      "outputs": []
    },
    {
      "cell_type": "markdown",
      "source": [
        "#while both Flatten and GlobalMaxPoolingID layers converts the spatial dimension into ID vector.\n",
        "#Flatten preserves all values of vector while GlobalMaxPoolingID only preserves the maximum value from each feature\n",
        "#Use Cases: Flatten is more versatile and can be used in a broader range of scenarios()\n",
        "#, while GlobalMaxPooling1D is often used in NLP tasks where capturing the most relevant information from the entire sequence is crucial.\n",
        "#For tasks where preserving spatial relationships across the entire sequence is important, GlobalMaxPooling1D may be preferred.\n",
        "#For tasks where spatial relationships are less important, and you want to retain all information in a flattened vector, Flatten might be a suitable choice.\n",
        "#Operation: The Flatten layer is used to flatten the input tensor into a one-dimensional vector. It reshapes the input tensor by simply concatenating all the values in the tensor, regardless of their position in the spatial dimensions.\n",
        "#Use Case: Typically used after convolutional layers when working with image data (2D) or after recurrent layers in the case of sequential data (e.g., time series).\n",
        "#Output Shape: The output shape is a one-dimensional vector.\n",
        "#Embedding\n",
        "\"\"\"An embedding layer is a fundamental component in neural networks, especially in natural language processing (NLP) tasks. The primary purpose of an embedding layer is to convert categorical data, such as words or tokens, into continuous vector representations (embeddings) that can be processed by a neural network.\"\"\"\n",
        "#Convolutional Operation:Conv1D performs convolutional operations on one-dimensional input data. In the context of NLP, this is often applied to sequences of word embeddings or other one-dimensional representations.\n",
        "#LSTM:\n",
        "\n",
        "#gradients (derivatives of the loss with respect to each parameters).Gradients indicate how much the loss function would increase or decrease if the weights were adjusted.\n",
        "#When backpropogation happens when there are too many layers,derivative of cost function at some layer almost beomes zero.\n",
        "#Propagation Through Layers:In deep neural networks, gradients are propagated backward through the layers from the output layer to the input layer.\n",
        "#Each layer contributes to the gradients by multiplying the gradients from the layer above it with the local gradients.\n",
        "#Issue:The vanishing gradient problem occurs when the gradients become extremely small as they are propagated backward through many layers. In some cases, the gradients may become so close to zero that the weights of the earlier layers hardly get updated during training.\n",
        "#Consequence:If the gradients vanish, the network has difficulty learning meaningful representations, especially in deep architectures. Layers that receive small gradients essentially stop learning, and the network fails to capture complex relationships in the data.\n",
        "#Solution for vanishing gradient descent:Sigmoid and tanh activation functions are more prone to vanising gradient descent.\n",
        "#Weight Initialization: Proper initialization of weights can help alleviate the vanishing gradient problem. Techniques like Xavier/Glorot initialization are designed to set initial weights in a way that balances the variance of activations across layers.\n",
        "#Batch Normalization: Batch normalization normalizes the inputs to a layer, reducing internal covariate shift. It has been shown to help with the vanishing gradient problem.\n",
        "#Skip Connections/Residual Networks (ResNets): Residual networks introduce skip connections that allow gradients to flow directly through the network, mitigating the vanishing gradient issue.\n",
        "#Activation Functions: The use of activation functions like ReLU (Rectified Linear Unit) that do not squash positive values can help address the vanishing gradient problem to some extent."
      ],
      "metadata": {
        "id": "Pq1eyu6tbY8s"
      }
    },
    {
      "cell_type": "code",
      "execution_count": null,
      "metadata": {
        "id": "8Bv2HIzH7t_C"
      },
      "outputs": [],
      "source": [
        "from keras.preprocessing.sequence import pad_sequences"
      ]
    },
    {
      "cell_type": "code",
      "source": [
        "pwd"
      ],
      "metadata": {
        "colab": {
          "base_uri": "https://localhost:8080/",
          "height": 36
        },
        "id": "wfpFjAkQcFAi",
        "outputId": "beb9d8f1-faee-4945-cc41-df7ccace1207"
      },
      "execution_count": null,
      "outputs": [
        {
          "output_type": "execute_result",
          "data": {
            "text/plain": [
              "'/content'"
            ],
            "application/vnd.google.colaboratory.intrinsic+json": {
              "type": "string"
            }
          },
          "metadata": {},
          "execution_count": 16
        }
      ]
    },
    {
      "cell_type": "code",
      "source": [
        "ls"
      ],
      "metadata": {
        "colab": {
          "base_uri": "https://localhost:8080/"
        },
        "id": "C0eeXmkZtG-u",
        "outputId": "cf19ec17-4da2-4dfb-e0d8-7a8ce4c8c96f"
      },
      "execution_count": null,
      "outputs": [
        {
          "output_type": "stream",
          "name": "stdout",
          "text": [
            "\u001b[0m\u001b[01;34mColab_Notebooks\u001b[0m/  \u001b[01;34msample_data\u001b[0m/\n"
          ]
        }
      ]
    },
    {
      "cell_type": "markdown",
      "metadata": {
        "id": "q6FO9rxjxHe_"
      },
      "source": [
        "## Loading dataset"
      ]
    },
    {
      "cell_type": "code",
      "execution_count": null,
      "metadata": {
        "id": "sNL6yy_DO0n1"
      },
      "outputs": [],
      "source": [
        "# Importing IMDb Movie Reviews dataset\n",
        "\n",
        "movie_reviews = pd.read_csv(\"/content/Colab_Notebooks/MyDrive/a1_IMDB_Dataset.csv\")\n",
        "\n",
        "# dataset source: https://www.kaggle.com/datasets/lakshmi25npathi/imdb-dataset-of-50k-movie-reviews"
      ]
    },
    {
      "cell_type": "code",
      "execution_count": null,
      "metadata": {
        "colab": {
          "base_uri": "https://localhost:8080/"
        },
        "id": "elu2E2KjPBJX",
        "outputId": "ffd164ff-82b7-469c-8b7a-c264c6dec118"
      },
      "outputs": [
        {
          "output_type": "execute_result",
          "data": {
            "text/plain": [
              "(50000, 2)"
            ]
          },
          "metadata": {},
          "execution_count": 24
        }
      ],
      "source": [
        "# Dataset exploration\n",
        "\n",
        "movie_reviews.shape"
      ]
    },
    {
      "cell_type": "code",
      "execution_count": null,
      "metadata": {
        "colab": {
          "base_uri": "https://localhost:8080/",
          "height": 206
        },
        "id": "Ua8sjtdaPIAq",
        "outputId": "838252f1-7092-4768-9551-ac044a6b2197"
      },
      "outputs": [
        {
          "output_type": "execute_result",
          "data": {
            "text/plain": [
              "                                              review sentiment\n",
              "0  One of the other reviewers has mentioned that ...  positive\n",
              "1  A wonderful little production. <br /><br />The...  positive\n",
              "2  I thought this was a wonderful way to spend ti...  positive\n",
              "3  Basically there's a family where a little boy ...  negative\n",
              "4  Petter Mattei's \"Love in the Time of Money\" is...  positive"
            ],
            "text/html": [
              "\n",
              "  <div id=\"df-ea54dc0f-da9a-48ef-8d5d-b82ea752af82\" class=\"colab-df-container\">\n",
              "    <div>\n",
              "<style scoped>\n",
              "    .dataframe tbody tr th:only-of-type {\n",
              "        vertical-align: middle;\n",
              "    }\n",
              "\n",
              "    .dataframe tbody tr th {\n",
              "        vertical-align: top;\n",
              "    }\n",
              "\n",
              "    .dataframe thead th {\n",
              "        text-align: right;\n",
              "    }\n",
              "</style>\n",
              "<table border=\"1\" class=\"dataframe\">\n",
              "  <thead>\n",
              "    <tr style=\"text-align: right;\">\n",
              "      <th></th>\n",
              "      <th>review</th>\n",
              "      <th>sentiment</th>\n",
              "    </tr>\n",
              "  </thead>\n",
              "  <tbody>\n",
              "    <tr>\n",
              "      <th>0</th>\n",
              "      <td>One of the other reviewers has mentioned that ...</td>\n",
              "      <td>positive</td>\n",
              "    </tr>\n",
              "    <tr>\n",
              "      <th>1</th>\n",
              "      <td>A wonderful little production. &lt;br /&gt;&lt;br /&gt;The...</td>\n",
              "      <td>positive</td>\n",
              "    </tr>\n",
              "    <tr>\n",
              "      <th>2</th>\n",
              "      <td>I thought this was a wonderful way to spend ti...</td>\n",
              "      <td>positive</td>\n",
              "    </tr>\n",
              "    <tr>\n",
              "      <th>3</th>\n",
              "      <td>Basically there's a family where a little boy ...</td>\n",
              "      <td>negative</td>\n",
              "    </tr>\n",
              "    <tr>\n",
              "      <th>4</th>\n",
              "      <td>Petter Mattei's \"Love in the Time of Money\" is...</td>\n",
              "      <td>positive</td>\n",
              "    </tr>\n",
              "  </tbody>\n",
              "</table>\n",
              "</div>\n",
              "    <div class=\"colab-df-buttons\">\n",
              "\n",
              "  <div class=\"colab-df-container\">\n",
              "    <button class=\"colab-df-convert\" onclick=\"convertToInteractive('df-ea54dc0f-da9a-48ef-8d5d-b82ea752af82')\"\n",
              "            title=\"Convert this dataframe to an interactive table.\"\n",
              "            style=\"display:none;\">\n",
              "\n",
              "  <svg xmlns=\"http://www.w3.org/2000/svg\" height=\"24px\" viewBox=\"0 -960 960 960\">\n",
              "    <path d=\"M120-120v-720h720v720H120Zm60-500h600v-160H180v160Zm220 220h160v-160H400v160Zm0 220h160v-160H400v160ZM180-400h160v-160H180v160Zm440 0h160v-160H620v160ZM180-180h160v-160H180v160Zm440 0h160v-160H620v160Z\"/>\n",
              "  </svg>\n",
              "    </button>\n",
              "\n",
              "  <style>\n",
              "    .colab-df-container {\n",
              "      display:flex;\n",
              "      gap: 12px;\n",
              "    }\n",
              "\n",
              "    .colab-df-convert {\n",
              "      background-color: #E8F0FE;\n",
              "      border: none;\n",
              "      border-radius: 50%;\n",
              "      cursor: pointer;\n",
              "      display: none;\n",
              "      fill: #1967D2;\n",
              "      height: 32px;\n",
              "      padding: 0 0 0 0;\n",
              "      width: 32px;\n",
              "    }\n",
              "\n",
              "    .colab-df-convert:hover {\n",
              "      background-color: #E2EBFA;\n",
              "      box-shadow: 0px 1px 2px rgba(60, 64, 67, 0.3), 0px 1px 3px 1px rgba(60, 64, 67, 0.15);\n",
              "      fill: #174EA6;\n",
              "    }\n",
              "\n",
              "    .colab-df-buttons div {\n",
              "      margin-bottom: 4px;\n",
              "    }\n",
              "\n",
              "    [theme=dark] .colab-df-convert {\n",
              "      background-color: #3B4455;\n",
              "      fill: #D2E3FC;\n",
              "    }\n",
              "\n",
              "    [theme=dark] .colab-df-convert:hover {\n",
              "      background-color: #434B5C;\n",
              "      box-shadow: 0px 1px 3px 1px rgba(0, 0, 0, 0.15);\n",
              "      filter: drop-shadow(0px 1px 2px rgba(0, 0, 0, 0.3));\n",
              "      fill: #FFFFFF;\n",
              "    }\n",
              "  </style>\n",
              "\n",
              "    <script>\n",
              "      const buttonEl =\n",
              "        document.querySelector('#df-ea54dc0f-da9a-48ef-8d5d-b82ea752af82 button.colab-df-convert');\n",
              "      buttonEl.style.display =\n",
              "        google.colab.kernel.accessAllowed ? 'block' : 'none';\n",
              "\n",
              "      async function convertToInteractive(key) {\n",
              "        const element = document.querySelector('#df-ea54dc0f-da9a-48ef-8d5d-b82ea752af82');\n",
              "        const dataTable =\n",
              "          await google.colab.kernel.invokeFunction('convertToInteractive',\n",
              "                                                    [key], {});\n",
              "        if (!dataTable) return;\n",
              "\n",
              "        const docLinkHtml = 'Like what you see? Visit the ' +\n",
              "          '<a target=\"_blank\" href=https://colab.research.google.com/notebooks/data_table.ipynb>data table notebook</a>'\n",
              "          + ' to learn more about interactive tables.';\n",
              "        element.innerHTML = '';\n",
              "        dataTable['output_type'] = 'display_data';\n",
              "        await google.colab.output.renderOutput(dataTable, element);\n",
              "        const docLink = document.createElement('div');\n",
              "        docLink.innerHTML = docLinkHtml;\n",
              "        element.appendChild(docLink);\n",
              "      }\n",
              "    </script>\n",
              "  </div>\n",
              "\n",
              "\n",
              "<div id=\"df-208ac158-1c87-4cef-a327-bd57493db4e8\">\n",
              "  <button class=\"colab-df-quickchart\" onclick=\"quickchart('df-208ac158-1c87-4cef-a327-bd57493db4e8')\"\n",
              "            title=\"Suggest charts\"\n",
              "            style=\"display:none;\">\n",
              "\n",
              "<svg xmlns=\"http://www.w3.org/2000/svg\" height=\"24px\"viewBox=\"0 0 24 24\"\n",
              "     width=\"24px\">\n",
              "    <g>\n",
              "        <path d=\"M19 3H5c-1.1 0-2 .9-2 2v14c0 1.1.9 2 2 2h14c1.1 0 2-.9 2-2V5c0-1.1-.9-2-2-2zM9 17H7v-7h2v7zm4 0h-2V7h2v10zm4 0h-2v-4h2v4z\"/>\n",
              "    </g>\n",
              "</svg>\n",
              "  </button>\n",
              "\n",
              "<style>\n",
              "  .colab-df-quickchart {\n",
              "      --bg-color: #E8F0FE;\n",
              "      --fill-color: #1967D2;\n",
              "      --hover-bg-color: #E2EBFA;\n",
              "      --hover-fill-color: #174EA6;\n",
              "      --disabled-fill-color: #AAA;\n",
              "      --disabled-bg-color: #DDD;\n",
              "  }\n",
              "\n",
              "  [theme=dark] .colab-df-quickchart {\n",
              "      --bg-color: #3B4455;\n",
              "      --fill-color: #D2E3FC;\n",
              "      --hover-bg-color: #434B5C;\n",
              "      --hover-fill-color: #FFFFFF;\n",
              "      --disabled-bg-color: #3B4455;\n",
              "      --disabled-fill-color: #666;\n",
              "  }\n",
              "\n",
              "  .colab-df-quickchart {\n",
              "    background-color: var(--bg-color);\n",
              "    border: none;\n",
              "    border-radius: 50%;\n",
              "    cursor: pointer;\n",
              "    display: none;\n",
              "    fill: var(--fill-color);\n",
              "    height: 32px;\n",
              "    padding: 0;\n",
              "    width: 32px;\n",
              "  }\n",
              "\n",
              "  .colab-df-quickchart:hover {\n",
              "    background-color: var(--hover-bg-color);\n",
              "    box-shadow: 0 1px 2px rgba(60, 64, 67, 0.3), 0 1px 3px 1px rgba(60, 64, 67, 0.15);\n",
              "    fill: var(--button-hover-fill-color);\n",
              "  }\n",
              "\n",
              "  .colab-df-quickchart-complete:disabled,\n",
              "  .colab-df-quickchart-complete:disabled:hover {\n",
              "    background-color: var(--disabled-bg-color);\n",
              "    fill: var(--disabled-fill-color);\n",
              "    box-shadow: none;\n",
              "  }\n",
              "\n",
              "  .colab-df-spinner {\n",
              "    border: 2px solid var(--fill-color);\n",
              "    border-color: transparent;\n",
              "    border-bottom-color: var(--fill-color);\n",
              "    animation:\n",
              "      spin 1s steps(1) infinite;\n",
              "  }\n",
              "\n",
              "  @keyframes spin {\n",
              "    0% {\n",
              "      border-color: transparent;\n",
              "      border-bottom-color: var(--fill-color);\n",
              "      border-left-color: var(--fill-color);\n",
              "    }\n",
              "    20% {\n",
              "      border-color: transparent;\n",
              "      border-left-color: var(--fill-color);\n",
              "      border-top-color: var(--fill-color);\n",
              "    }\n",
              "    30% {\n",
              "      border-color: transparent;\n",
              "      border-left-color: var(--fill-color);\n",
              "      border-top-color: var(--fill-color);\n",
              "      border-right-color: var(--fill-color);\n",
              "    }\n",
              "    40% {\n",
              "      border-color: transparent;\n",
              "      border-right-color: var(--fill-color);\n",
              "      border-top-color: var(--fill-color);\n",
              "    }\n",
              "    60% {\n",
              "      border-color: transparent;\n",
              "      border-right-color: var(--fill-color);\n",
              "    }\n",
              "    80% {\n",
              "      border-color: transparent;\n",
              "      border-right-color: var(--fill-color);\n",
              "      border-bottom-color: var(--fill-color);\n",
              "    }\n",
              "    90% {\n",
              "      border-color: transparent;\n",
              "      border-bottom-color: var(--fill-color);\n",
              "    }\n",
              "  }\n",
              "</style>\n",
              "\n",
              "  <script>\n",
              "    async function quickchart(key) {\n",
              "      const quickchartButtonEl =\n",
              "        document.querySelector('#' + key + ' button');\n",
              "      quickchartButtonEl.disabled = true;  // To prevent multiple clicks.\n",
              "      quickchartButtonEl.classList.add('colab-df-spinner');\n",
              "      try {\n",
              "        const charts = await google.colab.kernel.invokeFunction(\n",
              "            'suggestCharts', [key], {});\n",
              "      } catch (error) {\n",
              "        console.error('Error during call to suggestCharts:', error);\n",
              "      }\n",
              "      quickchartButtonEl.classList.remove('colab-df-spinner');\n",
              "      quickchartButtonEl.classList.add('colab-df-quickchart-complete');\n",
              "    }\n",
              "    (() => {\n",
              "      let quickchartButtonEl =\n",
              "        document.querySelector('#df-208ac158-1c87-4cef-a327-bd57493db4e8 button');\n",
              "      quickchartButtonEl.style.display =\n",
              "        google.colab.kernel.accessAllowed ? 'block' : 'none';\n",
              "    })();\n",
              "  </script>\n",
              "</div>\n",
              "\n",
              "    </div>\n",
              "  </div>\n"
            ]
          },
          "metadata": {},
          "execution_count": 25
        }
      ],
      "source": [
        "movie_reviews.head(5)"
      ]
    },
    {
      "cell_type": "code",
      "execution_count": null,
      "metadata": {
        "colab": {
          "base_uri": "https://localhost:8080/"
        },
        "id": "CRIDYlo4O8Va",
        "outputId": "1efbad9e-0db9-438b-e847-7445daebc2e1"
      },
      "outputs": [
        {
          "output_type": "execute_result",
          "data": {
            "text/plain": [
              "False"
            ]
          },
          "metadata": {},
          "execution_count": 26
        }
      ],
      "source": [
        "# Checking for missing values\n",
        "\n",
        "movie_reviews.isnull().values.any()"
      ]
    },
    {
      "cell_type": "code",
      "execution_count": null,
      "metadata": {
        "colab": {
          "base_uri": "https://localhost:8080/",
          "height": 466
        },
        "id": "ys4A3cAFPSYI",
        "outputId": "31b530f2-f189-4f98-a9ba-0fe5ba3c11c9"
      },
      "outputs": [
        {
          "output_type": "execute_result",
          "data": {
            "text/plain": [
              "<Axes: xlabel='sentiment', ylabel='count'>"
            ]
          },
          "metadata": {},
          "execution_count": 27
        },
        {
          "output_type": "display_data",
          "data": {
            "text/plain": [
              "<Figure size 640x480 with 1 Axes>"
            ],
            "image/png": "[encoded data removed]"
          },
          "metadata": {}
        }
      ],
      "source": [
        "# Let's observe distribution of positive / negative sentiments in dataset\n",
        "\n",
        "import seaborn as sns\n",
        "sns.countplot(x='sentiment', data=movie_reviews)"
      ]
    },
    {
      "cell_type": "markdown",
      "metadata": {
        "id": "IAVIsg26PVZC"
      },
      "source": [
        "## Data Preprocessing"
      ]
    },
    {
      "cell_type": "code",
      "execution_count": null,
      "metadata": {
        "colab": {
          "base_uri": "https://localhost:8080/",
          "height": 140
        },
        "id": "PJ6a6aKjPORv",
        "outputId": "55474444-0637-47be-c444-21f172937e1c"
      },
      "outputs": [
        {
          "output_type": "execute_result",
          "data": {
            "text/plain": [
              "'I thought this was a wonderful way to spend time on a too hot summer weekend, sitting in the air conditioned theater and watching a light-hearted comedy. The plot is simplistic, but the dialogue is witty and the characters are likable (even the well bread suspected serial killer). While some may be disappointed when they realize this is not Match Point 2: Risk Addiction, I thought it was proof that Woody Allen is still fully in control of the style many of us have grown to love.<br /><br />This was the most I\\'d laughed at one of Woody\\'s comedies in years (dare I say a decade?). While I\\'ve never been impressed with Scarlet Johanson, in this she managed to tone down her \"sexy\" image and jumped right into a average, but spirited young woman.<br /><br />This may not be the crown jewel of his career, but it was wittier than \"Devil Wears Prada\" and more interesting than \"Superman\" a great comedy to go see with friends.'"
            ],
            "application/vnd.google.colaboratory.intrinsic+json": {
              "type": "string"
            }
          },
          "metadata": {},
          "execution_count": 28
        }
      ],
      "source": [
        "movie_reviews[\"review\"][2]\n",
        "\n",
        "# You can see that our text contains punctuations, brackets, HTML tags and numbers\n",
        "# We will preprocess this text in the next section"
      ]
    },
    {
      "cell_type": "code",
      "source": [
        "movie_reviews_2=movie_reviews.sample(100,random_state=100,ignore_index=True)"
      ],
      "metadata": {
        "id": "ynNscxdWyZRu"
      },
      "execution_count": null,
      "outputs": []
    },
    {
      "cell_type": "code",
      "source": [
        "movie_reviews_2[\"review\"][2]"
      ],
      "metadata": {
        "colab": {
          "base_uri": "https://localhost:8080/",
          "height": 140
        },
        "id": "2pQ5du91yzI9",
        "outputId": "2583d6c7-bcbf-4fc4-958b-6b308e17c1d3"
      },
      "execution_count": null,
      "outputs": [
        {
          "output_type": "execute_result",
          "data": {
            "text/plain": [
              "'It\\'s strange what fate does to some people. While looking in the discount bin at a DVD retailer, I came across a copy of Deadly Instincts. Being a collector of any film that is either sci-fi, horror or featuring alien monsters, I decided to buy it (not to mention the fact that it cost five dollars \\x96 a bargain, believe me). After viewing it, I came to the opinion that it was nothing special. But after doing some research on the Internet, I discovered that the film was actually called Breeders & was a remake of the Tim Kincaid horror flick that menaced video stores in the mid-1980s. Which I\\'ve already seen. My appreciation of \"Deadly Instincts\" grew following that discovery.<br /><br />A meteorite crashes on the lawn next to a private girls\\' college. The sole teacher there, Ashley (played by Todd Jensen \\x96 that\\'s right, the guy who gets turned into a cyborg in the cult flick CYBORG COP four years earlier), notices that some of the students are beginning to disappear, while encountering a black-haired woman with a scarred face & wearing a kinky leather outfit. His investigation reveals that an alien creature had hitched a ride on the meteorite & had come to Earth to breed using the local womenfolk. Along with a local detective who believes him to be responsible for the disappearances, Ashley tries to stop the monster.<br /><br />The original BREEDERS, directed by Tim Kincaid (who would leave the genre to make gay porn), was a sci-fi / horror film which was actually a thinly-veiled soft-core porn film designed to take skin flicks to genre fans. It is, in my belief, one of the worst films made in the 1980s. Why anyone would want to remake it is quite a mystery.<br /><br />This remake is actually a better effort than its low-budget source. The film, which takes the basic concept of an alien monster trying to interbreed with human women, eliminates any pornographic elements. In fact, the film is actually very tame. There are no sex scenes, no nudity (even during the shower scene), swearing & violence are kept to a minimal level & there is no gore (which may cheat gorehounds). This makes the remake a film safe for the whole family, that is if the kids aren\\'t scared by alien monsters (which brings me to the film\\'s M 15+ rating, which seems a bit much).<br /><br />Tameness of subject matter aside, the film does have some faults. The script, while featuring some good characterizations, has a number of holes so big you can crash a meteor through.<br /><br />What? You\\'re mad at me for that? Come on, this review needed a bad pun so it will remain interesting.<br /><br />Anyway, the film\\'s setting is one problem the script failed to fix \\x96 the film is set in Boston but the buildings don\\'t look like they belong in Boston. Something about the architecture ain\\'t right. Another thing is the college itself, with a rather large building housing about twenty students (all female, of course) & only having one class \\x96 art. The only teacher there has a relationship with a student (& so does the janitor!), which somehow escapes the attention of the principal. Not to mention the cops, who are so one-dimensional (& stupid) that the real Boston PD would have a good case if they ever decided to sue. Oh, & the meteor\\x85 well the chance that a meteor which is sent from Saturn (check the opening credits) reaches Earth with no onboard propulsion is astronomical. That doesn\\'t include the chances that any passengers in the meteor will survive the landing.<br /><br />As far as the acting goes, Todd Jensen gives a dependable performance as the heroic teacher while the late Kadamba Simmons (who was murdered by her boyfriend shortly before the film came out) cuts a striking figure in that leather outfit, as well as proving she can act. The visual effects are run-of-the-mill, with credits due to the filmmakers for bringing us a cool-looking monster.'"
            ],
            "application/vnd.google.colaboratory.intrinsic+json": {
              "type": "string"
            }
          },
          "metadata": {},
          "execution_count": 11
        }
      ]
    },
    {
      "cell_type": "code",
      "source": [
        "# TAG_RE=re.compile(r'<[^>]+>')\n",
        "# def remove_tags(text):\n",
        "#   \"\"\"Remove HTML tags .Remove anything between opening and closing <> with empty space\"\"\"\n",
        "#   return TAG_RE.sub('',text)"
      ],
      "metadata": {
        "id": "C_NGIZN8ub5F"
      },
      "execution_count": null,
      "outputs": []
    },
    {
      "cell_type": "code",
      "execution_count": null,
      "metadata": {
        "id": "D3GyEDf7DwFz",
        "colab": {
          "base_uri": "https://localhost:8080/"
        },
        "outputId": "508c7e53-5a0f-47f0-a228-a5243c69066b"
      },
      "outputs": [
        {
          "output_type": "stream",
          "name": "stderr",
          "text": [
            "[nltk_data] Downloading package stopwords to /root/nltk_data...\n",
            "[nltk_data]   Unzipping corpora/stopwords.zip.\n",
            "[nltk_data] Downloading package punkt to /root/nltk_data...\n",
            "[nltk_data]   Unzipping tokenizers/punkt.zip.\n"
          ]
        }
      ],
      "source": [
        "import nltk\n",
        "nltk.download('stopwords')\n",
        "nltk.download('punkt')\n",
        "from nltk.tokenize import word_tokenize"
      ]
    },
    {
      "cell_type": "code",
      "source": [
        "import string"
      ],
      "metadata": {
        "id": "nANmuF1Zw6p5"
      },
      "execution_count": null,
      "outputs": []
    },
    {
      "cell_type": "code",
      "source": [
        "#Let us create tokens from the data, free of punctuations and numbers,spaces and any special charcatres\n",
        "#Let us define the function for cleaning the data\n",
        "\n",
        "def clean_data(text):\n",
        "  tokens=text.split()\n",
        "  #tokens = word_tokenize(text)\n",
        "  table=str.maketrans('','',string.punctuation)  #creating a translation table to replace all punctutaions !\"#$%&'()*+,-./:;<=>?@[\\]^_`{|}~ with ''\n",
        "  tokens=[w.translate(table) for w in tokens]   #Applying table translate on every element in list\n",
        "  tokens=[w for w in tokens if w.isalpha()]     #creating the tokens only if word is alphabetic\n",
        "  tokens=[w.lower() for w in tokens]            #converting all tokens to lowercase\n",
        "  filtered_tokens = [word for word in tokens if word not in stopwords.words('english')]\n",
        "\n",
        "  return ' '.join(filtered_tokens)"
      ],
      "metadata": {
        "id": "bDGI7hrEw03x"
      },
      "execution_count": null,
      "outputs": []
    },
    {
      "cell_type": "code",
      "execution_count": null,
      "metadata": {
        "id": "QBuD9E20PZDb"
      },
      "outputs": [],
      "source": [
        "# def preprocess_text(sen):\n",
        "#     '''Cleans text data up, leaving only 2 or more char long non-stepwords composed of A-Z & a-z only\n",
        "#      in lowercase'''\n",
        "\n",
        "#     sentence = sen.lower()\n",
        "\n",
        "#     #Remove html tags\n",
        "#     sentence = remove_tags(sentence)\n",
        "\n",
        "#     #Remove punctuations and numbers\n",
        "#      sentence = re.sub('[^a-zA-Z]', ' ', sentence)\n",
        "\n",
        "#     Single character removal\n",
        "#      sentence = re.sub(r\"\\s+[a-zA-Z]\\s+\", ' ', sentence)  # When we remove apostrophe from the word \"Mark's\", the apostrophe is replaced by an empty space. Hence, we are left with single character \"s\" that we are removing here.\n",
        "\n",
        "#    Remove multiple spaces\n",
        "#     sentence = re.sub(r'\\s+', ' ', sentence)  # Next, we remove all the single characters and replace it by a space which creates multiple spaces in our text. Finally, we remove the multiple spaces from our text as well.\n",
        "\n",
        "#     Remove Stopwords\n",
        "#      pattern = re.compile(r'\\b(' + r'|'.join(stopwords.words('english')) + r')\\b\\s*')\n",
        "#      sentence = pattern.sub('', sentence)\n",
        "\n",
        "#      return sentence"
      ]
    },
    {
      "cell_type": "code",
      "execution_count": null,
      "metadata": {
        "id": "GPSBPltpQDPp"
      },
      "outputs": [],
      "source": [
        "# Calling preprocessing_text function on movie_reviews\n",
        "\n",
        "X = []\n",
        "sentences = list(movie_reviews_2['review'])\n",
        "for sen in sentences:\n",
        "    X.append(clean_data(sen))"
      ]
    },
    {
      "cell_type": "code",
      "execution_count": null,
      "metadata": {
        "id": "CAzPtyfz7t_I",
        "outputId": "a5d2bb03-4cbd-45c6-f06f-6e47df22fb37",
        "colab": {
          "base_uri": "https://localhost:8080/",
          "height": 88
        }
      },
      "outputs": [
        {
          "output_type": "execute_result",
          "data": {
            "text/plain": [
              "'rented dvd two reasons cast great actors director even though robert altman hit miss case big miss altmans attempt creating suspense fell keester seeing kenneth branagh good film like dead didnt think could possibly contribute turkey hope didnt ruin reputation robert duvall seems fallen way onetime oscar winners downward spiral includes acting eatingmoney films one duvall great actor excellent films even though best performance tender mercies great santini movie truly big waste time give'"
            ],
            "application/vnd.google.colaboratory.intrinsic+json": {
              "type": "string"
            }
          },
          "metadata": {},
          "execution_count": 26
        }
      ],
      "source": [
        "# Sample cleaned up movie review\n",
        "\n",
        "X[5]\n"
      ]
    },
    {
      "cell_type": "code",
      "source": [
        "print(movie_reviews_2[\"review\"][5])\n",
        "print(X[5])"
      ],
      "metadata": {
        "colab": {
          "base_uri": "https://localhost:8080/"
        },
        "id": "ncngQ2q7bZEL",
        "outputId": "808bd6a1-79b4-4ed7-e4b3-ca0cc27a6a7a"
      },
      "execution_count": null,
      "outputs": [
        {
          "output_type": "stream",
          "name": "stdout",
          "text": [
            "I rented this DVD for two reasons. A cast of great actors, and the director, even though Robert Altman can be hit or miss. In this case, it was a big miss. Altman's attempt at creating suspense fell on its keester. After seeing Kenneth Branagh in a good film like \"Dead Again\", I didn't think he could possibly contribute to such a turkey, and I hope it didn't ruin his reputation. Robert Duvall seems to have fallen the way of most one-time Oscar winners. On a downward spiral that includes acting in eating-money films such as this one. Duvall was once a great actor in excellent films, even though his best performance was not \"Tender Mercies\", but \"The Great Santini\". This movie was truly a big waste of time. I give it a 2 out of 10.\n",
            "rented dvd two reasons cast great actors director even though robert altman hit miss case big miss altmans attempt creating suspense fell keester seeing kenneth branagh good film like dead didnt think could possibly contribute turkey hope didnt ruin reputation robert duvall seems fallen way onetime oscar winners downward spiral includes acting eatingmoney films one duvall great actor excellent films even though best performance tender mercies great santini movie truly big waste time give\n"
          ]
        }
      ]
    },
    {
      "cell_type": "code",
      "source": [
        "import pandas as pd\n",
        "import numpy as np\n",
        "sample_data=pd.DataFrame({\"stmnt\":[\"Archana good girl!\",\"Tom bad boy:(\",\"Archana is awesome:)\",\"Tom stinks\",\"Movie was great!\"],\"feels\":[\"good\",\"bad\",\"good\",\"bad\",\"good\"]})"
      ],
      "metadata": {
        "id": "_5VJTUus9N1w"
      },
      "execution_count": null,
      "outputs": []
    },
    {
      "cell_type": "code",
      "source": [
        "X=sample_data[\"stmnt\"].values"
      ],
      "metadata": {
        "id": "ES0vghHl-j3G"
      },
      "execution_count": null,
      "outputs": []
    },
    {
      "cell_type": "code",
      "source": [
        "X"
      ],
      "metadata": {
        "colab": {
          "base_uri": "https://localhost:8080/"
        },
        "id": "OZN_LtWC-kFG",
        "outputId": "cd14f48b-ec61-4fbc-fa59-4a4c56c450e7"
      },
      "execution_count": null,
      "outputs": [
        {
          "output_type": "execute_result",
          "data": {
            "text/plain": [
              "array(['Archana good girl', 'Tom bad boy', 'Archana awesome',\n",
              "       'Tom stinks', 'Movie was awesome'], dtype=object)"
            ]
          },
          "metadata": {},
          "execution_count": 4
        }
      ]
    },
    {
      "cell_type": "code",
      "source": [
        "def clean_data_dummy(text):\n",
        "  tokens=text.split()\n",
        "  tokens1=word_tokenize(text)"
      ],
      "metadata": {
        "id": "SNIoZ6zQ-kI3"
      },
      "execution_count": null,
      "outputs": []
    },
    {
      "cell_type": "code",
      "source": [],
      "metadata": {
        "id": "SOwo9FqH-kMA"
      },
      "execution_count": null,
      "outputs": []
    },
    {
      "cell_type": "code",
      "source": [],
      "metadata": {
        "id": "qq57zHlU-kO0"
      },
      "execution_count": null,
      "outputs": []
    },
    {
      "cell_type": "code",
      "source": [],
      "metadata": {
        "id": "8X1ICF-_-kRp"
      },
      "execution_count": null,
      "outputs": []
    },
    {
      "cell_type": "code",
      "source": [],
      "metadata": {
        "id": "eRbaAVJ7-k1B"
      },
      "execution_count": null,
      "outputs": []
    },
    {
      "cell_type": "code",
      "source": [],
      "metadata": {
        "id": "11B4hyj1-k4H"
      },
      "execution_count": null,
      "outputs": []
    },
    {
      "cell_type": "code",
      "source": [],
      "metadata": {
        "id": "3xTxkyzr-k66"
      },
      "execution_count": null,
      "outputs": []
    },
    {
      "cell_type": "code",
      "execution_count": null,
      "metadata": {
        "id": "-EKC4DJTQKsB"
      },
      "outputs": [],
      "source": [
        "# Converting sentiment labels to 0 & 1\n",
        "\n",
        "y = movie_reviews_2['sentiment']\n",
        "\n",
        "y = np.array(list(map(lambda x: 1 if x==\"positive\" else 0, y)))"
      ]
    },
    {
      "cell_type": "code",
      "execution_count": null,
      "metadata": {
        "id": "UZPyxSQVQPT_"
      },
      "outputs": [],
      "source": [
        "X_train, X_test, y_train, y_test = train_test_split(X, y, test_size=0.20, random_state=42)\n",
        "\n",
        "# The train set will be used to train our deep learning models\n",
        "# while test set will be used to evaluate how well our model performs"
      ]
    },
    {
      "cell_type": "code",
      "source": [
        "X_train"
      ],
      "metadata": {
        "colab": {
          "base_uri": "https://localhost:8080/"
        },
        "id": "gl3C0kBBl42l",
        "outputId": "1a35c121-fb0e-469d-9384-53f4dcb57c89"
      },
      "execution_count": null,
      "outputs": [
        {
          "output_type": "execute_result",
          "data": {
            "text/plain": [
              "['supposed funny one films doesnt work first one bruce almighty jim carey funny moments one nonebr br steve carrell brilliant bruce almighty fails deliver performance ordinary cant carry like carey didbr br one good thing paid rent movie childrenvery young children seen films short livesbr br interesting note jim carey stars film make sequel without usually huge turkey anyone remember son mask imdb worst films time avoid one movie lovers',\n",
              " 'otherwise excellent book lincoln american memory historian merrill peterson calls young mrlincoln boring dreadful film amazingly wrongheaded analysis simply proves great historians rarely fine film critics working doctoral dissertation abraham lincoln frederick douglass part preparation writing dissertation made careful analysis film tag gallaghers brilliant interpretation seminal book ford young mr lincoln comes culminating year first phase fords cinematic authorship greatest hollywood years ford directed three superb still fully appreciated films drums along mohawk stagecoachand young mrlincoln might seem odd say stagecoach fully appreciated purblind critics must perceive one greatest westerns perhaps even one hundred greatest films time however fully appreciated three films work together kind trilogya triptych fact ford creating sort mythic history america screen drums along mohawk revolutionary war young mrlincoln precivil war americafinally stagecoach post civil war america three films common extended meditation american adam errand wilderness psychic social costs american manifest destiny america strives build new human city wildernesslincoln symbolizes americas journey seeks reconcile civilizational inmpulse law freedom wildernessyoung mrlincoln history full historical howlersas ford trotti well aware myth lincoln symbol justice mercy lincoln man wilderness striving found civilization within become remarkable lawgiver young america young mr lincoln historylike james agees long forgotten teleplay lincoln like sandburgs biography epic poema beautiful epic poem',\n",
              " 'watch lot movies dvd features classics name night watched jericho mile wife ordered internet said remembered high school stayed years somewhat reluctantly sat daughter son riveted opening sequence end titles br br remembered original kids idea movie couldnt believe favorite scene bar none peter strauss passionately bangs fist says id didnt advocate violence defense crime evoked intensity couldnt believe itwhen fellow cell mates gave food support efforts wasnt dry eye housebr br someone please make movies like one unbelievable',\n",
              " 'originally tenacious fan first album naturally listened tracks pod rather disappointed watching movie view changed movie pretty funny beginning end found self engaged even though really stupid storyline attitudes kg jaybles portray movie br br much entertaining enjoyable movies seen theaters lately ex saw iii dull dragging casino royale way homoerotic prior installments really enjoyed br br enjoyed borat enjoy tale greatest band earth',\n",
              " 'husband rented video store thinking suspense never reads synopsisbr br well would funny thing watchable simply isnt thing intrigue find leading man leading man michael des barres even feasibly goodlooking especially role given also sexual harassment work something want see rent michael crichtons disclosure least michael douglas looked good early br br alexandra paul usually watchable plays embarrassing scene also lighting effects cheaper home web cam dont even waste time renting',\n",
              " 'note saw approximately last half movie feel free take review whatever grain salt deem appropriate said seeing saw enough make quite convinced onestar rating enoughbr br short dismalplot slaughter wonderful precursor nl christmas vacation chevy chase doesnt chevy chase takes place generic tropical island essentially connection christmas allbr br ol chevy probably didnt want plot devoid actual fun instead got screwy cousin eddie great original top extremely poor basis movie considering plot acting attempts humor generic degree even contemporary television comedy trumps considering supposed comedy doubt need say morebr br seen qualities none failings hollywood spilling lifes blood past pursuit quick buckbr br think ill watch original upcoming christmas season try regain childhood innocence lost time motion pictures highbudget mindless garbage',\n",
              " 'yeah well definitely regrets giving saturday night watching strange little yet long movie apparently neither main character stealing two hours life heres epitome antihero regrets jerk messed wandering selfish aimless unlikable extremely hard get past attraction highly favored businessmans upandcoming son jaemin unless physical attraction claims otherwise love watching like loving charles manson dig beard alright hes bad still real redeemable characteristics could never get past reason jaemin endless stalks sumin never shown told jaemin loves sumin perhaps culture thing flew head crazystalking mad love seoul little half movie one stalking last part stalking back forth point thought turning screwball comedy waiting tiger named baby make appearance okay sumin works two jobs going school far good someone trying better first taste stalkers attraction gives day job kind prostitution ring ok well previously mentioned obsession doesnt stop due jobcareer change throw bunch angry characters get one messed movie unbelievable occurrences seem happen without buildup basic movie terrible better foreign gaythemed movies',\n",
              " 'need show people nobody likes high school university man woman people objectifying others congratulating exactly opposite intelligent thinking show disgusting exactly thatbr br four men sit chairs watch two guys try pick women sex end one two wins greatjust fn great im also supposed accept four douche bags judges peoples game term game got moronic thing come modern english since term bling bling added fact men called experts makes want throw whats left respect modern culture god damn role models result mtv culture coming bite us ass enjoy bullshit spilling sides monstrosity probably think paris hilton britany spears talent true ashamed thinking sobr br people say would like better got laid im jealous go screw obvious real girl certainly wont',\n",
              " 'joins endless line corny predictable scifi shlock usual pretty bad isnt much plot could detect overexaggeration leads adds unintentional laughs title misleading also catching probably way viewed better left way',\n",
              " 'watching movie brings several words mind sophomoric ridiculous improbable selfindulgent finally fatally boring badly directed badly photographed badly acted film confusing mess plot lines one call veering directions someone may used fiveyear olds finger painting template punishment childish crime movie cast stars spanked soundly sent respective beds without dinner seems like george needed excuse get together little buddies paid summer vacation suckers paying bad george bad',\n",
              " 'really like show disappointed learn recently george lopez racist fired masiela lusha show simply discovered wasnt latino emigrant emigrant albania learned people show really one better parts show thus learn even among would think would sensitive racism also hate someone country born really disappointing really like show disappointed learn recently george lopez racist fired masiela lusha show simply discovered wasnt latino emigrant emigrant albania learned people show really one better parts show thus learn even among would think would sensitive racism also hate someone country born really disappointing',\n",
              " 'avoided seeing movie cinema buying dvd wife xmas watch expect much usually means get bargained mamma mia utter utter cr like abba like songs old lps film terrible stage show looks like bit musical races along songs hurriedly following one another characterisation dance numbers heavily choreographed according extras dvd thrown away half bodies ever screen dance chorus north europeans appear small greek island set set numbers would disgraced cliff richards musicals sixtiesmeryl see im actingstreep cant even make usual mugging effective overthetop musical grand piece winner takes meryl met note director shot stillness camera gradually showing distance growing streep brosnan singing awful karaoke amateur night camera cannot stop moving like bad mtv one never settle enjoy music enthusiasm characters even worse botched piece excre become highest grossing film uk best selling dvd boot blair campbell new labour really reduced uk zombies critical faculties anyone',\n",
              " 'decent overrated dramatic thriller film attempts depict spiraling outofcontrol inner demons tormented artist problem single relationship illustrated screen believable plausibility appears thrown window title character difficult relate making rather impossible imagine screen characters emotionally invested either conclusion also fairly predictable certainly enough clues provided get go indicate exactly story headed choosing entirely suspend ones belief situations relationships film well acted especially leads manages create nice tension story unfolds metaphorical feature food thought script stronger theres certainly potential could put better use',\n",
              " 'bought movie cents kmart several years back along hawkens breed figuring anything gabriel byrne amanda donahoe surely worth much wasnt dark obsession title bought slight cut hawkens breed imbd rated enough allow even keep house threw movies trashbr br thing fails many levels hard narrow lets say tawdry incredible boring hedonistic confusing even minutes way longbr br love byrne actor schlock really looks bad resume',\n",
              " 'saw came theaters back remember already familiar elijah woods work thats right made stuff lord rings merchandising tieins film pretty abundant flipper water guns even circulatingbr br adults reminded old movies tv show nostalgias sake took kids see excited movie dolphin stupid boybr br unfortunately wasnt anyone expected flopped severely know movies trouble boy swims away hammerhead shark middle ocean pack dolphins scare shark away kid instead getting water boat floats water five minutes thanking dolphin saving apparently hasnt taken mind shark still perhaps even himbr br another problem paul hogan looks old crusty tired recycling croc dundee shtick one even remembered crocodile dundee much less hogan half expected suddenly start pretending didnt know hair dryer sake fishoutofwatersocialsatire laughsbr br really poor family movie amateurish almost hard watch times hated saw theaters back hate',\n",
              " 'rented dvd two reasons cast great actors director even though robert altman hit miss case big miss altmans attempt creating suspense fell keester seeing kenneth branagh good film like dead didnt think could possibly contribute turkey hope didnt ruin reputation robert duvall seems fallen way onetime oscar winners downward spiral includes acting eatingmoney films one duvall great actor excellent films even though best performance tender mercies great santini movie truly big waste time give',\n",
              " 'actually fairly surprised find movie based far cry game created story something would consider strong point game universe worries though typical boll fashion story movie little game based understand certain liberties need taken make transfer one form media another seems like really doesnt even try make connection acting action sequences corny almost makes feel like whole project one big joke said million times couldnt someone talented pick video game rights create movie',\n",
              " 'wife loved film smart dialogue great characters clever plot construction pacing film nonstop couldnt even get kitchen munchies never seen corey feldman funny taylor nichols plays good fedmy wife loves married man hbo show ensemble cast strong twist end us cheering give film standing',\n",
              " 'watch certainly reasons shouldnt watch superbly amusingly directed albert david maysles grey gardens originally intended film gentrification east hampton turned brothers would interesting produce study eccentric life two edith bouvier beales aunt cousin jacqueline kennedy onassis life certainly amusing one edith spent day bed singing operas edie performing pirouettes majorette dances many cats one named ted z kennedy film interesting funny sad edith died shortly film released february aged experiencing fame edie received film danced sang nightclub edie beale jr born still living miami beachthis film engaging spellbounding',\n",
              " 'oh bad clothing worse synth music worst david hasselhoff back vengeance witchery americanitalian coproduction helmed infamous joe damato production side shortcareered director thank heavens small miracles fabrizio laurenti directing marketed kind sequel sam raimis evil dead series italy dubbed la casa witchery delivers modest gore groceries bad actingbr br mix ghost story possessions witchcraft film bounces clueless scene another without letting seriously wooden actors hilarious day night mixups slow progress expectable ending topped serious wtf surprise climax love look face surprisingly laurenti manages gather suspense air malice scenes unluckily glimpses mild movie magic go quickly effectivelybr br plus sides experienced gore hits fan department quite effective entertaining classic latex red paint style italogore things made handmade shockingly vivid modest budgets could allow could watch sadistic glee laughters overthetop ways obnoxious characters actors got mangled misused one one felt sorry linda blair apparently havent let try good old possessed girl woman role ever career looks like checking filmographybr br well folks much tell even less tell home dont expect much spending rainy afternoon probably youll experience least mild fun also helps rotten little heart pounds beat euro gore horror speaking hearts every movie david hasselhoff getting skewered sizeable metal object bleeding heavily around room corridors must one right placebr br truth',\n",
              " 'bad get film commits fatal error making viewer care happens characters two women flick stupid begin root bad guys thing would endbr br film one bad turn another channel br br put highbrow language film lacks verisimilitude people even people ohio simply act like well maybe writers dobr br enough beer world make film bearablebr br',\n",
              " 'liked quite bit friends hated theres sex theres little nudity episodes good thing also keitaro toilet fixation thats explored least half episodes toilets way advanced japan hmm im wondering rated high certainly isnt like naked cartoon girls ways keitaro oe main character analogous johnny bravo except instead obnoxious musclebound jock keitaro hyperactive nerd think japans answer leisure suit larry hes easier take watch subtitled rather dubbed grows either way give chance goldenboy br br formula episode boy meets girl boy tries win girls heart despite dorky pervert boy somehow succeeds odds typically girl doesnt realize likes keitaro hes beaten pulp andor pulled spectacular stunt like engineering modern operating system one week winning race gasolinepowered motorcycle using bicyclebr br episode features rich software tycoon think animating boobs put major dent budget shes female kind animation also dresses completely unprofessionally people rate negatively probably never got past first episodebr br episode rich young daughter likes tease shes thats legal age japan states us might add father also brutal yakuzza type reputation killing guys interested daughter br br girl sweet innocent daughter noodle shop owner thats mixed bad boyfriend aside keitaro running interference maiden kissed guy theres almost ecchi kind episode sharp drop previous two nevertheless keitaro evil boyfriend really pound otherbr br episode keitaro trying impress topnotch swimming coach keitaro seems direct intentions particular girl shes pretty direct returnbr br girl biker babe shes probably topheavy although superbuoyant like girl raciest terms sexuality vulgarity particular episode easily overthetop terms lack realism keitaro broken every bone body least twice race biker babe think producers writers said cartoon anything lapse realism makes fan favoritebr br finally episode introduces new girl thats works animation previous girls help keitaro tries cope impossible time resource constraints get oav door deadline terms ecchi ones tame well theres plenty humor ending extremely pretty girls past team hunt keitaro slips away unnoticed ostensibly intention gangraping yeah almost happens real life someone crossed ukyo tachibana ala samurai shodown steve urkelala family mattersbr br theres middle ground youll either hate love youre new anime probably dont want start time stand characters like happosai ranma johnny bravo like comedies lean heavily towards silliness sexual overtones give shot',\n",
              " 'terrible psychological thriller almost painful sit every aspect awfulbr br combined talents top actors kevin bacon gary oldman totally wasted though give good performances one wonders bothered script mark kasdan complete mess martin campbell narrative jumping place youre unable follow take blessing far many pointless crazy scenes dont make sense jerry goldsmiths music much help eitherbr br even potential plot director campbells approach utterly ruined avoid costsbr br monday february video',\n",
              " 'great movie great man thomas kretschmann first rate moviesi would never envisioned pope john paul speaks volumes casting director keep casting german officer movies came universal attention pianist course looks hot uniforms know lot girls drool handsome face guy great actor great potentials dont believe go watch stalingrad hope get lot excellent roles future diversity otherwise heartbreaking waste great talent',\n",
              " 'cute playful lame cheap munchies another gremlins clone come im much fan imitationsbr br first excellent gremlinsbr br came average crittersbr br lets forget lousy ghouliesbr br complete pits would go hobgoblinsbr br br br munchies would fall somewhere ghoulies hobgoblins actually probably found entertaining ghoulies preferred thst ones darker tone br br getgo plays goofy nature better due nature hammy acting alix elias charlie phillips get rather overbearing rather see munchies running amok thats fun occurs mostly lighthearted fluff though story mainly centres munchies either hungry horny destructive whole bunch supposed comical encounters moments work small desert town couple people chase silly strangely engaging thanks zippy pacing creatures look rather bland poorly detailed theyre basic dolls chucked personalities arrived actually speak attitudebr br charlie stratton feisty nadine van der velde critters fair leads harvey korman acceptable two roles robert picardo also pops upbr br amusingly lowcut entertainment undemanding',\n",
              " 'movie rented free misconception bad movie rented thanksgiving eat turkey family watches awful movie ask makes movie bad gave stars dialog lack dialog makes movie perfect deaf audience fact rent turn volume zero pop heavy metal cd favorite artist know enjoy better plot holiday turkey encumbered tech geek speak need translator narrative people enjoy good scifi effects eh much better video game trailers cut scenes cases worse actors um much look either say nothing much entire movie many technical aspects make laugh like scene hero straps missile fires city away never showed landed scene see robotic sentry fire cannon feet away misses multiple shots also told political division antagonist protagonist biotech genetically enhanced humans vs cybertech machine enhanced humans seem cyborgs enhanced humans told bad movie rental store cover looked like video game cover art one copy good new releases many copies available',\n",
              " 'know youve read countless films doubt youre reading comments voodoo academy still stands absolute worst film ive able track doubt really bad ones arent even available buy watch tv even feel fair qualify im dumb renter picked badlybr br ive seen two thirds bottom ranked films imdb im ticking remaining ones every chance stand head shoulders excersize absolute monotonybr br like rate truly bad films ones humour even bad many people need watch make way watch isnt bad watch one single friend bad could lot worsebr br took us make way voodoo academy even usually fun moments watching bad films spotting boom mic example times one im mistaken could take away dry taste mouth yes id watched id also forced friends watch achieve endbr br hope pray saw directors cut think could version minutes big eyebrowed lugs baby oil glands rubbing torsos scares hell much film centers around thisbr br applaud david decoteau managing lens film two days short budget applaud convincing people pay make doubt celluloid version fetishes isnt good film original shop horrors shot length time comparitive amount money considering inflation utter gem excuse bad baby isbr br spoilers aheadbr br even worth picking apart plot holes cliched know hero characters pacing film insane nothing interesting length time decoteau dedicates pectoral self massaging matter alignment sex rubbing cannot sustain kind screen timebr br acting cheese overly amatuer ive seen lot worse better films somehow semi competent delivery worst lines youll ever hear film really gratesbr br rent like fascination worst worst youre going watch group people prepared work get ha ha ha set wobbled affair endurance test probably want skipbr br im sure worse wouldnt surprised decoteaus name',\n",
              " 'parent neither male able identify every characters heartaches painsbr br movie teenagers watch maybe way start appreciating value family im sorry dont understand value love family friendshipbr br interesting watch patrick duffy different role bobby ewing great see year old ben affleck giving best moving sincere performance showed early age capable heartfelt drama offered serious roles note hollywoodland first serious role years went best actor venice festival br movie appreciated people ages maybe shouldnt watched children might get scared may happen families recommend entire familybr br bought movie dvd watched friends many times portrays values important life',\n",
              " 'first let say watching movie felt like id sold bill goods mind movies fault imdb listen comedy first horror second although dont know thats enteredmaybe moron films crew put fan horrorcomedy genre checked based im sorry start first touch back beginning theres comedy movie tries twice never gets chuckle best reaction primarily rolling eyes wondering someone thought tired material would funny also theres horror second tension found think im exaggeratingi tension little blood much violence screen sorry horror flick cutting away good stuff starts major foul helltheres even zero nudity call purist juvenilei prefer horror flick cant come original plotpremise tired hell reality tv show gone wrong thing done lot better like wrong turn orummmwhatever movie called edward furlong thats bad movie dont even remember name movie better also enjoyed one comment claiming timing good reality tv taking someone past post time machine freaking kidding thing trashand fun way',\n",
              " 'film recommended friend lives california thought wonderful real way people ohio valley im area experienced film way people california think ive lived marietta parkersburg worked minimum wage jobs laughed lot bonded took breaks people age young people went together night older people little free time work taking care families area beautiful summer gloomier winter rain anywhere elsebr br aside live manufactured home must depressed condescension story lacked elements charm mystery even sense dreadbr br marthas character worst drawn doubtful anyone repressed would belonged church probably would made friends ive read reviews seem assume martha jealous rose rose younger prettier thinner case isnt shown actually see martha learning dislike rose reasons would apply much three friends age gender see martha feeling left smoking sessions left loop social plans made used appreciated finally disrespected hurtbr br one thing supposed suspect kyle murder panic attacks please takes stigma mental illness new level',\n",
              " 'movie supposedly based nonfiction book im sure book script writers read write adaptation absolutely nothing true life adventures frances mayes italy instead uninteresting tale takes liberties every juncture bash men note following examplesbr br br br spoiler detailsbr br br br bash number one lanes husband cheats marriage ends divorcebr br bash number two lane ventures local italian town promptly solicited every male streetbr br bash number three lane saved horny town folk men charming gentlemen falls consummating afternoon love making later finds hes already attached cheating herbr br bash number four broaden horizon one reference definitely movie lesbian couple friends decide baby invetro sp fertilization told lesbian relationships one person assuming female role another assuming male role movie female made pregnant male lesbian decides run relationship handle itbr br conclusion movie nothing book supposedly based',\n",
              " 'goes especially lawyers cops puerto ricowhich boasts smallbut potent film production firmbrings multi layered tale corruptiondue going drug cartel starts south americamakes pit stop island commonwealthand northbound north america steven bauerthe recognizable face screen hereleads cast top notch actorsin story spot respectable face crowd ricardo mendez matta moves directing mainly action adventure fare american televisionin screenplay written mattaalong poli marichal rest cast elpidia carrillomagda riverajose herredialuz maria randonto mention fewturn oh fine rolesin film keep wondering respectable characters spoken spanish english subtitles rated r mpaathis film contains outbursts vulgar languagebrief flashes nudityadult content violencesome quite lurid',\n",
              " 'know people think movie without even seen typical movie famous singer pink moviea teenage filmit stupid stuff like yes isi mean pink movie know whati loved seriouslyits romantic film think every girl world dreamed something like plot popstar met favorite singer know personand even romance himright really enjoyed watching addition really funny br br think actors great job theres lot loving charactersand aaron carter jd exception honest first five minutes see act thought awfulbut surprised really pleasinglybr br also gotta say music performances film great specially loved part jd aaron sings without music guitar beautiful songthis guy really talented time tellbr br advice youwatch dont make prejudice',\n",
              " 'saw film telluride film festival one screenwriters josé giovanni honored ranks highly great noircrimedrama incredible performances belmondo lino ventura attention given every character complex psychological portrayals detailing loyalty treachery love hope tremendous excellent drama excellent thriller excellent film best melville title english class risk french classe tous risques wordplay classe touriste meaning tourist class',\n",
              " 'like steven seagal clue movie easily lost movies idea whos sidebr br hopefully future movies little better wife still thinks looks good black jeans however p',\n",
              " 'salem devious childs lies slaves involvement witchcraft sends entire community uproar costume drama starring claudette colbert fred macmurray isnt stuffy though neither vivid depiction contagious hysteria worked three writers walter ferris durward grimstead bradley king story elements rather interesting especially coming hollywood though anyone since read arthur millers crucible hokedup melodrama display wont tolerated long biggest problem picture may lie casting colbert macmurray illmatched pair lovers hindered witchhunt macmurray far contemporary presence surroundings',\n",
              " 'watching ingmar bergmans skammen many feelings notably felt unsatisfied heard much hype movie came find lacking dont get wrong fully appreciate artistic value film far depth emotion impressed found characters disagreeable unrealistic detracted dramatic effect addition fact war fake led feel emotion real dramatic war movies opinion much effective events necessarily story really happened find movies try show brutality one falls middle far effectiveness',\n",
              " 'incomprehensible mess movie something cop extracts bullets gets shot keeps glass jar bathroom size jar hes shot fifty times top secret tank guarded five six incompetent soldiers reason drive mexico whether sent intentionally got really really lost never made clear youll never hear another screenplay feature word butthorn either gary busey tries mel gibson role lethal weapon busey serviceable actor screenplay damns whole movie mediocrity william smith another turn russian soldier character played red dawn years earlier playing biker heavies sort nice see expand range playing communist heavies sadly hell probably always remembered best guy clint eastwood whupped every way',\n",
              " 'really like kinski great actor ive seen movie ive heard autobiographic aspects moviebr br film full symbols like piano sinking river strange shadowpictures walls narrator always says abstract sentences like kid sells fortune box empty really disturbing wasnt really necessary everyone understands movie movie shows kinskis character treated woman kept control really aspects kinskis life story really swine need watch movie unless want see kinski naked like sick trash movies laugh',\n",
              " 'working way chilling classics movie pack collection witches mountain el monte de las brujasis something like movie setbr br movie nothing hold attention plot incoherent dialog seemed improvised acting poor characters unsympatheticbr br best scene beginning exasperated woman driven burning seemingly bratty daughter however connection scene rest movie lead character mario stupendous mustache ever thats itbr br film effective level music intrusive lighting dark scenes almost completely black really barely watchable say',\n",
              " 'film anthony hopkins debra winger rightly showered praise enjoyed much tv original good ways appropriately cast claire bloom isnt brash joy still confident throwing cap favourite author played joss ackland one best performancesbr br quieter calmer less emotional attenborough film may justice marvellous play full meaningful dialogue youll still cry version perhaps wont musical prompts set offbr br theres room seen stage would say acklandbloom one slightly faithful theyre excellent',\n",
              " 'film caught surprise friend told movie chick flick boy wrong movie great family appeal sex scenes like movies jake gyllenhaal excellent job homer hickams shoes supporting cast great wellbr br science comingofage family quarrels great train scene film soundtrack good although score presented quite choppily music kicks movie edge greatnessbr br dvd definitely worth weigh coal replay value great ive seen quite times already',\n",
              " 'nico mastorakiss banned movie quite disappointing opinion movie couple go greek island kill perverted people apparently know got something pretty sick one first scenes include guy sex goat killing offbr br things get worse point scenes pretty much look alike meet people either kill sex preferably bothbr br ending ok allright couple turn brother sister letting rot somewhere overall one would expected substance im afraidbr br',\n",
              " 'realize supposed bsg handle slowpaced shows theyre interesting find completely uninterested bored seriesbr br formula bsg seemed action adventure scifi suspense mystery dramabr br formula caprica seems bland drama moderate scifibr br maybe get interesting episode barely watch fact bottom towatch list week sad state affairs syfi channel really destroyed friday night lineup whatever happened glory days stargate atlantis bsg friday nights good thing',\n",
              " 'stranger jack matthew lillard arrives studio crook collector antiques max vincent donofrio tells ambitious companion specialist poisons jamie valeria golino jacks brother jamie buy story dominates jack ties chair max arrives jack proposes us one protect negotiation antiques spanish judges wealthy dangerous collector max invites stupid acquaintance piece mark boone junior comes retarded girlfriend believes mars compose backup team however jack doublecrosses collector intrigues jack jamie piecebr br low budget spanish judges movie reasonable screenplay awful conclusion wastes good cast valeria golino astonishingly beautiful together good actor vincent donofrio able save stupid story scenes supposed funny unfortunately work actually silly funny vote threebr br title brazil tudo por dinheiro money',\n",
              " 'seems passing strange utter dreck dukes hazzard hills eyes new version find dvd distributors older far superior works film nowhere found ongoing debate morality lack thereof warfare interest espionage consider multiple jack ryan bourne xxx mission impossible productions would seem obvious choice release dvd true looks like motion picture motion picture style consideration aside still production actually something valuable say plenty plots twists keep audience entertained nothing else somebody please consider getting soundtrack onto kind cd whether compilation morricone music standalone dont know industry people bother read fans say products reading comments please take us seriously paying lavish homes hardearned dollars spent tickets dvds cds give us want said reading seen film lobby release may see us seen talking disappointed',\n",
              " 'ive got say gary busey saved film fine acting talents film would sub par recommend film barelybr br biggest difficulty film broad disregard historical geographical physical accuracy example lubbock green hilly come buddys producer petty ignored daily trips clovis new mexico studio nashville treated racist hate camp destroy holly sound buddys two week courtship maria treated complex taboo race mixing stereotype buddys tile boxes light feathers finally crickets portrayed trouble making roadblocks hollys talentbr br taken face inaccuracies spell doom film proclaiming buddy holly story however busey deliver stirring portrayal man whose death eventually led day music died',\n",
              " 'id picked one time time rental store wondering give shot today broke gave whirl probably shouldnt havebr br writerdirector give film respectable effort fell far short engaging characters wanted feel didnt enough development depth get truly involved saras sexual outbursts got tiring fast dont mind sex films dont mind bitchy characters bad girl doesnt mean youre prone excitedly ask people random theyd like sexual favors time happened characters revealed bored ready fastforward climax end anything exciting nothing delivered things folks story eventually inform seems forced unrealistic wasnt played quite right theyd thrown bit anguish might interested suspensedrama film stuck title jon goods wife rather whole red right hand horror filmlike cover hell suspense periodbr br either way watch rainy day late night theres nothing television though isnt great id hoped would go infomercials',\n",
              " 'solve challenging problem need start asking right questions without even biggest library information useless movie movies guide thinking along story board film pulls emotions understanding justice whats permissible questions tug throughout challenging assumptions characters develop movie important relevant must see anybody stays informed current affairs fact highly entertaining includes slew movie stars improves execution advice watch serious crowd better yet unlike youd read editorial favorite news magazine case one difference answers',\n",
              " 'college student studying alevels need help comments anyone views theme mothers film mother whether gone something similar want comment help research film comment would much greatly appreciated comments used solely exam purposes included written exam views im sure put use could help get also studying boy tadpole seen films well would appreciate could leave comments page thank',\n",
              " 'movie italian job ok best good great actingbr br nice visuals pacing mediocre plot nothing bad enoughbr br walk car commercial new breed minibr br coopers film spectacularbr br spoilersbr br ok typical heist film odd twist underwater safe cracking nice improbable cast fairly solidbr br exception putrid wahlberg camebr br real stars picture three minibr br coopers highflying speedracing rampjumpingbr br bullettaking goldlugging shiny new glory audience wasbr br sitting amongst actually ooed aahed therons littlebr br red number first hit screen strangely enough neither norbr br wahlberg garnered reactionbr br film starts promising mos def seth green donaldbr br sutherland edward norton jason statham begin anbr br interesting humourous band characters realbr br uninspired performance usually good markbr br wahlberg claims best film cant imagine hisbr br character completely onenote plays blandly itbr br mr rogers came back dead inhabitingbr br body charlize fine sutherlands daughter thoughbr br nothing magical seth greens character perfect thebr br running napster jokes including cameo napster founderbr br shawn fanning hilarious mos defs earlybr br lines add much needed sparks humour unfortunatelybr br edward norton donald sutherland dont get near enoughbr br screen timebr br see plot coming mile away thebr br dialogue rife bad oneliners giveaways doubt thebr br filmmakers reinvent wheel taken abr br typical actionsuspense flick comes alright worth seeing onbr br cheap night id recommendbr br worth weight gold makes nice fillings',\n",
              " 'bad intentionally badbr br little gem shot straight onto big screen obvious movie isnt trying taken seriously hopefully goal anyway movie still plain bad hell makes leprechaun space look big budgetedbr br short paint muscle car prune colored',\n",
              " 'look page seems disapproving listen someone ramble rant real classic sure agree let everyone opinion heres minebr br movie missed classic horror watcher seen many casual viewers around world sure lost flair greatness age especially todays world cgi effects thats like itbr br like actually scary movie even todays standards overall ickyness creep much original audiences dont slam classic havent given chance watch critical attitude watch fun originally intended',\n",
              " 'first loved bruce broughtons music score lyrical alone added films charm best aspect movie three animals superlatively voiced michael jfox sally field late ameche whereas fox funniest lines ameche plays rather brooding otherwise engaging characterthe voice reason field adds wit character always seen telling chance humans werent engaging sometimes film dragged complaint one beautifullooking film beautiful close shots canada believe although film quite long never seriously dull moment advantaged voice work wellwritten script charming perhaps underrated film bethany cox',\n",
              " 'saw film sundance film festival surprised didnt generate notice powerful beautifully crafted original audience totally engaged greatest part seeing film like festival opportunity talk director cast qa session afterward literally throw us screening room next film could gone lot longer film thought provoking hilarious time shame film isnt picked wider distribution hope least become available dvd want see share everyone know',\n",
              " 'horror film criminally dull memorable gruesome bits cant compensate really poor script little coherence achieved movie relentlessly overplays one basic idea killer cat becomes repetitive things made even worse constant use shots cats pointofview',\n",
              " 'movie features best ensemble work ive seen film stage actors play skill vivacity way achieved editingbr br love jones good story period also excellent portrayal urban middleincome twentysomething africanamerican set often seen',\n",
              " 'playing theater amsterdam film wanted see soldout went knowing anything documentary planet happy misfortune powerful film life delicate balance share rest inhabitants earth film breathtaking photography ever seen film took places deserts oceans rain forests displayed things never seen film tv book earth film every student see become jaded encourage niece see film since inheriting planet leave also film see theater screen big television since photography powerful exotic',\n",
              " 'dripping symbolism filled marvelous cinematography extase much erotic drama weve come expect almost silent film dialogue german highly simplified german perhaps filmmakers intended film reach widest possible european audience anyone even little high school level deutsch easily dispense subtitles story little importance anyway film succeeding cinematic level narrative one symbols fecundity power nature overwhelm human charactersthere even scenes flowers obscure face supposed star hedy lamarrand moments remind viewers works dreyer vertov riefenstahl film message convey think political one bourgeois man timid impotent working class man happy productive creature woman creator destined unfulfilled borne child blend soviet socialist realism national socialist dogma doesnt overwhelm film meansits beauty watch beginning endbut place distinct artistic era oh yeah hedy get kit',\n",
              " 'based stephen king novel needful things provides intrigue eeriness keep seat mysterious manmax von sydow comes town soon becomes talked citizen could devil set shop antique dealer small town maine von sydow masterful dynamic role dominates screen also starring ed harris bonnie bedelia harris steady bedelia deserving attention also support jt walsh amanda plummer best worst adaptation kings horror screen',\n",
              " 'marvelously funny comedy great cast john ritter katey sagal perfectly cast parents kids great kaley cuoco good choice play bridget sort toneddown version kelly bundy married children writing performances firstratebr br sadly john ritter died series put damper things scramble change show bring cast members obviously uncomfortable situation handled well james garner good addition could lasted longer ritter livedbr br especially loved brought ed oneill guest spot greatbr br',\n",
              " 'hurt watch movie really wanted like even going shot obviously little cash looked past told appreciate inspiration unfortunately although appreciate film level acting editing terrible last minutes severe thumbtwiddling territory minute film drag ratings one good far fear friends family might say one transitions dear mr editor purchase first copy adobe premiere make main goal use goofy transitions come silly program anyway better actors little passion appealing editing makes decent movie',\n",
              " 'watched dvd program proper may minutes good information otherwise snotty putdowns religious people director brian flemming recently discovered atheism sarcasm feels tools easily bludgeon oppositionbr br also flemming wanders extensively personal issues take movie never gets back topicbr br religious people prone discount skeptics objections religion obviously rooted abusive upbringings arguments victimized people seem irrational therefore unconvincingbr br antireligious people want data dont need told religious people nutty american jews need told annoying christmas music gets middecemberbr br best scene superintendent flemings childhood christian school rather insightfully confronts director motivations seems like honest part movie shortbr br fleming bit selfaware might good story past current relationship christianity abusive institutions indoctrinated youthbr br perhaps could lend christ never walked earth material serious documentarian im studying writings saulpaul find airtight quick browse wikipedia suggests arguments discreditedbr br bonus interviews pretty good tho dont bolster flemings thesis much sam harris good spokesperson antireligious pov doesnt go light nonchristian religions harris also good easily googled interviews saloncom amazoncom samharrisorg',\n",
              " 'taped sundance idea miike film thought another kung fu moviebr br saw things like dancing sax player br br sounded like oriental gato barbieri knew miikebr br missed beginning opening credits wait till end closing credits see miikes creditsbr br far hasnt disappointed yet audition city lost souls ichi killer happiness katakuries good flicks ive found third trilogybr br miike todd solendz theres nobody making interesting films nowadays',\n",
              " 'well done whole movie grudge going around killing random people nowhere random people nothing story get killed like school girls examplebr br family beginning nothing story either believe random family never went house never anything killings grudgebr br impress scared didnt jump parts whole movie random piece crap get money makes gridge look like crap also actually alright moviebr br believe grudge like leading movie grudge ever make one shouldnt even called grudge called prologue grudge see watched going spoil anything would mattered anywaybr br scary bad story completely random',\n",
              " 'kay pollack man behind movie real great man tries share life philosophy different ways written bunch good well written books control senses keep soul happy message books movie thoughts fact causes problems reason anger hardly ever caused think main message choose happy hardly ever thatbr br watch movie learn something important life keep mind open l e n hidden messages guidelines get life parts movie contains listen watch watch earsbr br wont learn meaning life youll learn live get itbr br watching please keep mindbr br mind like parachute doesnt work unless open',\n",
              " 'leatherheads apt title however leather strap would useful selfflagellate oneself purchasing ticket watch noxious attempt entertainment clooneys attempt self deprecating humor comes across quiet thud demeanor implies anything perhaps another actor playing clooney role movie might marginally palatable sorry george doubt oscar nods time george clooney definitely fish water comes comedy unless referencing politics anyway ardent clooney fans enjoy watching leatherheads everyone else long days silent picture',\n",
              " 'strange fate people looking discount bin dvd retailer came across copy deadly instincts collector film either scifi horror featuring alien monsters decided buy mention fact cost five dollars bargain believe viewing came opinion nothing special research internet discovered film actually called breeders remake tim kincaid horror flick menaced video stores ive already seen appreciation deadly instincts grew following discoverybr br meteorite crashes lawn next private girls college sole teacher ashley played todd jensen thats right guy gets turned cyborg cult flick cyborg cop four years earlier notices students beginning disappear encountering blackhaired woman scarred face wearing kinky leather outfit investigation reveals alien creature hitched ride meteorite come earth breed using local womenfolk along local detective believes responsible disappearances ashley tries stop monsterbr br original breeders directed tim kincaid would leave genre make gay porn scifi horror film actually thinlyveiled softcore porn film designed take skin flicks genre fans belief one worst films made anyone would want remake quite mysterybr br remake actually better effort lowbudget source film takes basic concept alien monster trying interbreed human women eliminates pornographic elements fact film actually tame sex scenes nudity even shower scene swearing violence kept minimal level gore may cheat gorehounds makes remake film safe whole family kids arent scared alien monsters brings films rating seems bit muchbr br tameness subject matter aside film faults script featuring good characterizations number holes big crash meteor throughbr br youre mad come review needed bad pun remain interestingbr br anyway films setting one problem script failed fix film set boston buildings dont look like belong boston something architecture aint right another thing college rather large building housing twenty students female course one class art teacher relationship student janitor somehow escapes attention principal mention cops onedimensional stupid real boston pd would good case ever decided sue oh meteor well chance meteor sent saturn check opening credits reaches earth onboard propulsion astronomical doesnt include chances passengers meteor survive landingbr br far acting goes todd jensen gives dependable performance heroic teacher late kadamba simmons murdered boyfriend shortly film came cuts striking figure leather outfit well proving act visual effects runofthemill credits due filmmakers bringing us coollooking monster',\n",
              " 'minute rule sometimes ill leave leway movie good first minutes probably going ever get better yet experience movie proved contest theory dan real life definitely exception watching turkey thought wow funny touching sad dont like characters allbr br story advice columnistwidower raising three young daughters falls love brothers girlfriend suppose tagline would advice columnist could use advice dont know dans character way struck someone qualified give advice guess thats irony dont know goes see parents brothers sisters kids sort anual family retreat seems sweet potential fodder good comedy story linesnone ever emerge central story basically loves woman cant anyone pulse realise eventually get suffer painfully unfunny trite lifetime movie network dialogue murderer love get inevitable happy endingbr br truly one worst movies ive ever seen',\n",
              " 'cant believe people voted garbage gained access computer madhouse undoubtably kept special colony especially crass people secretly imprisoned dont know aboutbr br say really thought film none would get publishedbr br begin star talent idiot acts like bad impersonator jim carrey hoovered enough angel dust nose resurface sahara desert name total guarantee watch future film even plays rock hidden crowdbr br plot one crime chalk nazis awful considered fair game baddies tripe like mere criminals murderers would audience side tricebr br people made movie give making films confine making advertisements efforts least virtue fleeting durationbr br finally criticism imdb dont facility vote zero film perhaps express contempt tripe would vote double zero something',\n",
              " 'impenetrable rubbish one worst movies ever seen dialogue ghastly horror effects laughable thing kept watching eversplendid totally underrated michael cule',\n",
              " 'remember going drive inn parent sister grade still kid drive closed years later film still lingers memory adult movie kid finds entertaining mark excellence hoffman one hollywoods better actors film proves like billy put ice cream scene remember sctv version film factory remember joe flairty crying please email like sctv skit bad film story father son touching intertaining love part hoffman talks killroy streets change worth second watch',\n",
              " 'demonicus movie turned video game love story things goes filmit bfilm ofcourse doesnt bother one bit made right music rad horror sword fight freaksbuy movie',\n",
              " 'seen stupiddumb movie since quite absolutely logic horror doesnt scare suspense thrilling mean didnt find even one part movie appealingbr br dont know thinking made movie watch whole movie find plant walk around drag human dead bodies eat human flesh also talk ie imitate sounds like cellphone ringing human talking like plant makes noise cell phone ringing go cellphone find plant intelligent plant setup ambush br br clearly creativity level primary school kid bad',\n",
              " 'thought seen movie twice fact read reviews didnt quite match man three young students two girls boy go town study alleged bigfoot sightings still feel pretty confident movie saw despite discrepancies reviews therefore im putting review back like occasional b movie return boggy creek movie whether setting sleep timer nodding favorite moviebomb hanging friends boggy creek mute button youve got fun night improv look legend true think might find along notsostellar cast equipment malfunctions particularly key moments film blonde manly young hero chest hair exceptionally hightech technicolor last entire film youll watch find',\n",
              " 'visited lake elsinore gliderport flew yellow pratt read sailplane returning germany serious ran tv one segment high altitude sailplane flights california early real life pilot bill ivans dont know played series turned sailplane film nnumber one flown lake elsinore ever since saw segment searching wondering somewhere available segments serious baker ejection seat instrument find avalanche victims etc',\n",
              " 'without saying ended sufficient say whole thing degenerates five minutes end standard maintained throughout movie would worth sevenbr br one wonders way woman added cast well really premise good one situation victims find pretty terrifying rather well done get impression makers film lost interest towards end previous contributor said changed writers handed someone else',\n",
              " 'older sister born march cerebral palsy years life seen nothing walls house school also occupied disabled kids butt everyones jokes sister disabled still think day nobody ever give damn condition saw filmbr br knew christys family going lucky christy could talk could communicate artistic skills sister walk cant utter word cant use hands anything grab onto things film made realize people world like sister ending tell truth made cry ive seen shawshank film seriously underrated shouldnt movie tells people something people proud lives thinking cant write well guy wrote foot thinking youre attractive guy got turned lots girls condition fastest runner christy couldnt even stand upbr br point parents young children suggest children watch movie theyll know next time see someone street wheelchair dont stare like theyre aliens sister got millions stares breaks heart think still happening many people film teach people people might seem normal people',\n",
              " 'begins series thefts seemingly unrelated objects hostel students hickory road london concerned sister housekeeper miss lemon asks hercule poirot look matter agrees soon stakes get higher girl admitted responsible thefts found murderedbr br hickory dickory dock solid brain exercise without mindnumbingly complicated one two buckle shoe murder theft diamond smuggling crimes involved final twist ties everything together revealed last minutes characters interesting particularly psychology student colin mcnabb mysterious american girl sally finch inspector japp funny moments perhaps closest series come toilet humor miss lemon gets integral part story usual',\n",
              " 'vincent prices followup house wax film cemented reputation horror icon similarly revolves around bitter albeit resourceful showman though remake former shot technicolor remains superior effort said apart resistible comic relief obligatory resort cheap gimmickry another showcase occasional narrative shortcomings whatever happened missing bag supposedly turned police station containing severed head offers enough grand guignoltype thrills overall camp value price hamming variety disguises inventor illusions impersonating missing star conjurers taken advantage genius stand two feet incidentally director brahms involvement proves mere coincidence since narrative incorporates elements two horror titles starring laird cregar previously helmed ie lodger hangover square young leads played mary murphy prices ingénue assistant patrick oneal police detective boyfriend curiously enough would take lead similar piece chamber horrors acquired time serve encore one interesting sideline latters adoption novel detection technique fingerprinting crucial bringing prices downfall predictable rather awkward fiery climax though persistent snooping amateur crime novelist landlady least much long run watching star madetomeasure role film emerges good deal fun particularly compact minutes']"
            ]
          },
          "metadata": {},
          "execution_count": 35
        }
      ]
    },
    {
      "cell_type": "markdown",
      "metadata": {
        "id": "FsF3k9QbQc5q"
      },
      "source": [
        "## Preparing embedding layer"
      ]
    },
    {
      "cell_type": "markdown",
      "metadata": {
        "id": "hv27X0dUcurD"
      },
      "source": [
        "Let's now write the script for our embedding layer. Embedding layer converts our textual data into numeric form. It is then **used as the first layer for the deep learning models in Keras**."
      ]
    },
    {
      "cell_type": "code",
      "execution_count": null,
      "metadata": {
        "id": "kZ5kWzGKeAgc"
      },
      "outputs": [],
      "source": [
        "# Embedding layer expects the words to be in numeric form\n",
        "# Using Tokenizer function from keras.preprocessing.text library\n",
        "# Method fit_on_text trains the tokenizer\n",
        "# Method texts_to_sequences converts sentences to their numeric form\n",
        "\n",
        "word_tokenizer = Tokenizer()\n",
        "word_tokenizer.fit_on_texts(X_train)\n",
        "\n",
        "X_train = word_tokenizer.texts_to_sequences(X_train)\n",
        "X_test = word_tokenizer.texts_to_sequences(X_test)"
      ]
    },
    {
      "cell_type": "code",
      "execution_count": null,
      "metadata": {
        "id": "U5yLldqf7t_J"
      },
      "outputs": [],
      "source": [
        "import io\n",
        "import json"
      ]
    },
    {
      "cell_type": "code",
      "execution_count": null,
      "metadata": {
        "id": "6oaL62x87t_J"
      },
      "outputs": [],
      "source": [
        "# Saving\n",
        "tokenizer_json = word_tokenizer.to_json()\n",
        "with io.open('b3_tokenizer.json', 'w', encoding='utf-8') as f:\n",
        "    f.write(json.dumps(tokenizer_json, ensure_ascii=False))"
      ]
    },
    {
      "cell_type": "code",
      "execution_count": null,
      "metadata": {
        "colab": {
          "base_uri": "https://localhost:8080/"
        },
        "id": "vn-Rj21reKVm",
        "outputId": "1795dbed-2fe5-4c61-9e9e-2076fdd9191b"
      },
      "outputs": [
        {
          "output_type": "execute_result",
          "data": {
            "text/plain": [
              "3533"
            ]
          },
          "metadata": {},
          "execution_count": 39
        }
      ],
      "source": [
        "# Adding 1 to store dimensions for words for which no pretrained word embeddings exist\n",
        "\n",
        "vocab_length = len(word_tokenizer.word_index) + 1\n",
        "\n",
        "vocab_length"
      ]
    },
    {
      "cell_type": "code",
      "source": [
        "len(X_train)"
      ],
      "metadata": {
        "colab": {
          "base_uri": "https://localhost:8080/"
        },
        "id": "8tPKZnlUtKey",
        "outputId": "009719ca-9db1-40a1-b14c-6843471474a8"
      },
      "execution_count": null,
      "outputs": [
        {
          "output_type": "execute_result",
          "data": {
            "text/plain": [
              "80"
            ]
          },
          "metadata": {},
          "execution_count": 50
        }
      ]
    },
    {
      "cell_type": "code",
      "source": [
        "max_len=10\n",
        "for i in X_train:\n",
        "  if len(i)>max_len:\n",
        "    max_len=len(i)\n",
        "  else:\n",
        "   max_len=max_len\n",
        "print(max_len)\n",
        "\n"
      ],
      "metadata": {
        "colab": {
          "base_uri": "https://localhost:8080/"
        },
        "id": "WB-0A4e0q6Sq",
        "outputId": "559689e0-54dc-4a7f-884e-4bc3f4083924"
      },
      "execution_count": null,
      "outputs": [
        {
          "output_type": "stream",
          "name": "stdout",
          "text": [
            "364\n"
          ]
        }
      ]
    },
    {
      "cell_type": "code",
      "source": [
        "sequences = [[1, 2, 3], [4, 5], [6, 7, 8, 9],[1, 2, 3],[1, 2, 3],[1, 2, 3],[1, 2, 3]]\n",
        "\n",
        "# Pad sequences to a common length (default padding is 0)\n",
        "padded_sequences = pad_sequences(sequences, padding='post',maxlen=3)\n",
        "\n",
        "print(\"Original Sequences:\")\n",
        "print(sequences)\n",
        "print(\"\\nPadded Sequences:\")\n",
        "print(padded_sequences)"
      ],
      "metadata": {
        "colab": {
          "base_uri": "https://localhost:8080/"
        },
        "id": "x7YpHH2M-1Wc",
        "outputId": "fe2d51fd-d1e3-43b7-cc8b-3a19ebfbfcb0"
      },
      "execution_count": null,
      "outputs": [
        {
          "output_type": "stream",
          "name": "stdout",
          "text": [
            "Original Sequences:\n",
            "[[1, 2, 3], [4, 5], [6, 7, 8, 9], [1, 2, 3], [1, 2, 3], [1, 2, 3], [1, 2, 3]]\n",
            "\n",
            "Padded Sequences:\n",
            "[[1 2 3]\n",
            " [4 5 0]\n",
            " [7 8 9]\n",
            " [1 2 3]\n",
            " [1 2 3]\n",
            " [1 2 3]\n",
            " [1 2 3]]\n"
          ]
        }
      ]
    },
    {
      "cell_type": "code",
      "execution_count": null,
      "metadata": {
        "id": "9-QqBAR0hz22"
      },
      "outputs": [],
      "source": [
        "# Padding all reviews to fixed length 100\n",
        "\n",
        "maxlen = 100\n",
        "\n",
        "X_train = pad_sequences(X_train, padding='post', maxlen=maxlen)\n",
        "X_test = pad_sequences(X_test, padding='post', maxlen=maxlen)"
      ]
    },
    {
      "cell_type": "code",
      "execution_count": null,
      "metadata": {
        "id": "VH4uFszlRGPk"
      },
      "outputs": [],
      "source": [
        "# Load GloVe word embeddings and create an Embeddings Dictionary\n",
        "\n",
        "from numpy import asarray\n",
        "from numpy import zeros\n",
        "\n",
        "embeddings_dictionary = dict()\n",
        "glove_file = open('a2_glove.6B.100d.txt', encoding=\"utf8\")\n",
        "\n",
        "for line in glove_file:\n",
        "    records = line.split()\n",
        "    word = records[0]\n",
        "    vector_dimensions = asarray(records[1:], dtype='float32')\n",
        "    embeddings_dictionary [word] = vector_dimensions\n",
        "glove_file.close()"
      ]
    },
    {
      "cell_type": "code",
      "execution_count": null,
      "metadata": {
        "id": "ZN6SP61FSDZB"
      },
      "outputs": [],
      "source": [
        "# Create Embedding Matrix having 100 columns\n",
        "# Containing 100-dimensional GloVe word embeddings for all words in our corpus.\n",
        "\n",
        "embedding_matrix = zeros((vocab_length, 100))\n",
        "for word, index in word_tokenizer.word_index.items():\n",
        "    embedding_vector = embeddings_dictionary.get(word)\n",
        "    if embedding_vector is not None:\n",
        "        embedding_matrix[index] = embedding_vector"
      ]
    },
    {
      "cell_type": "code",
      "execution_count": null,
      "metadata": {
        "colab": {
          "base_uri": "https://localhost:8080/"
        },
        "id": "fjwFEeCmiAPo",
        "outputId": "2507711f-fcb8-4c89-f912-28512bdb476c"
      },
      "outputs": [
        {
          "data": {
            "text/plain": [
              "(92394, 100)"
            ]
          },
          "execution_count": 29,
          "metadata": {},
          "output_type": "execute_result"
        }
      ],
      "source": [
        "embedding_matrix.shape"
      ]
    },
    {
      "cell_type": "markdown",
      "metadata": {
        "id": "OW-AbfS3jNy_"
      },
      "source": [
        "# Model Training with:"
      ]
    },
    {
      "cell_type": "markdown",
      "metadata": {
        "id": "F_bNYrfoSIBj"
      },
      "source": [
        "## Simple Neural Network"
      ]
    },
    {
      "cell_type": "code",
      "execution_count": null,
      "metadata": {
        "id": "qf-U8d-WSFxk"
      },
      "outputs": [],
      "source": [
        "# Neural Network architecture\n",
        "\n",
        "snn_model = Sequential()\n",
        "embedding_layer = Embedding(vocab_length, 100, weights=[embedding_matrix], input_length=maxlen , trainable=False)\n",
        "\n",
        "snn_model.add(embedding_layer)\n",
        "\n",
        "snn_model.add(Flatten())\n",
        "snn_model.add(Dense(1, activation='sigmoid'))"
      ]
    },
    {
      "cell_type": "code",
      "execution_count": null,
      "metadata": {
        "colab": {
          "base_uri": "https://localhost:8080/"
        },
        "id": "JjUzsDS5SOrH",
        "outputId": "368baadd-5208-4dcc-c0d5-755645fb5061"
      },
      "outputs": [
        {
          "name": "stdout",
          "output_type": "stream",
          "text": [
            "Model: \"sequential\"\n",
            "_________________________________________________________________\n",
            " Layer (type)                Output Shape              Param #   \n",
            "=================================================================\n",
            " embedding (Embedding)       (None, 100, 100)          9239400   \n",
            "                                                                 \n",
            " flatten (Flatten)           (None, 10000)             0         \n",
            "                                                                 \n",
            " dense (Dense)               (None, 1)                 10001     \n",
            "                                                                 \n",
            "=================================================================\n",
            "Total params: 9,249,401\n",
            "Trainable params: 10,001\n",
            "Non-trainable params: 9,239,400\n",
            "_________________________________________________________________\n",
            "None\n"
          ]
        }
      ],
      "source": [
        "# Model compiling\n",
        "\n",
        "snn_model.compile(optimizer='adam', loss='binary_crossentropy', metrics=['acc'])\n",
        "\n",
        "print(snn_model.summary())"
      ]
    },
    {
      "cell_type": "code",
      "execution_count": null,
      "metadata": {
        "id": "c5EI_DGp7t_U",
        "outputId": "58e147e9-c5de-43df-86b2-df946d922ae4"
      },
      "outputs": [
        {
          "name": "stdout",
          "output_type": "stream",
          "text": [
            "Epoch 1/6\n",
            "250/250 [==============================] - 4s 10ms/step - loss: 0.5548 - acc: 0.7180 - val_loss: 0.5057 - val_acc: 0.7576\n",
            "Epoch 2/6\n",
            "250/250 [==============================] - 3s 13ms/step - loss: 0.4483 - acc: 0.7955 - val_loss: 0.4928 - val_acc: 0.7640\n",
            "Epoch 3/6\n",
            "250/250 [==============================] - 3s 13ms/step - loss: 0.4119 - acc: 0.8148 - val_loss: 0.4998 - val_acc: 0.7654\n",
            "Epoch 4/6\n",
            "250/250 [==============================] - 4s 15ms/step - loss: 0.3891 - acc: 0.8299 - val_loss: 0.5101 - val_acc: 0.7595\n",
            "Epoch 5/6\n",
            "250/250 [==============================] - 2s 7ms/step - loss: 0.3753 - acc: 0.8362 - val_loss: 0.5349 - val_acc: 0.7558\n",
            "Epoch 6/6\n",
            "250/250 [==============================] - 2s 8ms/step - loss: 0.3646 - acc: 0.8418 - val_loss: 0.5354 - val_acc: 0.7544\n"
          ]
        }
      ],
      "source": [
        "# Model training\n",
        "\n",
        "snn_model_history = snn_model.fit(X_train, y_train, batch_size=128, epochs=6, verbose=1, validation_split=0.2)"
      ]
    },
    {
      "cell_type": "code",
      "execution_count": null,
      "metadata": {
        "colab": {
          "base_uri": "https://localhost:8080/"
        },
        "id": "Fbjq_xjXSVIw",
        "outputId": "cf9c57de-d175-442e-ff1b-8844b1a4d4d1"
      },
      "outputs": [
        {
          "name": "stdout",
          "output_type": "stream",
          "text": [
            "Epoch 1/6\n",
            "250/250 [==============================] - 2s 6ms/step - loss: 0.5589 - acc: 0.7134 - val_loss: 0.5088 - val_acc: 0.7565\n",
            "Epoch 2/6\n",
            "250/250 [==============================] - 1s 6ms/step - loss: 0.4514 - acc: 0.7925 - val_loss: 0.5067 - val_acc: 0.7580\n",
            "Epoch 3/6\n",
            "250/250 [==============================] - 1s 5ms/step - loss: 0.4159 - acc: 0.8130 - val_loss: 0.5002 - val_acc: 0.7646\n",
            "Epoch 4/6\n",
            "250/250 [==============================] - 1s 5ms/step - loss: 0.3918 - acc: 0.8273 - val_loss: 0.5084 - val_acc: 0.7615\n",
            "Epoch 5/6\n",
            "250/250 [==============================] - 1s 6ms/step - loss: 0.3753 - acc: 0.8370 - val_loss: 0.5188 - val_acc: 0.7584\n",
            "Epoch 6/6\n",
            "250/250 [==============================] - 1s 6ms/step - loss: 0.3624 - acc: 0.8435 - val_loss: 0.5325 - val_acc: 0.7558\n"
          ]
        }
      ],
      "source": [
        "# # Model training\n",
        "\n",
        "# snn_model_history = snn_model.fit(X_train, y_train, batch_size=128, epochs=6, verbose=1, validation_split=0.2)"
      ]
    },
    {
      "cell_type": "code",
      "execution_count": null,
      "metadata": {
        "colab": {
          "base_uri": "https://localhost:8080/"
        },
        "id": "bLiriTfNSYcc",
        "outputId": "6b323f4b-1b0e-4fe5-da9f-7175a716e359"
      },
      "outputs": [
        {
          "name": "stdout",
          "output_type": "stream",
          "text": [
            "313/313 [==============================] - 2s 6ms/step - loss: 0.5696 - acc: 0.7461\n"
          ]
        }
      ],
      "source": [
        "# Predictions on the Test Set\n",
        "\n",
        "score = snn_model.evaluate(X_test, y_test, verbose=1)"
      ]
    },
    {
      "cell_type": "code",
      "execution_count": null,
      "metadata": {
        "colab": {
          "base_uri": "https://localhost:8080/"
        },
        "id": "CeFtXQ9MSaaN",
        "outputId": "753874f7-357b-4c0b-91ed-c944ebbe0efb"
      },
      "outputs": [
        {
          "name": "stdout",
          "output_type": "stream",
          "text": [
            "Test Score: 0.5695900917053223\n",
            "Test Accuracy: 0.7461000084877014\n"
          ]
        }
      ],
      "source": [
        "# Model Performance\n",
        "\n",
        "print(\"Test Score:\", score[0])\n",
        "print(\"Test Accuracy:\", score[1])"
      ]
    },
    {
      "cell_type": "code",
      "execution_count": null,
      "metadata": {
        "colab": {
          "base_uri": "https://localhost:8080/",
          "height": 573
        },
        "id": "r55HElqVSc5K",
        "outputId": "a52b5052-ea2b-4eef-a92a-9843f4a6c934"
      },
      "outputs": [
        {
          "data": {
            "image/png": "[encoded data removed]",
            "text/plain": [
              "<Figure size 432x288 with 1 Axes>"
            ]
          },
          "metadata": {
            "needs_background": "light"
          },
          "output_type": "display_data"
        },
        {
          "data": {
            "image/png": "[encoded data removed]",
            "text/plain": [
              "<Figure size 432x288 with 1 Axes>"
            ]
          },
          "metadata": {
            "needs_background": "light"
          },
          "output_type": "display_data"
        }
      ],
      "source": [
        "# Model Performance Charts\n",
        "\n",
        "import matplotlib.pyplot as plt\n",
        "\n",
        "plt.plot(snn_model_history.history['acc'])\n",
        "plt.plot(snn_model_history.history['val_acc'])\n",
        "\n",
        "plt.title('model accuracy')\n",
        "plt.ylabel('accuracy')\n",
        "plt.xlabel('epoch')\n",
        "plt.legend(['train','test'], loc='upper left')\n",
        "plt.show()\n",
        "\n",
        "plt.plot(snn_model_history.history['loss'])\n",
        "plt.plot(snn_model_history.history['val_loss'])\n",
        "\n",
        "plt.title('model loss')\n",
        "plt.ylabel('loss')\n",
        "plt.xlabel('epoch')\n",
        "plt.legend(['train','test'], loc='upper left')\n",
        "plt.show()"
      ]
    },
    {
      "cell_type": "markdown",
      "metadata": {
        "id": "HMulFBC4SfAY"
      },
      "source": [
        "## Convolutional Neural Network"
      ]
    },
    {
      "cell_type": "code",
      "execution_count": null,
      "metadata": {
        "id": "CzNlGNGGUhVx"
      },
      "outputs": [],
      "source": [
        "from keras.layers import Conv1D"
      ]
    },
    {
      "cell_type": "code",
      "execution_count": null,
      "metadata": {
        "id": "kbVF6c4ASgUs"
      },
      "outputs": [],
      "source": [
        "# Neural Network architecture\n",
        "\n",
        "cnn_model = Sequential()\n",
        "\n",
        "embedding_layer = Embedding(vocab_length, 100, weights=[embedding_matrix], input_length=maxlen , trainable=False)\n",
        "cnn_model.add(embedding_layer)\n",
        "\n",
        "cnn_model.add(Conv1D(128, 5, activation='relu'))\n",
        "cnn_model.add(GlobalMaxPooling1D())\n",
        "cnn_model.add(Dense(1, activation='sigmoid'))"
      ]
    },
    {
      "cell_type": "code",
      "execution_count": null,
      "metadata": {
        "colab": {
          "base_uri": "https://localhost:8080/"
        },
        "id": "XayF5sTqSlP_",
        "outputId": "cab2695e-891c-4af7-90ca-3353b6ae3016"
      },
      "outputs": [
        {
          "name": "stdout",
          "output_type": "stream",
          "text": [
            "Model: \"sequential_1\"\n",
            "_________________________________________________________________\n",
            " Layer (type)                Output Shape              Param #   \n",
            "=================================================================\n",
            " embedding_1 (Embedding)     (None, 100, 100)          9239400   \n",
            "                                                                 \n",
            " conv1d (Conv1D)             (None, 96, 128)           64128     \n",
            "                                                                 \n",
            " global_max_pooling1d (Globa  (None, 128)              0         \n",
            " lMaxPooling1D)                                                  \n",
            "                                                                 \n",
            " dense_1 (Dense)             (None, 1)                 129       \n",
            "                                                                 \n",
            "=================================================================\n",
            "Total params: 9,303,657\n",
            "Trainable params: 64,257\n",
            "Non-trainable params: 9,239,400\n",
            "_________________________________________________________________\n",
            "None\n"
          ]
        }
      ],
      "source": [
        "# Model compiling\n",
        "\n",
        "cnn_model.compile(optimizer='adam', loss='binary_crossentropy', metrics=['acc'])\n",
        "print(cnn_model.summary())"
      ]
    },
    {
      "cell_type": "code",
      "execution_count": null,
      "metadata": {
        "colab": {
          "base_uri": "https://localhost:8080/"
        },
        "id": "AaF5Rc6GSnDY",
        "outputId": "3b01a193-f9f6-452c-aa65-2fadd8f90df7"
      },
      "outputs": [
        {
          "name": "stdout",
          "output_type": "stream",
          "text": [
            "Epoch 1/6\n",
            "250/250 [==============================] - 27s 105ms/step - loss: 0.4672 - acc: 0.7751 - val_loss: 0.3811 - val_acc: 0.8301\n",
            "Epoch 2/6\n",
            "250/250 [==============================] - 23s 92ms/step - loss: 0.3370 - acc: 0.8546 - val_loss: 0.3480 - val_acc: 0.8480\n",
            "Epoch 3/6\n",
            "250/250 [==============================] - 23s 93ms/step - loss: 0.2814 - acc: 0.8874 - val_loss: 0.3426 - val_acc: 0.8481\n",
            "Epoch 4/6\n",
            "250/250 [==============================] - 23s 93ms/step - loss: 0.2364 - acc: 0.9126 - val_loss: 0.3339 - val_acc: 0.8512\n",
            "Epoch 5/6\n",
            "250/250 [==============================] - 23s 93ms/step - loss: 0.1946 - acc: 0.9353 - val_loss: 0.3325 - val_acc: 0.8530\n",
            "Epoch 6/6\n",
            "250/250 [==============================] - 23s 92ms/step - loss: 0.1596 - acc: 0.9536 - val_loss: 0.3386 - val_acc: 0.8528\n"
          ]
        }
      ],
      "source": [
        "# Model training\n",
        "\n",
        "cnn_model_history = cnn_model.fit(X_train, y_train, batch_size=128, epochs=6, verbose=1, validation_split=0.2)"
      ]
    },
    {
      "cell_type": "code",
      "execution_count": null,
      "metadata": {
        "colab": {
          "base_uri": "https://localhost:8080/"
        },
        "id": "fTqK3hr6VNUi",
        "outputId": "34bb869e-8209-4a1c-d8ba-1a5e699e9c11"
      },
      "outputs": [
        {
          "name": "stdout",
          "output_type": "stream",
          "text": [
            "313/313 [==============================] - 3s 11ms/step - loss: 0.3357 - acc: 0.8579\n"
          ]
        }
      ],
      "source": [
        "# Predictions on the Test Set\n",
        "\n",
        "score = cnn_model.evaluate(X_test, y_test, verbose=1)"
      ]
    },
    {
      "cell_type": "code",
      "execution_count": null,
      "metadata": {
        "colab": {
          "base_uri": "https://localhost:8080/"
        },
        "id": "bQhafHPmSvpG",
        "outputId": "a6f68212-361d-4d9c-e6ce-389a72a00672"
      },
      "outputs": [
        {
          "name": "stdout",
          "output_type": "stream",
          "text": [
            "Test Score: 0.3356787860393524\n",
            "Test Accuracy: 0.8579000234603882\n"
          ]
        }
      ],
      "source": [
        "# Model Performance\n",
        "\n",
        "print(\"Test Score:\", score[0])\n",
        "print(\"Test Accuracy:\", score[1])"
      ]
    },
    {
      "cell_type": "code",
      "execution_count": null,
      "metadata": {
        "colab": {
          "base_uri": "https://localhost:8080/",
          "height": 573
        },
        "id": "YLdZa9GNSyAy",
        "outputId": "738c6044-36be-497d-c91d-13f944e2247a"
      },
      "outputs": [
        {
          "data": {
            "image/png": "[encoded data removed]",
            "text/plain": [
              "<Figure size 432x288 with 1 Axes>"
            ]
          },
          "metadata": {
            "needs_background": "light"
          },
          "output_type": "display_data"
        },
        {
          "data": {
            "image/png": "[encoded data removed]",
            "text/plain": [
              "<Figure size 432x288 with 1 Axes>"
            ]
          },
          "metadata": {
            "needs_background": "light"
          },
          "output_type": "display_data"
        }
      ],
      "source": [
        "# Model Performance Charts\n",
        "\n",
        "import matplotlib.pyplot as plt\n",
        "\n",
        "plt.plot(cnn_model_history.history['acc'])\n",
        "plt.plot(cnn_model_history.history['val_acc'])\n",
        "\n",
        "plt.title('model accuracy')\n",
        "plt.ylabel('accuracy')\n",
        "plt.xlabel('epoch')\n",
        "plt.legend(['train','test'], loc = 'upper left')\n",
        "plt.show()\n",
        "\n",
        "plt.plot(cnn_model_history.history['loss'])\n",
        "plt.plot(cnn_model_history.history['val_loss'])\n",
        "\n",
        "plt.title('model loss')\n",
        "plt.ylabel('loss')\n",
        "plt.xlabel('epoch')\n",
        "plt.legend(['train','test'], loc = 'upper left')\n",
        "plt.show()"
      ]
    },
    {
      "cell_type": "markdown",
      "metadata": {
        "id": "2QTts_XPS1Wn"
      },
      "source": [
        "## Recurrent Neural Network (LSTM)"
      ]
    },
    {
      "cell_type": "code",
      "execution_count": null,
      "metadata": {
        "id": "1iLtWqoMVwU5"
      },
      "outputs": [],
      "source": [
        "from keras.layers import LSTM"
      ]
    },
    {
      "cell_type": "code",
      "execution_count": null,
      "metadata": {
        "id": "0ccqZ-8kS2el"
      },
      "outputs": [],
      "source": [
        "# Neural Network architecture\n",
        "\n",
        "lstm_model = Sequential()\n",
        "embedding_layer = Embedding(vocab_length, 100, weights=[embedding_matrix], input_length=maxlen , trainable=False)\n",
        "\n",
        "lstm_model.add(embedding_layer)\n",
        "lstm_model.add(LSTM(128))\n",
        "\n",
        "lstm_model.add(Dense(1, activation='sigmoid'))"
      ]
    },
    {
      "cell_type": "code",
      "execution_count": null,
      "metadata": {
        "colab": {
          "base_uri": "https://localhost:8080/"
        },
        "id": "Zk00Ss9HS68g",
        "outputId": "efcccbd5-f0b8-499a-c9e4-6c1318445699"
      },
      "outputs": [
        {
          "name": "stdout",
          "output_type": "stream",
          "text": [
            "Model: \"sequential_2\"\n",
            "_________________________________________________________________\n",
            " Layer (type)                Output Shape              Param #   \n",
            "=================================================================\n",
            " embedding_2 (Embedding)     (None, 100, 100)          9239400   \n",
            "                                                                 \n",
            " lstm (LSTM)                 (None, 128)               117248    \n",
            "                                                                 \n",
            " dense_2 (Dense)             (None, 1)                 129       \n",
            "                                                                 \n",
            "=================================================================\n",
            "Total params: 9,356,777\n",
            "Trainable params: 117,377\n",
            "Non-trainable params: 9,239,400\n",
            "_________________________________________________________________\n",
            "None\n"
          ]
        }
      ],
      "source": [
        "# Model compiling\n",
        "\n",
        "lstm_model.compile(optimizer='adam', loss='binary_crossentropy', metrics=['acc'])\n",
        "print(lstm_model.summary())"
      ]
    },
    {
      "cell_type": "code",
      "execution_count": null,
      "metadata": {
        "colab": {
          "base_uri": "https://localhost:8080/"
        },
        "id": "QMhhaZUaS9jF",
        "outputId": "e5053dcc-35a9-4a3e-92bb-3515795ee0c7"
      },
      "outputs": [
        {
          "name": "stdout",
          "output_type": "stream",
          "text": [
            "Epoch 1/6\n",
            "250/250 [==============================] - 82s 320ms/step - loss: 0.5498 - acc: 0.7266 - val_loss: 0.4619 - val_acc: 0.7909\n",
            "Epoch 2/6\n",
            "250/250 [==============================] - 79s 317ms/step - loss: 0.4309 - acc: 0.8056 - val_loss: 0.4138 - val_acc: 0.8207\n",
            "Epoch 3/6\n",
            "250/250 [==============================] - 80s 319ms/step - loss: 0.3883 - acc: 0.8302 - val_loss: 0.3593 - val_acc: 0.8457\n",
            "Epoch 4/6\n",
            "250/250 [==============================] - 80s 318ms/step - loss: 0.3506 - acc: 0.8489 - val_loss: 0.3402 - val_acc: 0.8564\n",
            "Epoch 5/6\n",
            "250/250 [==============================] - 79s 317ms/step - loss: 0.3259 - acc: 0.8621 - val_loss: 0.3239 - val_acc: 0.8585\n",
            "Epoch 6/6\n",
            "250/250 [==============================] - 79s 317ms/step - loss: 0.3067 - acc: 0.8712 - val_loss: 0.3148 - val_acc: 0.8670\n"
          ]
        }
      ],
      "source": [
        "# Model Training\n",
        "\n",
        "lstm_model_history = lstm_model.fit(X_train, y_train, batch_size=128, epochs=6, verbose=1, validation_split=0.2)"
      ]
    },
    {
      "cell_type": "code",
      "execution_count": null,
      "metadata": {
        "colab": {
          "base_uri": "https://localhost:8080/"
        },
        "id": "w7il9EjzlAaR",
        "outputId": "dba86dd6-0380-4a7e-c592-cd9815155ab4"
      },
      "outputs": [
        {
          "name": "stdout",
          "output_type": "stream",
          "text": [
            "313/313 [==============================] - 11s 34ms/step - loss: 0.3194 - acc: 0.8643\n"
          ]
        }
      ],
      "source": [
        "# Predictions on the Test Set\n",
        "\n",
        "score = lstm_model.evaluate(X_test, y_test, verbose=1)"
      ]
    },
    {
      "cell_type": "code",
      "execution_count": null,
      "metadata": {
        "colab": {
          "base_uri": "https://localhost:8080/"
        },
        "id": "6j71n54zS9mc",
        "outputId": "f5c2d7be-beb5-47cb-8c1b-7db2784c2f66"
      },
      "outputs": [
        {
          "name": "stdout",
          "output_type": "stream",
          "text": [
            "Test Score: 0.31936636567115784\n",
            "Test Accuracy: 0.864300012588501\n"
          ]
        }
      ],
      "source": [
        "# Model Performance\n",
        "\n",
        "print(\"Test Score:\", score[0])\n",
        "print(\"Test Accuracy:\", score[1])"
      ]
    },
    {
      "cell_type": "code",
      "execution_count": null,
      "metadata": {
        "colab": {
          "base_uri": "https://localhost:8080/",
          "height": 573
        },
        "id": "LiibO1EuS9qB",
        "outputId": "a7691b0a-4eba-42c2-f934-a74d8bde2c7d"
      },
      "outputs": [
        {
          "data": {
            "image/png": "[encoded data removed]",
            "text/plain": [
              "<Figure size 432x288 with 1 Axes>"
            ]
          },
          "metadata": {
            "needs_background": "light"
          },
          "output_type": "display_data"
        },
        {
          "data": {
            "image/png": "[encoded data removed]",
            "text/plain": [
              "<Figure size 432x288 with 1 Axes>"
            ]
          },
          "metadata": {
            "needs_background": "light"
          },
          "output_type": "display_data"
        }
      ],
      "source": [
        "# Model Performance Charts\n",
        "\n",
        "import matplotlib.pyplot as plt\n",
        "\n",
        "plt.plot(lstm_model_history.history['acc'])\n",
        "plt.plot(lstm_model_history.history['val_acc'])\n",
        "\n",
        "plt.title('model accuracy')\n",
        "plt.ylabel('accuracy')\n",
        "plt.xlabel('epoch')\n",
        "plt.legend(['train','test'], loc='upper left')\n",
        "plt.show()\n",
        "\n",
        "plt.plot(lstm_model_history.history['loss'])\n",
        "plt.plot(lstm_model_history.history['val_loss'])\n",
        "\n",
        "plt.title('model loss')\n",
        "plt.ylabel('loss')\n",
        "plt.xlabel('epoch')\n",
        "plt.legend(['train','test'], loc='upper left')\n",
        "plt.show()"
      ]
    },
    {
      "cell_type": "code",
      "execution_count": null,
      "metadata": {
        "id": "YwXAHNsnnSdw",
        "outputId": "40ced81d-f124-49f5-96fb-f6ddb53aad88"
      },
      "outputs": [
        {
          "ename": "NameError",
          "evalue": "name 'lstm_model' is not defined",
          "output_type": "error",
          "traceback": [
            "\u001b[1;31m---------------------------------------------------------------------------\u001b[0m",
            "\u001b[1;31mNameError\u001b[0m                                 Traceback (most recent call last)",
            "Input \u001b[1;32mIn [40]\u001b[0m, in \u001b[0;36m<cell line: 3>\u001b[1;34m()\u001b[0m\n\u001b[0;32m      1\u001b[0m \u001b[38;5;66;03m# Saving the model as a h5 file for possible use later\u001b[39;00m\n\u001b[1;32m----> 3\u001b[0m \u001b[43mlstm_model\u001b[49m\u001b[38;5;241m.\u001b[39msave(\u001b[38;5;124mf\u001b[39m\u001b[38;5;124m\"\u001b[39m\u001b[38;5;124m./c1_lstm_model_acc_\u001b[39m\u001b[38;5;132;01m{\u001b[39;00m\u001b[38;5;28mround\u001b[39m(score[\u001b[38;5;241m1\u001b[39m], \u001b[38;5;241m3\u001b[39m)\u001b[38;5;132;01m}\u001b[39;00m\u001b[38;5;124m.h5\u001b[39m\u001b[38;5;124m\"\u001b[39m, save_format\u001b[38;5;241m=\u001b[39m\u001b[38;5;124m'\u001b[39m\u001b[38;5;124mh5\u001b[39m\u001b[38;5;124m'\u001b[39m)\n",
            "\u001b[1;31mNameError\u001b[0m: name 'lstm_model' is not defined"
          ]
        }
      ],
      "source": [
        "# Saving the model as a h5 file for possible use later\n",
        "\n",
        "lstm_model.save(f\"./c1_lstm_model_acc_{round(score[1], 3)}.h5\", save_format='h5')"
      ]
    },
    {
      "cell_type": "markdown",
      "metadata": {
        "id": "CF77MN1uTHbG"
      },
      "source": [
        "# Making Predictions on Live IMDb data"
      ]
    },
    {
      "cell_type": "code",
      "execution_count": null,
      "metadata": {
        "colab": {
          "base_uri": "https://localhost:8080/"
        },
        "id": "0i2Qws60ogQY",
        "outputId": "84217dba-bcce-48b6-f481-92f315e59c4e"
      },
      "outputs": [
        {
          "data": {
            "text/plain": [
              "'C:\\\\Users\\\\Gopal\\\\OneDrive\\\\Desktop\\\\Skillcate\\\\Projects\\\\movie-sentiment-analysis-with-deep-neural-networks'"
            ]
          },
          "execution_count": 2,
          "metadata": {},
          "output_type": "execute_result"
        }
      ],
      "source": [
        "pwd # lists files in working directory"
      ]
    },
    {
      "cell_type": "code",
      "execution_count": null,
      "metadata": {
        "id": "4QV-OXuvtpLr",
        "outputId": "c9a16144-546b-4b0d-ba6f-4cdbc7e64d7d"
      },
      "outputs": [
        {
          "name": "stdout",
          "output_type": "stream",
          "text": [
            "Model: \"sequential_2\"\n",
            "_________________________________________________________________\n",
            " Layer (type)                Output Shape              Param #   \n",
            "=================================================================\n",
            " embedding_2 (Embedding)     (None, 100, 100)          9239400   \n",
            "                                                                 \n",
            " lstm (LSTM)                 (None, 128)               117248    \n",
            "                                                                 \n",
            " dense_2 (Dense)             (None, 1)                 129       \n",
            "                                                                 \n",
            "=================================================================\n",
            "Total params: 9,356,777\n",
            "Trainable params: 117,377\n",
            "Non-trainable params: 9,239,400\n",
            "_________________________________________________________________\n"
          ]
        }
      ],
      "source": [
        "# Load previously trained LSTM Model\n",
        "\n",
        "from keras.models import load_model\n",
        "\n",
        "model_path ='c1_lstm_model_acc_0.864.h5'\n",
        "pretrained_lstm_model = load_model(model_path)\n",
        "\n",
        "# summarize model.\n",
        "pretrained_lstm_model.summary()"
      ]
    },
    {
      "cell_type": "code",
      "execution_count": null,
      "metadata": {
        "colab": {
          "base_uri": "https://localhost:8080/",
          "height": 238
        },
        "id": "qZiniS4-guUR",
        "outputId": "3957e1b5-3ca7-4e58-c8ba-4385504762a3"
      },
      "outputs": [
        {
          "data": {
            "text/html": [
              "<div>\n",
              "<style scoped>\n",
              "    .dataframe tbody tr th:only-of-type {\n",
              "        vertical-align: middle;\n",
              "    }\n",
              "\n",
              "    .dataframe tbody tr th {\n",
              "        vertical-align: top;\n",
              "    }\n",
              "\n",
              "    .dataframe thead th {\n",
              "        text-align: right;\n",
              "    }\n",
              "</style>\n",
              "<table border=\"1\" class=\"dataframe\">\n",
              "  <thead>\n",
              "    <tr style=\"text-align: right;\">\n",
              "      <th></th>\n",
              "      <th>Unnamed: 0</th>\n",
              "      <th>Movie</th>\n",
              "      <th>Review Text</th>\n",
              "      <th>IMDb Rating</th>\n",
              "    </tr>\n",
              "  </thead>\n",
              "  <tbody>\n",
              "    <tr>\n",
              "      <th>0</th>\n",
              "      <td>0</td>\n",
              "      <td>Ex Machina</td>\n",
              "      <td>Intelligent Movie.\\nThis movie is obviously al...</td>\n",
              "      <td>9</td>\n",
              "    </tr>\n",
              "    <tr>\n",
              "      <th>1</th>\n",
              "      <td>1</td>\n",
              "      <td>Ex Machina</td>\n",
              "      <td>Extraordinary and thought-provoking.\\n'Ex mach...</td>\n",
              "      <td>10</td>\n",
              "    </tr>\n",
              "    <tr>\n",
              "      <th>2</th>\n",
              "      <td>2</td>\n",
              "      <td>Ex Machina</td>\n",
              "      <td>Poor story, only reasonable otherwise.\\nIf I h...</td>\n",
              "      <td>3</td>\n",
              "    </tr>\n",
              "    <tr>\n",
              "      <th>3</th>\n",
              "      <td>3</td>\n",
              "      <td>Ex Machina</td>\n",
              "      <td>Had Great Potential.\\nThis movie is one of the...</td>\n",
              "      <td>1</td>\n",
              "    </tr>\n",
              "    <tr>\n",
              "      <th>4</th>\n",
              "      <td>4</td>\n",
              "      <td>Eternals</td>\n",
              "      <td>Amazing visuals and philosophical concepts!\\n\\...</td>\n",
              "      <td>10</td>\n",
              "    </tr>\n",
              "    <tr>\n",
              "      <th>5</th>\n",
              "      <td>5</td>\n",
              "      <td>Eternals</td>\n",
              "      <td>Worst MCU film ever\\n\\nFollowing the events of...</td>\n",
              "      <td>3</td>\n",
              "    </tr>\n",
              "  </tbody>\n",
              "</table>\n",
              "</div>"
            ],
            "text/plain": [
              "   Unnamed: 0       Movie                                        Review Text  \\\n",
              "0           0  Ex Machina  Intelligent Movie.\\nThis movie is obviously al...   \n",
              "1           1  Ex Machina  Extraordinary and thought-provoking.\\n'Ex mach...   \n",
              "2           2  Ex Machina  Poor story, only reasonable otherwise.\\nIf I h...   \n",
              "3           3  Ex Machina  Had Great Potential.\\nThis movie is one of the...   \n",
              "4           4    Eternals  Amazing visuals and philosophical concepts!\\n\\...   \n",
              "5           5    Eternals  Worst MCU film ever\\n\\nFollowing the events of...   \n",
              "\n",
              "   IMDb Rating  \n",
              "0            9  \n",
              "1           10  \n",
              "2            3  \n",
              "3            1  \n",
              "4           10  \n",
              "5            3  "
            ]
          },
          "execution_count": 7,
          "metadata": {},
          "output_type": "execute_result"
        }
      ],
      "source": [
        "# Load sample IMDb reviews csv, having ~6 movie reviews, along with their IMDb rating\n",
        "\n",
        "sample_reviews = pd.read_csv(\"a3_IMDb_Unseen_Reviews.csv\")\n",
        "\n",
        "sample_reviews.head(6)"
      ]
    },
    {
      "cell_type": "code",
      "execution_count": null,
      "metadata": {
        "id": "aiXGG5k9VLVv"
      },
      "outputs": [],
      "source": [
        "# Preprocess review text with earlier defined preprocess_text function\n",
        "\n",
        "unseen_reviews = sample_reviews['Review Text']\n",
        "\n",
        "unseen_processed = []\n",
        "for review in unseen_reviews:\n",
        "  review = custom.preprocess_text(review)\n",
        "  unseen_processed.append(review)"
      ]
    },
    {
      "cell_type": "code",
      "execution_count": null,
      "metadata": {
        "id": "mO_E8Axa7t_a",
        "outputId": "6a314d14-5a76-45fd-8c5a-468584155a13"
      },
      "outputs": [
        {
          "data": {
            "text/plain": [
              "['intelligent movie movie obviously allegorical fascinating tale ai mainly manipulation power wanting action spectacular cgi movie aimed people like think rather passively wait entertained themes ai also surveillance excellent points data us collected phone companies search engine companies commercial operating systems makers plot seems simple extremely clever protagonist playing games trying stay one step ahead one another movie perfectly consistent internal logic plays perfectly go expecting much however see people satisfied movie sets brilliantly therefore give least recent movies getting movie succeeds another recent movie ai transcendence think called failed interesting failure third movie ai spanish movie called eva also brilliant eva moving movie philosophical movies perfect different ways ai name movie ava seems nod title spanish movie aside nice stars appeared ex machina eva casting great course several aspects movie unrealistic often absurd allegorical movie acceptable movie making points rather striving realism fairytale accurate portrayal ',\n",
              " 'extraordinary thought provoking ex machina surprisingly dense titles alex garland written perhaps excepting annihilation simple concept given definite narrative narrative pointedly explores nature thought perception broaching nature ramifications morality psychological thriller fundamental construction minute rendering alike intense feature genre name offhand much almost classify horror movie emphasizes plays dire uncertainty intent motivation reality way climax even leaves us somewhat ambiguous ending ordinary beginning captivating ending every point ex machina absolutely marvelous performance seen oscar isaac none nearly forceful portrayal nathan exhibiting outstanding nuance sharp personality realization man exceptionally intelligent exceptionally cruel conniving especially familiar domhnall gleeson irish actor demonstrates admirable range poise readily matching traits immediately notable costars said certainly count anyone else involved alicia vikander phenomenal ava showing careful exactness every motion expression befitting character impressing skills subtle ways love score composed ben salisbury geoff barrow lending pensive unease film building great crescendo precise appropriate moments sound design exquisite soft unobtrusive qualities denoting meticulous craft feature highly advanced status ava special effects read little bit production history informs substantial effort made ensure every element nathan creation visualized utmost possibility realism think endeavor paid handsomely characters written wonderfully complex dialogue deceptively garland scene writing impeccable deeply engrossing say nothing overall narrative delves heavy subject matter even aware acclaim feature garnered since release wholly sure expect sat watch got far exceeded anything imagined mostly stepping away significantly common story ideas populate sci fi films artificial intelligence garland screenplay analyzes consciousness depth completeness potency anticipated genre picture result terrifically engaging exhilarating factor sound performances excellent music ex machina firmly first rate slice science fiction call must see ',\n",
              " 'poor story reasonable otherwise realised alex garland would bothered watching remember reading book beach years ago thinking something nice time sure seen ex machina feeling story chosen simply appeal large audience rather manipulative unthinking unfeeling way normally write bad reviews anything preferring focus positive dislike felt write something put people wasting time assimilating nastiness case ex machina imagine garland wondering would next project googling ai quickly finding ai box experiment rather heart soul searching work would necessary produce anything original imagine quickly turning somebody else idea next big proposal present film studio unoriginal idea presented fairly pedestrian way lots images derived young person view sexuality made also wonder film rather prejudiced women reasonably paced found yawning lot quite would expect good thriller domhnall gleeson ok pretty good job ',\n",
              " 'great potential movie one countless come hollywood great potential however like many personalities hollywood sold soul cheap finish beautiful ideas movie could great however producers chose go cheap thriller effect instead exploring truly makes us human machine conceived written produced idiots soul waste time redeeming part movie dweeb gets sent sticks surprised smartphone tell signal producers writers piece crap obviously signal also ',\n",
              " 'amazing visuals philosophical concepts eternals visual masterpiece inner challenges eternals face great signifier mcu moving mature meaningful phase look deeper plot events significance appreciate detail put timeline spans thousands years low underwhelming ratings seem obviously place despite fact many people loved mcu couple buff guys sexualised women transition mcu going inevitable franchise supported generations quite frankly awesome besides stunning visuals deep undertones chloe zhao certainly packs enough fight scenes possibly needed eternal represents unique power connected source cosmic energy variability allows exhilarating fight scenes arguably interesting couple punches kicks stray flying weapon love stories quaint meaningful certainly take much run time overall new age maturity deeper concepts seen movie definitely something look forward phase ',\n",
              " 'worst mcu film ever following events avengers endgame unexpected tragedy forces eternals ancient aliens living earth secret thousands years shadows reunite mankind ancient enemy deviants film far worst mcu film watch massive insuylt comics jack kirby days gender swapping eternals bad story telling makes absolutely sense unlikeable characters little action ridicules changes mcu sum bad film completely ruined endgame goods music cgi arishen well bonus points voiced david kaye good movie makes captain marvel iron man look good ']"
            ]
          },
          "execution_count": 12,
          "metadata": {},
          "output_type": "execute_result"
        }
      ],
      "source": [
        "unseen_processed"
      ]
    },
    {
      "cell_type": "code",
      "execution_count": null,
      "metadata": {
        "id": "cpYLT4A27t_b"
      },
      "outputs": [],
      "source": [
        "from keras_preprocessing.text import tokenizer_from_json"
      ]
    },
    {
      "cell_type": "code",
      "execution_count": null,
      "metadata": {
        "id": "e1Z2mZS27t_b"
      },
      "outputs": [],
      "source": [
        "# Loading\n",
        "with open('b3_tokenizer.json') as f:\n",
        "    data = json.load(f)\n",
        "    loaded_tokenizer = tokenizer_from_json(data)"
      ]
    },
    {
      "cell_type": "code",
      "execution_count": null,
      "metadata": {
        "id": "A8Ln84UfVZhz"
      },
      "outputs": [],
      "source": [
        "# Tokenising instance with earlier trained tokeniser\n",
        "unseen_tokenized = loaded_tokenizer.texts_to_sequences(unseen_processed)"
      ]
    },
    {
      "cell_type": "code",
      "execution_count": null,
      "metadata": {
        "id": "NVNNfdjf7t_b",
        "outputId": "e52ea668-6ddd-40c5-de5b-3824b01c4668"
      },
      "outputs": [
        {
          "data": {
            "text/plain": [
              "[[925,\n",
              "  1,\n",
              "  1,\n",
              "  400,\n",
              "  14420,\n",
              "  1289,\n",
              "  627,\n",
              "  14035,\n",
              "  1266,\n",
              "  7357,\n",
              "  511,\n",
              "  1524,\n",
              "  97,\n",
              "  1863,\n",
              "  1370,\n",
              "  1,\n",
              "  3416,\n",
              "  16,\n",
              "  4,\n",
              "  25,\n",
              "  140,\n",
              "  20211,\n",
              "  716,\n",
              "  2161,\n",
              "  1270,\n",
              "  14035,\n",
              "  18,\n",
              "  12177,\n",
              "  199,\n",
              "  659,\n",
              "  9047,\n",
              "  76,\n",
              "  9587,\n",
              "  1378,\n",
              "  4780,\n",
              "  1464,\n",
              "  6932,\n",
              "  4780,\n",
              "  2013,\n",
              "  7929,\n",
              "  7741,\n",
              "  1034,\n",
              "  33,\n",
              "  83,\n",
              "  463,\n",
              "  435,\n",
              "  879,\n",
              "  1740,\n",
              "  282,\n",
              "  1469,\n",
              "  150,\n",
              "  626,\n",
              "  3,\n",
              "  1434,\n",
              "  1291,\n",
              "  3,\n",
              "  62,\n",
              "  1,\n",
              "  806,\n",
              "  4114,\n",
              "  5415,\n",
              "  1989,\n",
              "  191,\n",
              "  806,\n",
              "  51,\n",
              "  854,\n",
              "  13,\n",
              "  88,\n",
              "  11,\n",
              "  16,\n",
              "  4012,\n",
              "  1,\n",
              "  589,\n",
              "  1958,\n",
              "  1398,\n",
              "  93,\n",
              "  113,\n",
              "  1014,\n",
              "  24,\n",
              "  270,\n",
              "  1,\n",
              "  2759,\n",
              "  62,\n",
              "  1014,\n",
              "  1,\n",
              "  14035,\n",
              "  25602,\n",
              "  25,\n",
              "  315,\n",
              "  1064,\n",
              "  115,\n",
              "  1852,\n",
              "  736,\n",
              "  1,\n",
              "  14035,\n",
              "  1776,\n",
              "  1,\n",
              "  315,\n",
              "  3822,\n",
              "  18,\n",
              "  383,\n",
              "  3822,\n",
              "  569,\n",
              "  1,\n",
              "  4051,\n",
              "  24,\n",
              "  284,\n",
              "  164,\n",
              "  624,\n",
              "  14035,\n",
              "  261,\n",
              "  1,\n",
              "  12806,\n",
              "  83,\n",
              "  5440,\n",
              "  294,\n",
              "  1776,\n",
              "  1,\n",
              "  1011,\n",
              "  213,\n",
              "  278,\n",
              "  1374,\n",
              "  1040,\n",
              "  14943,\n",
              "  3822,\n",
              "  897,\n",
              "  17,\n",
              "  151,\n",
              "  312,\n",
              "  1264,\n",
              "  1,\n",
              "  1928,\n",
              "  285,\n",
              "  1602,\n",
              "  14420,\n",
              "  1,\n",
              "  3172,\n",
              "  1,\n",
              "  122,\n",
              "  659,\n",
              "  140,\n",
              "  13082,\n",
              "  1645,\n",
              "  10209,\n",
              "  1615,\n",
              "  937],\n",
              " [2273,\n",
              "  87,\n",
              "  2421,\n",
              "  1040,\n",
              "  14943,\n",
              "  1090,\n",
              "  10378,\n",
              "  2494,\n",
              "  1850,\n",
              "  5915,\n",
              "  281,\n",
              "  262,\n",
              "  23889,\n",
              "  22535,\n",
              "  463,\n",
              "  978,\n",
              "  238,\n",
              "  3479,\n",
              "  1189,\n",
              "  1189,\n",
              "  25409,\n",
              "  5280,\n",
              "  743,\n",
              "  87,\n",
              "  6325,\n",
              "  86112,\n",
              "  743,\n",
              "  17802,\n",
              "  3702,\n",
              "  1842,\n",
              "  556,\n",
              "  8178,\n",
              "  4576,\n",
              "  643,\n",
              "  7060,\n",
              "  3071,\n",
              "  1350,\n",
              "  636,\n",
              "  382,\n",
              "  261,\n",
              "  23467,\n",
              "  13,\n",
              "  108,\n",
              "  13083,\n",
              "  80,\n",
              "  1,\n",
              "  17003,\n",
              "  191,\n",
              "  3809,\n",
              "  10219,\n",
              "  3303,\n",
              "  3133,\n",
              "  491,\n",
              "  23,\n",
              "  1204,\n",
              "  7,\n",
              "  750,\n",
              "  76,\n",
              "  528,\n",
              "  5081,\n",
              "  154,\n",
              "  1698,\n",
              "  328,\n",
              "  3928,\n",
              "  154,\n",
              "  72,\n",
              "  109,\n",
              "  1040,\n",
              "  14943,\n",
              "  301,\n",
              "  3082,\n",
              "  129,\n",
              "  30,\n",
              "  664,\n",
              "  13617,\n",
              "  486,\n",
              "  649,\n",
              "  18339,\n",
              "  937,\n",
              "  6730,\n",
              "  21297,\n",
              "  1227,\n",
              "  8614,\n",
              "  2196,\n",
              "  1478,\n",
              "  5756,\n",
              "  43,\n",
              "  4741,\n",
              "  925,\n",
              "  4741,\n",
              "  2210,\n",
              "  8766,\n",
              "  149,\n",
              "  919,\n",
              "  22318,\n",
              "  2374,\n",
              "  168,\n",
              "  5072,\n",
              "  5765,\n",
              "  1858,\n",
              "  27237,\n",
              "  7227,\n",
              "  9940,\n",
              "  5611,\n",
              "  1049,\n",
              "  2761,\n",
              "  24288,\n",
              "  190,\n",
              "  298,\n",
              "  1332,\n",
              "  136,\n",
              "  209,\n",
              "  442,\n",
              "  7891,\n",
              "  5671,\n",
              "  12806,\n",
              "  623,\n",
              "  3996,\n",
              "  72,\n",
              "  1149,\n",
              "  2443,\n",
              "  19362,\n",
              "  28,\n",
              "  14513,\n",
              "  1884,\n",
              "  1125,\n",
              "  624,\n",
              "  35,\n",
              "  428,\n",
              "  3948,\n",
              "  1021,\n",
              "  44870,\n",
              "  19793,\n",
              "  42677,\n",
              "  17382,\n",
              "  19255,\n",
              "  14277,\n",
              "  2,\n",
              "  1179,\n",
              "  17,\n",
              "  21253,\n",
              "  7001,\n",
              "  2208,\n",
              "  265,\n",
              "  313,\n",
              "  1523,\n",
              "  5769,\n",
              "  1550,\n",
              "  17006,\n",
              "  2140,\n",
              "  74545,\n",
              "  13878,\n",
              "  3575,\n",
              "  636,\n",
              "  405,\n",
              "  4808,\n",
              "  2521,\n",
              "  12806,\n",
              "  184,\n",
              "  167,\n",
              "  220,\n",
              "  41,\n",
              "  121,\n",
              "  234,\n",
              "  352,\n",
              "  8844,\n",
              "  6752,\n",
              "  630,\n",
              "  20,\n",
              "  6507,\n",
              "  72,\n",
              "  1400,\n",
              "  6730,\n",
              "  2885,\n",
              "  24074,\n",
              "  10547,\n",
              "  3633,\n",
              "  1645,\n",
              "  25,\n",
              "  11701,\n",
              "  1335,\n",
              "  19425,\n",
              "  26,\n",
              "  281,\n",
              "  1574,\n",
              "  1143,\n",
              "  288,\n",
              "  13706,\n",
              "  5915,\n",
              "  46,\n",
              "  356,\n",
              "  7483,\n",
              "  1594,\n",
              "  5291,\n",
              "  48,\n",
              "  66,\n",
              "  322,\n",
              "  1189,\n",
              "  10076,\n",
              "  1121,\n",
              "  609,\n",
              "  365,\n",
              "  7,\n",
              "  1710,\n",
              "  8422,\n",
              "  636,\n",
              "  9825,\n",
              "  125,\n",
              "  604,\n",
              "  5314,\n",
              "  139,\n",
              "  387,\n",
              "  1623,\n",
              "  27,\n",
              "  86,\n",
              "  116,\n",
              "  10174,\n",
              "  123,\n",
              "  3709,\n",
              "  539,\n",
              "  8938,\n",
              "  130,\n",
              "  8072,\n",
              "  958,\n",
              "  9,\n",
              "  863,\n",
              "  13650,\n",
              "  699,\n",
              "  692,\n",
              "  29,\n",
              "  4716,\n",
              "  1583,\n",
              "  5915,\n",
              "  771,\n",
              "  33051,\n",
              "  5853,\n",
              "  968,\n",
              "  30802,\n",
              "  27471,\n",
              "  7237,\n",
              "  382,\n",
              "  314,\n",
              "  792,\n",
              "  13216,\n",
              "  1622,\n",
              "  10662,\n",
              "  2044,\n",
              "  313,\n",
              "  244,\n",
              "  199,\n",
              "  100,\n",
              "  1040,\n",
              "  14943,\n",
              "  5245,\n",
              "  19,\n",
              "  808,\n",
              "  4902,\n",
              "  922,\n",
              "  1023,\n",
              "  522,\n",
              "  96,\n",
              "  11],\n",
              " [216,\n",
              "  9,\n",
              "  3439,\n",
              "  760,\n",
              "  5000,\n",
              "  1850,\n",
              "  5915,\n",
              "  8,\n",
              "  2324,\n",
              "  54,\n",
              "  269,\n",
              "  748,\n",
              "  161,\n",
              "  2006,\n",
              "  58,\n",
              "  464,\n",
              "  404,\n",
              "  50,\n",
              "  213,\n",
              "  6,\n",
              "  139,\n",
              "  30,\n",
              "  1040,\n",
              "  14943,\n",
              "  423,\n",
              "  9,\n",
              "  2163,\n",
              "  217,\n",
              "  1163,\n",
              "  871,\n",
              "  185,\n",
              "  140,\n",
              "  4927,\n",
              "  23860,\n",
              "  21803,\n",
              "  23,\n",
              "  1708,\n",
              "  747,\n",
              "  14,\n",
              "  674,\n",
              "  123,\n",
              "  15304,\n",
              "  971,\n",
              "  992,\n",
              "  2918,\n",
              "  321,\n",
              "  747,\n",
              "  50,\n",
              "  155,\n",
              "  16,\n",
              "  2970,\n",
              "  6,\n",
              "  40801,\n",
              "  15273,\n",
              "  290,\n",
              "  1040,\n",
              "  14943,\n",
              "  679,\n",
              "  5915,\n",
              "  1357,\n",
              "  8,\n",
              "  246,\n",
              "  974,\n",
              "  87904,\n",
              "  14035,\n",
              "  774,\n",
              "  1273,\n",
              "  14035,\n",
              "  714,\n",
              "  2705,\n",
              "  140,\n",
              "  354,\n",
              "  1116,\n",
              "  2975,\n",
              "  64,\n",
              "  8,\n",
              "  1570,\n",
              "  2154,\n",
              "  123,\n",
              "  102,\n",
              "  679,\n",
              "  774,\n",
              "  1433,\n",
              "  1566,\n",
              "  209,\n",
              "  206,\n",
              "  246,\n",
              "  89,\n",
              "  10042,\n",
              "  826,\n",
              "  2,\n",
              "  988,\n",
              "  4236,\n",
              "  206,\n",
              "  1207,\n",
              "  841,\n",
              "  6386,\n",
              "  23,\n",
              "  595,\n",
              "  990,\n",
              "  7531,\n",
              "  84,\n",
              "  266,\n",
              "  490,\n",
              "  2787,\n",
              "  20,\n",
              "  18,\n",
              "  440,\n",
              "  2,\n",
              "  140,\n",
              "  14257,\n",
              "  250,\n",
              "  3490,\n",
              "  1617,\n",
              "  142,\n",
              "  15331,\n",
              "  70,\n",
              "  78,\n",
              "  8,\n",
              "  387,\n",
              "  5,\n",
              "  556,\n",
              "  22318,\n",
              "  430,\n",
              "  81,\n",
              "  5,\n",
              "  181],\n",
              " [17,\n",
              "  865,\n",
              "  1,\n",
              "  3,\n",
              "  3505,\n",
              "  107,\n",
              "  233,\n",
              "  17,\n",
              "  865,\n",
              "  88,\n",
              "  4,\n",
              "  32,\n",
              "  3110,\n",
              "  233,\n",
              "  2747,\n",
              "  1116,\n",
              "  560,\n",
              "  1213,\n",
              "  197,\n",
              "  863,\n",
              "  1,\n",
              "  22,\n",
              "  17,\n",
              "  88,\n",
              "  994,\n",
              "  2260,\n",
              "  51,\n",
              "  560,\n",
              "  556,\n",
              "  769,\n",
              "  186,\n",
              "  5178,\n",
              "  249,\n",
              "  65,\n",
              "  76,\n",
              "  271,\n",
              "  1362,\n",
              "  3760,\n",
              "  281,\n",
              "  864,\n",
              "  3473,\n",
              "  1116,\n",
              "  325,\n",
              "  6,\n",
              "  1521,\n",
              "  73,\n",
              "  1,\n",
              "  25815,\n",
              "  111,\n",
              "  1232,\n",
              "  3604,\n",
              "  621,\n",
              "  254,\n",
              "  11284,\n",
              "  994,\n",
              "  800,\n",
              "  292,\n",
              "  444,\n",
              "  400,\n",
              "  11284,\n",
              "  18],\n",
              " [367,\n",
              "  1849,\n",
              "  4051,\n",
              "  5073,\n",
              "  920,\n",
              "  770,\n",
              "  2420,\n",
              "  5456,\n",
              "  273,\n",
              "  17,\n",
              "  569,\n",
              "  2442,\n",
              "  2980,\n",
              "  6581,\n",
              "  67,\n",
              "  2588,\n",
              "  33,\n",
              "  565,\n",
              "  5002,\n",
              "  957,\n",
              "  1383,\n",
              "  155,\n",
              "  12767,\n",
              "  13429,\n",
              "  2801,\n",
              "  58,\n",
              "  240,\n",
              "  11151,\n",
              "  2591,\n",
              "  195,\n",
              "  400,\n",
              "  159,\n",
              "  341,\n",
              "  91,\n",
              "  32,\n",
              "  16,\n",
              "  304,\n",
              "  251,\n",
              "  3927,\n",
              "  319,\n",
              "  77793,\n",
              "  250,\n",
              "  4830,\n",
              "  68,\n",
              "  3393,\n",
              "  2861,\n",
              "  5569,\n",
              "  5097,\n",
              "  78,\n",
              "  1854,\n",
              "  998,\n",
              "  1196,\n",
              "  1251,\n",
              "  1849,\n",
              "  693,\n",
              "  10473,\n",
              "  8430,\n",
              "  24746,\n",
              "  298,\n",
              "  6774,\n",
              "  92,\n",
              "  421,\n",
              "  49,\n",
              "  758,\n",
              "  741,\n",
              "  5559,\n",
              "  3527,\n",
              "  798,\n",
              "  511,\n",
              "  3159,\n",
              "  2214,\n",
              "  12475,\n",
              "  1535,\n",
              "  1993,\n",
              "  10662,\n",
              "  421,\n",
              "  49,\n",
              "  4423,\n",
              "  115,\n",
              "  251,\n",
              "  5674,\n",
              "  3143,\n",
              "  10297,\n",
              "  1514,\n",
              "  2929,\n",
              "  35,\n",
              "  433,\n",
              "  10066,\n",
              "  2980,\n",
              "  298,\n",
              "  85,\n",
              "  13,\n",
              "  364,\n",
              "  6,\n",
              "  322,\n",
              "  71,\n",
              "  436,\n",
              "  8603,\n",
              "  2588,\n",
              "  5073,\n",
              "  30,\n",
              "  1,\n",
              "  283,\n",
              "  50,\n",
              "  67,\n",
              "  763,\n",
              "  6581],\n",
              " [133,\n",
              "  2,\n",
              "  42,\n",
              "  794,\n",
              "  565,\n",
              "  15155,\n",
              "  28863,\n",
              "  1915,\n",
              "  1448,\n",
              "  1711,\n",
              "  2066,\n",
              "  1759,\n",
              "  447,\n",
              "  561,\n",
              "  840,\n",
              "  2801,\n",
              "  58,\n",
              "  3047,\n",
              "  8281,\n",
              "  4115,\n",
              "  2066,\n",
              "  1949,\n",
              "  32617,\n",
              "  2,\n",
              "  116,\n",
              "  133,\n",
              "  2,\n",
              "  27,\n",
              "  2371,\n",
              "  3603,\n",
              "  523,\n",
              "  23450,\n",
              "  350,\n",
              "  4973,\n",
              "  17597,\n",
              "  14,\n",
              "  9,\n",
              "  838,\n",
              "  65,\n",
              "  301,\n",
              "  169,\n",
              "  5183,\n",
              "  26,\n",
              "  41,\n",
              "  97,\n",
              "  13936,\n",
              "  1159,\n",
              "  2772,\n",
              "  14,\n",
              "  2,\n",
              "  219,\n",
              "  2230,\n",
              "  28863,\n",
              "  6241,\n",
              "  100,\n",
              "  1370,\n",
              "  12,\n",
              "  4185,\n",
              "  659,\n",
              "  4089,\n",
              "  466,\n",
              "  12639,\n",
              "  5,\n",
              "  1,\n",
              "  65,\n",
              "  1431,\n",
              "  5475,\n",
              "  3833,\n",
              "  43,\n",
              "  67,\n",
              "  5]]"
            ]
          },
          "execution_count": 18,
          "metadata": {},
          "output_type": "execute_result"
        }
      ],
      "source": [
        "unseen_tokenized"
      ]
    },
    {
      "cell_type": "code",
      "execution_count": null,
      "metadata": {
        "id": "DpWlUA7R7t_b"
      },
      "outputs": [],
      "source": [
        "# Pooling instance to have maxlength of 100 tokens\n",
        "unseen_padded = pad_sequences(unseen_tokenized, padding='post', maxlen=100)"
      ]
    },
    {
      "cell_type": "code",
      "execution_count": null,
      "metadata": {
        "id": "Gdx5t60H7t_c",
        "outputId": "52a6d2a2-908a-4b73-dc56-628632fb71ad"
      },
      "outputs": [
        {
          "data": {
            "text/plain": [
              "array([[  879,  1740,   282,  1469,   150,   626,     3,  1434,  1291,\n",
              "            3,    62,     1,   806,  4114,  5415,  1989,   191,   806,\n",
              "           51,   854,    13,    88,    11,    16,  4012,     1,   589,\n",
              "         1958,  1398,    93,   113,  1014,    24,   270,     1,  2759,\n",
              "           62,  1014,     1, 14035, 25602,    25,   315,  1064,   115,\n",
              "         1852,   736,     1, 14035,  1776,     1,   315,  3822,    18,\n",
              "          383,  3822,   569,     1,  4051,    24,   284,   164,   624,\n",
              "        14035,   261,     1, 12806,    83,  5440,   294,  1776,     1,\n",
              "         1011,   213,   278,  1374,  1040, 14943,  3822,   897,    17,\n",
              "          151,   312,  1264,     1,  1928,   285,  1602, 14420,     1,\n",
              "         3172,     1,   122,   659,   140, 13082,  1645, 10209,  1615,\n",
              "          937],\n",
              "       [  121,   234,   352,  8844,  6752,   630,    20,  6507,    72,\n",
              "         1400,  6730,  2885, 24074, 10547,  3633,  1645,    25, 11701,\n",
              "         1335, 19425,    26,   281,  1574,  1143,   288, 13706,  5915,\n",
              "           46,   356,  7483,  1594,  5291,    48,    66,   322,  1189,\n",
              "        10076,  1121,   609,   365,     7,  1710,  8422,   636,  9825,\n",
              "          125,   604,  5314,   139,   387,  1623,    27,    86,   116,\n",
              "        10174,   123,  3709,   539,  8938,   130,  8072,   958,     9,\n",
              "          863, 13650,   699,   692,    29,  4716,  1583,  5915,   771,\n",
              "        33051,  5853,   968, 30802, 27471,  7237,   382,   314,   792,\n",
              "        13216,  1622, 10662,  2044,   313,   244,   199,   100,  1040,\n",
              "        14943,  5245,    19,   808,  4902,   922,  1023,   522,    96,\n",
              "           11],\n",
              "       [  217,  1163,   871,   185,   140,  4927, 23860, 21803,    23,\n",
              "         1708,   747,    14,   674,   123, 15304,   971,   992,  2918,\n",
              "          321,   747,    50,   155,    16,  2970,     6, 40801, 15273,\n",
              "          290,  1040, 14943,   679,  5915,  1357,     8,   246,   974,\n",
              "        87904, 14035,   774,  1273, 14035,   714,  2705,   140,   354,\n",
              "         1116,  2975,    64,     8,  1570,  2154,   123,   102,   679,\n",
              "          774,  1433,  1566,   209,   206,   246,    89, 10042,   826,\n",
              "            2,   988,  4236,   206,  1207,   841,  6386,    23,   595,\n",
              "          990,  7531,    84,   266,   490,  2787,    20,    18,   440,\n",
              "            2,   140, 14257,   250,  3490,  1617,   142, 15331,    70,\n",
              "           78,     8,   387,     5,   556, 22318,   430,    81,     5,\n",
              "          181],\n",
              "       [   17,   865,     1,     3,  3505,   107,   233,    17,   865,\n",
              "           88,     4,    32,  3110,   233,  2747,  1116,   560,  1213,\n",
              "          197,   863,     1,    22,    17,    88,   994,  2260,    51,\n",
              "          560,   556,   769,   186,  5178,   249,    65,    76,   271,\n",
              "         1362,  3760,   281,   864,  3473,  1116,   325,     6,  1521,\n",
              "           73,     1, 25815,   111,  1232,  3604,   621,   254, 11284,\n",
              "          994,   800,   292,   444,   400, 11284,    18,     0,     0,\n",
              "            0,     0,     0,     0,     0,     0,     0,     0,     0,\n",
              "            0,     0,     0,     0,     0,     0,     0,     0,     0,\n",
              "            0,     0,     0,     0,     0,     0,     0,     0,     0,\n",
              "            0,     0,     0,     0,     0,     0,     0,     0,     0,\n",
              "            0],\n",
              "       [ 5456,   273,    17,   569,  2442,  2980,  6581,    67,  2588,\n",
              "           33,   565,  5002,   957,  1383,   155, 12767, 13429,  2801,\n",
              "           58,   240, 11151,  2591,   195,   400,   159,   341,    91,\n",
              "           32,    16,   304,   251,  3927,   319, 77793,   250,  4830,\n",
              "           68,  3393,  2861,  5569,  5097,    78,  1854,   998,  1196,\n",
              "         1251,  1849,   693, 10473,  8430, 24746,   298,  6774,    92,\n",
              "          421,    49,   758,   741,  5559,  3527,   798,   511,  3159,\n",
              "         2214, 12475,  1535,  1993, 10662,   421,    49,  4423,   115,\n",
              "          251,  5674,  3143, 10297,  1514,  2929,    35,   433, 10066,\n",
              "         2980,   298,    85,    13,   364,     6,   322,    71,   436,\n",
              "         8603,  2588,  5073,    30,     1,   283,    50,    67,   763,\n",
              "         6581],\n",
              "       [  133,     2,    42,   794,   565, 15155, 28863,  1915,  1448,\n",
              "         1711,  2066,  1759,   447,   561,   840,  2801,    58,  3047,\n",
              "         8281,  4115,  2066,  1949, 32617,     2,   116,   133,     2,\n",
              "           27,  2371,  3603,   523, 23450,   350,  4973, 17597,    14,\n",
              "            9,   838,    65,   301,   169,  5183,    26,    41,    97,\n",
              "        13936,  1159,  2772,    14,     2,   219,  2230, 28863,  6241,\n",
              "          100,  1370,    12,  4185,   659,  4089,   466, 12639,     5,\n",
              "            1,    65,  1431,  5475,  3833,    43,    67,     5,     0,\n",
              "            0,     0,     0,     0,     0,     0,     0,     0,     0,\n",
              "            0,     0,     0,     0,     0,     0,     0,     0,     0,\n",
              "            0,     0,     0,     0,     0,     0,     0,     0,     0,\n",
              "            0]])"
            ]
          },
          "execution_count": 22,
          "metadata": {},
          "output_type": "execute_result"
        }
      ],
      "source": [
        "unseen_padded"
      ]
    },
    {
      "cell_type": "code",
      "execution_count": null,
      "metadata": {
        "colab": {
          "base_uri": "https://localhost:8080/"
        },
        "id": "4bh5LsCZhy7r",
        "outputId": "87d6340e-29bd-414c-d3cc-f04578af1783"
      },
      "outputs": [
        {
          "name": "stdout",
          "output_type": "stream",
          "text": [
            "1/1 [==============================] - 1s 1s/step\n"
          ]
        },
        {
          "data": {
            "text/plain": [
              "array([[0.8834934 ],\n",
              "       [0.99290115],\n",
              "       [0.31473464],\n",
              "       [0.27548054],\n",
              "       [0.97470117],\n",
              "       [0.04180601]], dtype=float32)"
            ]
          },
          "execution_count": 23,
          "metadata": {},
          "output_type": "execute_result"
        }
      ],
      "source": [
        "# Passing tokenised instance to the LSTM model for predictions\n",
        "unseen_sentiments = pretrained_lstm_model.predict(unseen_padded)\n",
        "\n",
        "unseen_sentiments"
      ]
    },
    {
      "cell_type": "code",
      "execution_count": null,
      "metadata": {
        "colab": {
          "base_uri": "https://localhost:8080/",
          "height": 238
        },
        "id": "b6W2OOeupUX8",
        "outputId": "0dcbd641-4639-4cf9-983a-0df352451623"
      },
      "outputs": [
        {
          "data": {
            "text/html": [
              "<div>\n",
              "<style scoped>\n",
              "    .dataframe tbody tr th:only-of-type {\n",
              "        vertical-align: middle;\n",
              "    }\n",
              "\n",
              "    .dataframe tbody tr th {\n",
              "        vertical-align: top;\n",
              "    }\n",
              "\n",
              "    .dataframe thead th {\n",
              "        text-align: right;\n",
              "    }\n",
              "</style>\n",
              "<table border=\"1\" class=\"dataframe\">\n",
              "  <thead>\n",
              "    <tr style=\"text-align: right;\">\n",
              "      <th></th>\n",
              "      <th>Movie</th>\n",
              "      <th>Review Text</th>\n",
              "      <th>IMDb Rating</th>\n",
              "      <th>Predicted Sentiments</th>\n",
              "    </tr>\n",
              "  </thead>\n",
              "  <tbody>\n",
              "    <tr>\n",
              "      <th>0</th>\n",
              "      <td>Ex Machina</td>\n",
              "      <td>Intelligent Movie.\\nThis movie is obviously al...</td>\n",
              "      <td>9</td>\n",
              "      <td>8.8</td>\n",
              "    </tr>\n",
              "    <tr>\n",
              "      <th>1</th>\n",
              "      <td>Ex Machina</td>\n",
              "      <td>Extraordinary and thought-provoking.\\n'Ex mach...</td>\n",
              "      <td>10</td>\n",
              "      <td>9.9</td>\n",
              "    </tr>\n",
              "    <tr>\n",
              "      <th>2</th>\n",
              "      <td>Ex Machina</td>\n",
              "      <td>Poor story, only reasonable otherwise.\\nIf I h...</td>\n",
              "      <td>3</td>\n",
              "      <td>3.1</td>\n",
              "    </tr>\n",
              "    <tr>\n",
              "      <th>3</th>\n",
              "      <td>Ex Machina</td>\n",
              "      <td>Had Great Potential.\\nThis movie is one of the...</td>\n",
              "      <td>1</td>\n",
              "      <td>2.8</td>\n",
              "    </tr>\n",
              "    <tr>\n",
              "      <th>4</th>\n",
              "      <td>Eternals</td>\n",
              "      <td>Amazing visuals and philosophical concepts!\\n\\...</td>\n",
              "      <td>10</td>\n",
              "      <td>9.7</td>\n",
              "    </tr>\n",
              "    <tr>\n",
              "      <th>5</th>\n",
              "      <td>Eternals</td>\n",
              "      <td>Worst MCU film ever\\n\\nFollowing the events of...</td>\n",
              "      <td>3</td>\n",
              "      <td>0.4</td>\n",
              "    </tr>\n",
              "  </tbody>\n",
              "</table>\n",
              "</div>"
            ],
            "text/plain": [
              "        Movie                                        Review Text  IMDb Rating  \\\n",
              "0  Ex Machina  Intelligent Movie.\\nThis movie is obviously al...            9   \n",
              "1  Ex Machina  Extraordinary and thought-provoking.\\n'Ex mach...           10   \n",
              "2  Ex Machina  Poor story, only reasonable otherwise.\\nIf I h...            3   \n",
              "3  Ex Machina  Had Great Potential.\\nThis movie is one of the...            1   \n",
              "4    Eternals  Amazing visuals and philosophical concepts!\\n\\...           10   \n",
              "5    Eternals  Worst MCU film ever\\n\\nFollowing the events of...            3   \n",
              "\n",
              "   Predicted Sentiments  \n",
              "0                   8.8  \n",
              "1                   9.9  \n",
              "2                   3.1  \n",
              "3                   2.8  \n",
              "4                   9.7  \n",
              "5                   0.4  "
            ]
          },
          "execution_count": 24,
          "metadata": {},
          "output_type": "execute_result"
        }
      ],
      "source": [
        "# Writing model output file back to Google Drive\n",
        "\n",
        "sample_reviews['Predicted Sentiments'] = np.round(unseen_sentiments*10,1)\n",
        "\n",
        "df_prediction_sentiments = pd.DataFrame(sample_reviews['Predicted Sentiments'], columns = ['Predicted Sentiments'])\n",
        "df_movie                 = pd.DataFrame(sample_reviews['Movie'], columns = ['Movie'])\n",
        "df_review_text           = pd.DataFrame(sample_reviews['Review Text'], columns = ['Review Text'])\n",
        "df_imdb_rating           = pd.DataFrame(sample_reviews['IMDb Rating'], columns = ['IMDb Rating'])\n",
        "\n",
        "\n",
        "dfx=pd.concat([df_movie, df_review_text, df_imdb_rating, df_prediction_sentiments], axis=1)\n",
        "\n",
        "dfx.to_csv(\"c2_IMDb_Unseen_Predictions.csv\", sep=',', encoding='UTF-8')\n",
        "\n",
        "dfx.head(6)"
      ]
    },
    {
      "cell_type": "code",
      "execution_count": null,
      "metadata": {
        "id": "h3Mm7SvZ7t_c",
        "outputId": "1ffc0244-ac5a-4908-e422-0983a9512de4"
      },
      "outputs": [
        {
          "data": {
            "text/plain": [
              "array([[0.8834934 ],\n",
              "       [0.99290115],\n",
              "       [0.31473464],\n",
              "       [0.27548054],\n",
              "       [0.97470117],\n",
              "       [0.04180601]], dtype=float32)"
            ]
          },
          "execution_count": 25,
          "metadata": {},
          "output_type": "execute_result"
        }
      ],
      "source": [
        "unseen_sentiments"
      ]
    },
    {
      "cell_type": "code",
      "execution_count": null,
      "metadata": {
        "scrolled": true,
        "id": "w3IZZTHy7t_c",
        "outputId": "736082e9-7728-4e89-d307-81d6b894919d"
      },
      "outputs": [
        {
          "data": {
            "text/plain": [
              "0.8834934"
            ]
          },
          "execution_count": 28,
          "metadata": {},
          "output_type": "execute_result"
        }
      ],
      "source": [
        "unseen_sentiments[0][0]"
      ]
    },
    {
      "cell_type": "code",
      "execution_count": null,
      "metadata": {
        "id": "RtFE9yri7t_d"
      },
      "outputs": [],
      "source": [
        "prediction_text= f\"Positive Review with probable IMDb rating as: {np.round(unseen_sentiments[0][0]*10,1)}\""
      ]
    },
    {
      "cell_type": "code",
      "execution_count": null,
      "metadata": {
        "id": "LEq7Fbxn7t_d",
        "outputId": "ebc15836-0fde-4d83-fe75-065ab5ea7116"
      },
      "outputs": [
        {
          "data": {
            "text/plain": [
              "'Positive Review with probable IMDb rating as: 8.8'"
            ]
          },
          "execution_count": 42,
          "metadata": {},
          "output_type": "execute_result"
        }
      ],
      "source": [
        "prediction_text"
      ]
    }
  ],
  "metadata": {
    "colab": {
      "provenance": [],
      "include_colab_link": true
    },
    "kernelspec": {
      "display_name": "Python 3",
      "name": "python3"
    },
    "language_info": {
      "codemirror_mode": {
        "name": "ipython",
        "version": 3
      },
      "file_extension": ".py",
      "mimetype": "text/x-python",
      "name": "python",
      "nbconvert_exporter": "python",
      "pygments_lexer": "ipython3",
      "version": "3.9.12"
    }
  },
  "nbformat": 4,
  "nbformat_minor": 0
}